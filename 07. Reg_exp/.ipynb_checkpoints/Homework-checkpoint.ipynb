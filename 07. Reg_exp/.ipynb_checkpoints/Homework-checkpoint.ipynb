{
 "cells": [
  {
   "cell_type": "code",
   "execution_count": null,
   "metadata": {},
   "outputs": [],
   "source": [
    "import re"
   ]
  },
  {
   "cell_type": "markdown",
   "metadata": {},
   "source": [
    "### Задание 1\n",
    "Напишите функцию, которая принимает на вход строку и проверяет является ли она валидным транспортным номером (1 буква, 3 цифры, 2 буквы, 2-3 цифры). Обратите внимание, что не все буквы кириллического алфавита используются в транспортных номерах.\n",
    "\n",
    "Если номер валиден, то функция должна возвращать отдельно номер и регион.\n",
    "\n",
    "###### Примечание\n",
    "Так как в задаче явно имеются в виду номера РФ, буквы номера вводятся в русскоязычной раскладке клавиатуры."
   ]
  },
  {
   "cell_type": "code",
   "execution_count": null,
   "metadata": {},
   "outputs": [],
   "source": [
    "def valid_number (car_id):\n",
    "    russian_letters = '[АВЕКМНОРСТУХ]'\n",
    "    regex_id = r'^('+russian_letters+'\\d{3}'+russian_letters+'{2})(\\d{2,3})$'\n",
    "    search_result = re.search(regex_id, car_id)\n",
    "    if search_result:\n",
    "        return (f'Номер {search_result.group(1)} валиден. Регион: {search_result.group(2)}')\n",
    "    else:\n",
    "        return ('Номер не валиден')\n",
    "    \n",
    "\n",
    "valid_number('А222ВС96')"
   ]
  },
  {
   "cell_type": "markdown",
   "metadata": {},
   "source": [
    "### Задание 2\n",
    "Напишите функцию, которая будет удалять все последовательные повторы слов из заданной строки при помощи регулярных выражений."
   ]
  },
  {
   "cell_type": "code",
   "execution_count": null,
   "metadata": {},
   "outputs": [],
   "source": [
    "def del_dupl(some_string):\n",
    "    return re.sub(r'(\\w+)[\\s.,](\\1[\\s.,!?:])+', r'\\2', some_string)\n",
    "\n",
    "some_string = 'Напишите функцию функцию, которая будет будет будет будет удалять все все все все последовательные повторы слов из из из из заданной строки строки при помощи регулярных выражений.'\n",
    "del_dupl(some_string)"
   ]
  },
  {
   "cell_type": "markdown",
   "metadata": {},
   "source": [
    "### Задание 3\n",
    "\n",
    "Напишите функцию, которая будет возвращать акроним по переданной в нее строке со словами."
   ]
  },
  {
   "cell_type": "code",
   "execution_count": null,
   "metadata": {},
   "outputs": [],
   "source": [
    "def acronim(some_words):\n",
    "    return re.sub(r'(\\w)\\w+\\s*',  r'\\1', some_words).upper()\n",
    "\n",
    "\n",
    "some_words = 'Near Field Communication'\n",
    "acronim(some_words)"
   ]
  },
  {
   "cell_type": "markdown",
   "metadata": {},
   "source": [
    "### Задание 4\n",
    "\n",
    "Напишите функцию, которая будет принимать на вход список email-адресов и выводить их распределение по доменным зонам."
   ]
  },
  {
   "cell_type": "code",
   "execution_count": null,
   "metadata": {},
   "outputs": [],
   "source": [
    "def domens_count(emails):\n",
    "    domens_dict = {}\n",
    "    for email in emails:\n",
    "        domen = re.search(r'.+@(.+)', email).group(1)\n",
    "        #domen = re.sub(r'.+@(.+)', r'\\1', email) - тоже работает\n",
    "        domens_dict.setdefault(domen, 0)\n",
    "        domens_dict[domen] += 1\n",
    "    return domens_dict\n",
    "\n",
    "\n",
    "emails = ['test@gmail.com', 'xyz@test.in', 'test@ya.ru', 'xyz@mail.ru', 'xyz@ya.ru', 'xyz@gmail.com']\n",
    "domens_count(emails)\n"
   ]
  },
  {
   "cell_type": "markdown",
   "metadata": {},
   "source": [
    "### Задание 5\n",
    "\n",
    "Напишите функцию, которая будет подсчитывать сколько слов начинается на гласные, а сколько на согласные буквы в тексте (текст может быть написан как с использованием букв кириллицы, так и латиницы)."
   ]
  },
  {
   "cell_type": "code",
   "execution_count": null,
   "metadata": {},
   "outputs": [],
   "source": [
    "def count_letters(some_text):\n",
    "    vovels = 'АЕЁИОУЫЭЮЯAEIJOQUY'\n",
    "    reg = r'(?<!\\w)['+vovels + vovels.lower()+']\\w+[\\s.,:?!]'\n",
    "    print(f'Слов на гласные буквыre: {len(re.findall(reg, some_text))}')\n",
    "    reg = r'(?<!\\w)[^'+vovels + vovels.lower()+']\\w+[\\s.,:?!]'\n",
    "    print(f'Слов на согласные буквыre: {len(re.findall(reg, some_text))}')\n",
    "    \n",
    "\n",
    "some_text = 'Эталонной реализацией Python является интерпретатор CPython, поддерживающий большинство активно используемых платформ. Он распространяется под свободной лицензией Python Software Foundation License, позволяющей использовать его без ограничений в любых приложениях, включая проприетарные.'\n",
    "count_letters(some_text)"
   ]
  },
  {
   "cell_type": "markdown",
   "metadata": {},
   "source": [
    "### Задание 6\n",
    "\n",
    "Напишите функцию, которая будет проверять номер сотового телефона на валидность (только для российского формата), если он валиден, то переводить его в формат:\n",
    "\n",
    "+7-xxx-xxx-xx-xx\n",
    "\n",
    "Постарайтесь предусмотреть как можно больше адекватных форматов изначального ввода номера. "
   ]
  },
  {
   "cell_type": "code",
   "execution_count": null,
   "metadata": {},
   "outputs": [],
   "source": [
    "phone = '123-456-789'\n",
    "regex_phone = r'^\\+?[7,8]?[-\\s(]?(\\d{3})[-\\s)]?\\s?(\\d{3})[-\\s]?(\\d{2})[-\\s]?(\\d{2})$'\n",
    "search_result = re.search(regex_phone, phone)\n",
    "if search_result:\n",
    "    print (r'+7-'+search_result.group(1)+'-'+search_result.group(2)+'-'+search_result.group(3))\n",
    "else:\n",
    "    print ('Номер не валиден')\n"
   ]
  }
 ],
 "metadata": {
  "kernelspec": {
   "display_name": "Python 3",
   "language": "python",
   "name": "python3"
  },
  "language_info": {
   "codemirror_mode": {
    "name": "ipython",
    "version": 3
   },
   "file_extension": ".py",
   "mimetype": "text/x-python",
   "name": "python",
   "nbconvert_exporter": "python",
   "pygments_lexer": "ipython3",
   "version": "3.7.9"
  }
 },
 "nbformat": 4,
 "nbformat_minor": 4
}
