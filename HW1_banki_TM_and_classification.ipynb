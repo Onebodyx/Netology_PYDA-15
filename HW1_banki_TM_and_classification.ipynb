{
 "cells": [
  {
   "cell_type": "code",
   "execution_count": 1,
   "metadata": {
    "id": "h1dvK7H_qauH"
   },
   "outputs": [],
   "source": [
    "import json\n",
    "\n",
    "import bz2\n",
    "import regex\n",
    "from tqdm import tqdm\n",
    "from scipy import sparse"
   ]
  },
  {
   "cell_type": "code",
   "execution_count": 2,
   "metadata": {
    "id": "_ZsoxOinqauK",
    "outputId": "1b349b33-f266-404a-fa55-4088784d8897"
   },
   "outputs": [
    {
     "name": "stdout",
     "output_type": "stream",
     "text": [
      "Populating the interactive namespace from numpy and matplotlib\n"
     ]
    }
   ],
   "source": [
    "import pandas as pd\n",
    "import numpy as np\n",
    "import nltk\n",
    "import matplotlib.pyplot as plt\n",
    "import seaborn as sns\n",
    "%matplotlib inline\n",
    "%pylab inline"
   ]
  },
  {
   "cell_type": "code",
   "execution_count": 3,
   "metadata": {
    "id": "UNHVsbPnqauL",
    "outputId": "e8d7d7f4-576b-4846-b06a-f3b4a08adb95",
    "scrolled": true
   },
   "outputs": [
    {
     "name": "stderr",
     "output_type": "stream",
     "text": [
      "201030it [00:53, 3735.41it/s]\n"
     ]
    }
   ],
   "source": [
    "responses = []\n",
    "with bz2.BZ2File('banki_responses.json.bz2', 'r') as thefile:\n",
    "    for row in tqdm(thefile):\n",
    "        resp = json.loads(row)\n",
    "        if not resp['rating_not_checked'] and (len(resp['text'].split()) > 0):\n",
    "            responses.append(resp)"
   ]
  },
  {
   "cell_type": "markdown",
   "metadata": {},
   "source": [
    "### Часть 1. Анализ текстов"
   ]
  },
  {
   "cell_type": "markdown",
   "metadata": {},
   "source": [
    "1. Посчитайте количество отзывов в разных городах на разные банки"
   ]
  },
  {
   "cell_type": "code",
   "execution_count": 138,
   "metadata": {},
   "outputs": [],
   "source": [
    "import pandas as pd"
   ]
  },
  {
   "cell_type": "code",
   "execution_count": 139,
   "metadata": {},
   "outputs": [],
   "source": [
    "resp_df = pd.DataFrame(responses)"
   ]
  },
  {
   "cell_type": "code",
   "execution_count": 140,
   "metadata": {},
   "outputs": [
    {
     "data": {
      "text/html": [
       "<div>\n",
       "<style scoped>\n",
       "    .dataframe tbody tr th:only-of-type {\n",
       "        vertical-align: middle;\n",
       "    }\n",
       "\n",
       "    .dataframe tbody tr th {\n",
       "        vertical-align: top;\n",
       "    }\n",
       "\n",
       "    .dataframe thead th {\n",
       "        text-align: right;\n",
       "    }\n",
       "</style>\n",
       "<table border=\"1\" class=\"dataframe\">\n",
       "  <thead>\n",
       "    <tr style=\"text-align: right;\">\n",
       "      <th></th>\n",
       "      <th>city</th>\n",
       "      <th>rating_not_checked</th>\n",
       "      <th>title</th>\n",
       "      <th>num_comments</th>\n",
       "      <th>bank_license</th>\n",
       "      <th>author</th>\n",
       "      <th>bank_name</th>\n",
       "      <th>datetime</th>\n",
       "      <th>text</th>\n",
       "      <th>rating_grade</th>\n",
       "    </tr>\n",
       "  </thead>\n",
       "  <tbody>\n",
       "    <tr>\n",
       "      <th>0</th>\n",
       "      <td>г. Москва</td>\n",
       "      <td>False</td>\n",
       "      <td>Жалоба</td>\n",
       "      <td>0</td>\n",
       "      <td>лицензия № 2562</td>\n",
       "      <td>uhnov1</td>\n",
       "      <td>Бинбанк</td>\n",
       "      <td>2015-06-08 12:50:54</td>\n",
       "      <td>Добрый день! Я не являюсь клиентом банка и пор...</td>\n",
       "      <td>NaN</td>\n",
       "    </tr>\n",
       "    <tr>\n",
       "      <th>1</th>\n",
       "      <td>г. Новосибирск</td>\n",
       "      <td>False</td>\n",
       "      <td>Не могу пользоваться услугой Сбербанк он-лайн</td>\n",
       "      <td>0</td>\n",
       "      <td>лицензия № 1481</td>\n",
       "      <td>Foryou</td>\n",
       "      <td>Сбербанк России</td>\n",
       "      <td>2015-06-08 11:09:57</td>\n",
       "      <td>Доброго дня! Являюсь держателем зарплатной кар...</td>\n",
       "      <td>NaN</td>\n",
       "    </tr>\n",
       "    <tr>\n",
       "      <th>2</th>\n",
       "      <td>г. Москва</td>\n",
       "      <td>False</td>\n",
       "      <td>Двойное списание за один товар.</td>\n",
       "      <td>1</td>\n",
       "      <td>лицензия № 2562</td>\n",
       "      <td>Vladimir84</td>\n",
       "      <td>Бинбанк</td>\n",
       "      <td>2015-06-05 20:14:28</td>\n",
       "      <td>Здравствуйте!  Дублирую свое заявление от 03.0...</td>\n",
       "      <td>NaN</td>\n",
       "    </tr>\n",
       "    <tr>\n",
       "      <th>3</th>\n",
       "      <td>г. Ставрополь</td>\n",
       "      <td>False</td>\n",
       "      <td>Меняют проценты комиссии  не предупредив и не ...</td>\n",
       "      <td>2</td>\n",
       "      <td>лицензия № 1481</td>\n",
       "      <td>643609</td>\n",
       "      <td>Сбербанк России</td>\n",
       "      <td>2015-06-05 13:51:01</td>\n",
       "      <td>Добрый день!! Я открыл расчетный счет в СберБа...</td>\n",
       "      <td>NaN</td>\n",
       "    </tr>\n",
       "    <tr>\n",
       "      <th>4</th>\n",
       "      <td>г. Челябинск</td>\n",
       "      <td>False</td>\n",
       "      <td>Верните денежные средства за страховку</td>\n",
       "      <td>1</td>\n",
       "      <td>лицензия № 2766</td>\n",
       "      <td>anfisa-2003</td>\n",
       "      <td>ОТП Банк</td>\n",
       "      <td>2015-06-05 10:58:12</td>\n",
       "      <td>04.03.2015 г. взяла кредит в вашем банке, заяв...</td>\n",
       "      <td>NaN</td>\n",
       "    </tr>\n",
       "  </tbody>\n",
       "</table>\n",
       "</div>"
      ],
      "text/plain": [
       "             city  rating_not_checked  \\\n",
       "0       г. Москва               False   \n",
       "1  г. Новосибирск               False   \n",
       "2       г. Москва               False   \n",
       "3   г. Ставрополь               False   \n",
       "4    г. Челябинск               False   \n",
       "\n",
       "                                               title  num_comments  \\\n",
       "0                                             Жалоба             0   \n",
       "1      Не могу пользоваться услугой Сбербанк он-лайн             0   \n",
       "2                    Двойное списание за один товар.             1   \n",
       "3  Меняют проценты комиссии  не предупредив и не ...             2   \n",
       "4             Верните денежные средства за страховку             1   \n",
       "\n",
       "      bank_license       author        bank_name             datetime  \\\n",
       "0  лицензия № 2562       uhnov1          Бинбанк  2015-06-08 12:50:54   \n",
       "1  лицензия № 1481       Foryou  Сбербанк России  2015-06-08 11:09:57   \n",
       "2  лицензия № 2562   Vladimir84          Бинбанк  2015-06-05 20:14:28   \n",
       "3  лицензия № 1481       643609  Сбербанк России  2015-06-05 13:51:01   \n",
       "4  лицензия № 2766  anfisa-2003         ОТП Банк  2015-06-05 10:58:12   \n",
       "\n",
       "                                                text  rating_grade  \n",
       "0  Добрый день! Я не являюсь клиентом банка и пор...           NaN  \n",
       "1  Доброго дня! Являюсь держателем зарплатной кар...           NaN  \n",
       "2  Здравствуйте!  Дублирую свое заявление от 03.0...           NaN  \n",
       "3  Добрый день!! Я открыл расчетный счет в СберБа...           NaN  \n",
       "4  04.03.2015 г. взяла кредит в вашем банке, заяв...           NaN  "
      ]
     },
     "execution_count": 140,
     "metadata": {},
     "output_type": "execute_result"
    }
   ],
   "source": [
    "resp_df.head()"
   ]
  },
  {
   "cell_type": "code",
   "execution_count": 8,
   "metadata": {},
   "outputs": [
    {
     "data": {
      "text/plain": [
       "(153499, 10)"
      ]
     },
     "execution_count": 8,
     "metadata": {},
     "output_type": "execute_result"
    }
   ],
   "source": [
    "resp_df.shape"
   ]
  },
  {
   "cell_type": "code",
   "execution_count": 9,
   "metadata": {},
   "outputs": [
    {
     "data": {
      "text/plain": [
       "г. Москва                  55354\n",
       "г. Санкт-Петербург         14342\n",
       "г. Екатеринбург             2337\n",
       "г. Новосибирск              2300\n",
       "г. Нижний Новгород          1976\n",
       "                           ...  \n",
       "г. СПб и Москва                1\n",
       "г. Бийск (Москва)              1\n",
       "г. Симбирск (Ульяновск)        1\n",
       "г. Плесецк                     1\n",
       "г. с.Топольное                 1\n",
       "Name: city, Length: 5823, dtype: int64"
      ]
     },
     "execution_count": 9,
     "metadata": {},
     "output_type": "execute_result"
    }
   ],
   "source": [
    "resp_df.city.value_counts()"
   ]
  },
  {
   "cell_type": "code",
   "execution_count": 10,
   "metadata": {},
   "outputs": [
    {
     "data": {
      "text/plain": [
       "Сбербанк России               26327\n",
       "Альфа-Банк                    10224\n",
       "ВТБ 24                         8185\n",
       "Русский Стандарт               7943\n",
       "Хоум Кредит Банк               7549\n",
       "                              ...  \n",
       "Москва-Сити                       1\n",
       "ИНГ Банк                          1\n",
       "Камабанк                          1\n",
       "Национальный Торговый Банк        1\n",
       "Златкомбанк                       1\n",
       "Name: bank_name, Length: 670, dtype: int64"
      ]
     },
     "execution_count": 10,
     "metadata": {},
     "output_type": "execute_result"
    }
   ],
   "source": [
    "resp_df.bank_name.value_counts()"
   ]
  },
  {
   "cell_type": "markdown",
   "metadata": {},
   "source": [
    "2. Постройте гистограммы длин слов в символах и в словах"
   ]
  },
  {
   "cell_type": "code",
   "execution_count": 11,
   "metadata": {},
   "outputs": [],
   "source": [
    "# \"Постройте гистограммы длин слов в словах\" - это круто.\n",
    "# Вероятно, имелось в виду \"Постройте гистограммы длин отзывов в символах и в словах\" - тогда это делает смысл."
   ]
  },
  {
   "cell_type": "code",
   "execution_count": 12,
   "metadata": {},
   "outputs": [
    {
     "data": {
      "text/plain": [
       "<AxesSubplot:>"
      ]
     },
     "execution_count": 12,
     "metadata": {},
     "output_type": "execute_result"
    },
    {
     "data": {
      "image/png": "[encoded data removed]",
      "text/plain": [
       "<Figure size 432x288 with 1 Axes>"
      ]
     },
     "metadata": {
      "needs_background": "light"
     },
     "output_type": "display_data"
    }
   ],
   "source": [
    "# гистограмма длин отзывов в символах\n",
    "resp_df.text.apply(len).hist()"
   ]
  },
  {
   "cell_type": "code",
   "execution_count": 13,
   "metadata": {},
   "outputs": [
    {
     "data": {
      "text/plain": [
       "<AxesSubplot:>"
      ]
     },
     "execution_count": 13,
     "metadata": {},
     "output_type": "execute_result"
    },
    {
     "data": {
      "image/png": "[encoded data removed]",
      "text/plain": [
       "<Figure size 432x288 with 1 Axes>"
      ]
     },
     "metadata": {
      "needs_background": "light"
     },
     "output_type": "display_data"
    }
   ],
   "source": [
    "# гистограмма длин отзывов в словах\n",
    "resp_df.text.apply(lambda x: len(x.split())).hist()"
   ]
  },
  {
   "cell_type": "markdown",
   "metadata": {},
   "source": [
    "3. Найдите 10 самых частых:"
   ]
  },
  {
   "cell_type": "code",
   "execution_count": 14,
   "metadata": {},
   "outputs": [
    {
     "name": "stderr",
     "output_type": "stream",
     "text": [
      "100%|██████████| 153499/153499 [05:02<00:00, 507.27it/s] \n"
     ]
    }
   ],
   "source": [
    "from nltk.tokenize import word_tokenize\n",
    "from string import punctuation\n",
    "from collections import Counter\n",
    "\n",
    "corpus = [token for response in tqdm(resp_df.text) for token in word_tokenize(response) if token not in punctuation]"
   ]
  },
  {
   "cell_type": "code",
   "execution_count": 15,
   "metadata": {},
   "outputs": [
    {
     "data": {
      "text/plain": [
       "[('в', 1169557),\n",
       " ('и', 980761),\n",
       " ('не', 816419),\n",
       " ('на', 638715),\n",
       " ('что', 603171),\n",
       " ('я', 443478),\n",
       " ('с', 428021),\n",
       " ('по', 338743),\n",
       " ('мне', 293980),\n",
       " ('банка', 235176)]"
      ]
     },
     "execution_count": 15,
     "metadata": {},
     "output_type": "execute_result"
    }
   ],
   "source": [
    "# топ 10 слов\n",
    "freq_dict = Counter(corpus)\n",
    "freq_dict.most_common(10)"
   ]
  },
  {
   "cell_type": "code",
   "execution_count": 16,
   "metadata": {},
   "outputs": [
    {
     "name": "stderr",
     "output_type": "stream",
     "text": [
      "100%|██████████| 540842/540842 [02:52<00:00, 3140.25it/s]\n"
     ]
    }
   ],
   "source": [
    "# сразу создадим словарь, в котором будет содержатсья вся информация о каждом встречаемом слове\n",
    "# это существенно сэкономит время и оперативку\n",
    "\n",
    "from nltk.corpus import stopwords\n",
    "stops_rus = stopwords.words('russian')\n",
    "from pymorphy2 import MorphAnalyzer\n",
    "pymorphy2_analyzer = MorphAnalyzer()\n",
    "\n",
    "corpus_with_params = {}\n",
    "\n",
    "for word, count in tqdm(freq_dict.items()):\n",
    "    corpus_with_params[word] = {'count': count,\n",
    "                                'is_stop': word in stops_rus,\n",
    "                                'normal_form': pymorphy2_analyzer.parse(word)[0].normal_form,\n",
    "                                'tag': pymorphy2_analyzer.parse(word)[0].tag.POS}\n",
    "    \n",
    "corpus = ''"
   ]
  },
  {
   "cell_type": "code",
   "execution_count": 17,
   "metadata": {},
   "outputs": [],
   "source": [
    "word_params_df = pd.DataFrame(corpus_with_params).T"
   ]
  },
  {
   "cell_type": "code",
   "execution_count": 18,
   "metadata": {},
   "outputs": [
    {
     "data": {
      "text/html": [
       "<div>\n",
       "<style scoped>\n",
       "    .dataframe tbody tr th:only-of-type {\n",
       "        vertical-align: middle;\n",
       "    }\n",
       "\n",
       "    .dataframe tbody tr th {\n",
       "        vertical-align: top;\n",
       "    }\n",
       "\n",
       "    .dataframe thead th {\n",
       "        text-align: right;\n",
       "    }\n",
       "</style>\n",
       "<table border=\"1\" class=\"dataframe\">\n",
       "  <thead>\n",
       "    <tr style=\"text-align: right;\">\n",
       "      <th></th>\n",
       "      <th>count</th>\n",
       "      <th>is_stop</th>\n",
       "      <th>normal_form</th>\n",
       "      <th>tag</th>\n",
       "    </tr>\n",
       "  </thead>\n",
       "  <tbody>\n",
       "    <tr>\n",
       "      <th>Добрый</th>\n",
       "      <td>17397</td>\n",
       "      <td>False</td>\n",
       "      <td>добрый</td>\n",
       "      <td>ADJF</td>\n",
       "    </tr>\n",
       "    <tr>\n",
       "      <th>день</th>\n",
       "      <td>74627</td>\n",
       "      <td>False</td>\n",
       "      <td>день</td>\n",
       "      <td>NOUN</td>\n",
       "    </tr>\n",
       "    <tr>\n",
       "      <th>Я</th>\n",
       "      <td>130418</td>\n",
       "      <td>False</td>\n",
       "      <td>я</td>\n",
       "      <td>NPRO</td>\n",
       "    </tr>\n",
       "    <tr>\n",
       "      <th>не</th>\n",
       "      <td>816419</td>\n",
       "      <td>True</td>\n",
       "      <td>не</td>\n",
       "      <td>PRCL</td>\n",
       "    </tr>\n",
       "    <tr>\n",
       "      <th>являюсь</th>\n",
       "      <td>13763</td>\n",
       "      <td>False</td>\n",
       "      <td>являться</td>\n",
       "      <td>VERB</td>\n",
       "    </tr>\n",
       "  </tbody>\n",
       "</table>\n",
       "</div>"
      ],
      "text/plain": [
       "          count is_stop normal_form   tag\n",
       "Добрый    17397   False      добрый  ADJF\n",
       "день      74627   False        день  NOUN\n",
       "Я        130418   False           я  NPRO\n",
       "не       816419    True          не  PRCL\n",
       "являюсь   13763   False    являться  VERB"
      ]
     },
     "execution_count": 18,
     "metadata": {},
     "output_type": "execute_result"
    }
   ],
   "source": [
    "word_params_df.head()"
   ]
  },
  {
   "cell_type": "code",
   "execution_count": 19,
   "metadata": {},
   "outputs": [
    {
     "data": {
      "text/html": [
       "<div>\n",
       "<style scoped>\n",
       "    .dataframe tbody tr th:only-of-type {\n",
       "        vertical-align: middle;\n",
       "    }\n",
       "\n",
       "    .dataframe tbody tr th {\n",
       "        vertical-align: top;\n",
       "    }\n",
       "\n",
       "    .dataframe thead th {\n",
       "        text-align: right;\n",
       "    }\n",
       "</style>\n",
       "<table border=\"1\" class=\"dataframe\">\n",
       "  <thead>\n",
       "    <tr style=\"text-align: right;\">\n",
       "      <th></th>\n",
       "      <th>count</th>\n",
       "      <th>is_stop</th>\n",
       "      <th>normal_form</th>\n",
       "      <th>tag</th>\n",
       "    </tr>\n",
       "  </thead>\n",
       "  <tbody>\n",
       "    <tr>\n",
       "      <th>банка</th>\n",
       "      <td>235176</td>\n",
       "      <td>False</td>\n",
       "      <td>банк</td>\n",
       "      <td>NOUN</td>\n",
       "    </tr>\n",
       "    <tr>\n",
       "      <th>``</th>\n",
       "      <td>220777</td>\n",
       "      <td>False</td>\n",
       "      <td>``</td>\n",
       "      <td>None</td>\n",
       "    </tr>\n",
       "    <tr>\n",
       "      <th>''</th>\n",
       "      <td>215526</td>\n",
       "      <td>False</td>\n",
       "      <td>''</td>\n",
       "      <td>None</td>\n",
       "    </tr>\n",
       "    <tr>\n",
       "      <th>банк</th>\n",
       "      <td>159569</td>\n",
       "      <td>False</td>\n",
       "      <td>банк</td>\n",
       "      <td>NOUN</td>\n",
       "    </tr>\n",
       "    <tr>\n",
       "      <th>это</th>\n",
       "      <td>158915</td>\n",
       "      <td>False</td>\n",
       "      <td>это</td>\n",
       "      <td>PRCL</td>\n",
       "    </tr>\n",
       "    <tr>\n",
       "      <th>В</th>\n",
       "      <td>152959</td>\n",
       "      <td>False</td>\n",
       "      <td>в</td>\n",
       "      <td>PREP</td>\n",
       "    </tr>\n",
       "    <tr>\n",
       "      <th>Я</th>\n",
       "      <td>130418</td>\n",
       "      <td>False</td>\n",
       "      <td>я</td>\n",
       "      <td>NPRO</td>\n",
       "    </tr>\n",
       "    <tr>\n",
       "      <th>деньги</th>\n",
       "      <td>121778</td>\n",
       "      <td>False</td>\n",
       "      <td>деньга</td>\n",
       "      <td>NOUN</td>\n",
       "    </tr>\n",
       "    <tr>\n",
       "      <th>...</th>\n",
       "      <td>113647</td>\n",
       "      <td>False</td>\n",
       "      <td>...</td>\n",
       "      <td>None</td>\n",
       "    </tr>\n",
       "    <tr>\n",
       "      <th>карту</th>\n",
       "      <td>101181</td>\n",
       "      <td>False</td>\n",
       "      <td>карта</td>\n",
       "      <td>NOUN</td>\n",
       "    </tr>\n",
       "  </tbody>\n",
       "</table>\n",
       "</div>"
      ],
      "text/plain": [
       "         count is_stop normal_form   tag\n",
       "банка   235176   False        банк  NOUN\n",
       "``      220777   False          ``  None\n",
       "''      215526   False          ''  None\n",
       "банк    159569   False        банк  NOUN\n",
       "это     158915   False         это  PRCL\n",
       "В       152959   False           в  PREP\n",
       "Я       130418   False           я  NPRO\n",
       "деньги  121778   False      деньга  NOUN\n",
       "...     113647   False         ...  None\n",
       "карту   101181   False       карта  NOUN"
      ]
     },
     "execution_count": 19,
     "metadata": {},
     "output_type": "execute_result"
    }
   ],
   "source": [
    "# топ 10 слов без стоп-слов\n",
    "\n",
    "word_params_df[word_params_df.is_stop == False].sort_values(['count'], ascending = False)[:10]"
   ]
  },
  {
   "cell_type": "code",
   "execution_count": 20,
   "metadata": {},
   "outputs": [
    {
     "data": {
      "text/html": [
       "<div>\n",
       "<style scoped>\n",
       "    .dataframe tbody tr th:only-of-type {\n",
       "        vertical-align: middle;\n",
       "    }\n",
       "\n",
       "    .dataframe tbody tr th {\n",
       "        vertical-align: top;\n",
       "    }\n",
       "\n",
       "    .dataframe thead th {\n",
       "        text-align: right;\n",
       "    }\n",
       "</style>\n",
       "<table border=\"1\" class=\"dataframe\">\n",
       "  <thead>\n",
       "    <tr style=\"text-align: right;\">\n",
       "      <th></th>\n",
       "      <th>count</th>\n",
       "    </tr>\n",
       "    <tr>\n",
       "      <th>normal_form</th>\n",
       "      <th></th>\n",
       "    </tr>\n",
       "  </thead>\n",
       "  <tbody>\n",
       "    <tr>\n",
       "      <th>в</th>\n",
       "      <td>1341688</td>\n",
       "    </tr>\n",
       "    <tr>\n",
       "      <th>я</th>\n",
       "      <td>1118795</td>\n",
       "    </tr>\n",
       "    <tr>\n",
       "      <th>и</th>\n",
       "      <td>1054485</td>\n",
       "    </tr>\n",
       "    <tr>\n",
       "      <th>не</th>\n",
       "      <td>851742</td>\n",
       "    </tr>\n",
       "    <tr>\n",
       "      <th>на</th>\n",
       "      <td>704396</td>\n",
       "    </tr>\n",
       "    <tr>\n",
       "      <th>что</th>\n",
       "      <td>644916</td>\n",
       "    </tr>\n",
       "    <tr>\n",
       "      <th>банк</th>\n",
       "      <td>624274</td>\n",
       "    </tr>\n",
       "    <tr>\n",
       "      <th>с</th>\n",
       "      <td>514990</td>\n",
       "    </tr>\n",
       "    <tr>\n",
       "      <th>быть</th>\n",
       "      <td>420834</td>\n",
       "    </tr>\n",
       "    <tr>\n",
       "      <th>по</th>\n",
       "      <td>365188</td>\n",
       "    </tr>\n",
       "  </tbody>\n",
       "</table>\n",
       "</div>"
      ],
      "text/plain": [
       "               count\n",
       "normal_form         \n",
       "в            1341688\n",
       "я            1118795\n",
       "и            1054485\n",
       "не            851742\n",
       "на            704396\n",
       "что           644916\n",
       "банк          624274\n",
       "с             514990\n",
       "быть          420834\n",
       "по            365188"
      ]
     },
     "execution_count": 20,
     "metadata": {},
     "output_type": "execute_result"
    }
   ],
   "source": [
    "# топ 10 лемм\n",
    "\n",
    "word_params_df.groupby('normal_form').agg({'count': 'sum'}).sort_values(['count'], ascending = False)[:10]"
   ]
  },
  {
   "cell_type": "code",
   "execution_count": 21,
   "metadata": {},
   "outputs": [
    {
     "data": {
      "text/html": [
       "<div>\n",
       "<style scoped>\n",
       "    .dataframe tbody tr th:only-of-type {\n",
       "        vertical-align: middle;\n",
       "    }\n",
       "\n",
       "    .dataframe tbody tr th {\n",
       "        vertical-align: top;\n",
       "    }\n",
       "\n",
       "    .dataframe thead th {\n",
       "        text-align: right;\n",
       "    }\n",
       "</style>\n",
       "<table border=\"1\" class=\"dataframe\">\n",
       "  <thead>\n",
       "    <tr style=\"text-align: right;\">\n",
       "      <th></th>\n",
       "      <th>count</th>\n",
       "      <th>is_stop</th>\n",
       "      <th>normal_form</th>\n",
       "      <th>tag</th>\n",
       "    </tr>\n",
       "  </thead>\n",
       "  <tbody>\n",
       "    <tr>\n",
       "      <th>банка</th>\n",
       "      <td>235176</td>\n",
       "      <td>False</td>\n",
       "      <td>банк</td>\n",
       "      <td>NOUN</td>\n",
       "    </tr>\n",
       "    <tr>\n",
       "      <th>банк</th>\n",
       "      <td>159569</td>\n",
       "      <td>False</td>\n",
       "      <td>банк</td>\n",
       "      <td>NOUN</td>\n",
       "    </tr>\n",
       "    <tr>\n",
       "      <th>деньги</th>\n",
       "      <td>121778</td>\n",
       "      <td>False</td>\n",
       "      <td>деньга</td>\n",
       "      <td>NOUN</td>\n",
       "    </tr>\n",
       "    <tr>\n",
       "      <th>карту</th>\n",
       "      <td>101181</td>\n",
       "      <td>False</td>\n",
       "      <td>карта</td>\n",
       "      <td>NOUN</td>\n",
       "    </tr>\n",
       "    <tr>\n",
       "      <th>карты</th>\n",
       "      <td>99040</td>\n",
       "      <td>False</td>\n",
       "      <td>карта</td>\n",
       "      <td>NOUN</td>\n",
       "    </tr>\n",
       "    <tr>\n",
       "      <th>раз</th>\n",
       "      <td>74649</td>\n",
       "      <td>True</td>\n",
       "      <td>раз</td>\n",
       "      <td>NOUN</td>\n",
       "    </tr>\n",
       "    <tr>\n",
       "      <th>день</th>\n",
       "      <td>74627</td>\n",
       "      <td>False</td>\n",
       "      <td>день</td>\n",
       "      <td>NOUN</td>\n",
       "    </tr>\n",
       "    <tr>\n",
       "      <th>кредит</th>\n",
       "      <td>71824</td>\n",
       "      <td>False</td>\n",
       "      <td>кредит</td>\n",
       "      <td>NOUN</td>\n",
       "    </tr>\n",
       "    <tr>\n",
       "      <th>заявление</th>\n",
       "      <td>65006</td>\n",
       "      <td>False</td>\n",
       "      <td>заявление</td>\n",
       "      <td>NOUN</td>\n",
       "    </tr>\n",
       "    <tr>\n",
       "      <th>отделение</th>\n",
       "      <td>63424</td>\n",
       "      <td>False</td>\n",
       "      <td>отделение</td>\n",
       "      <td>NOUN</td>\n",
       "    </tr>\n",
       "  </tbody>\n",
       "</table>\n",
       "</div>"
      ],
      "text/plain": [
       "            count is_stop normal_form   tag\n",
       "банка      235176   False        банк  NOUN\n",
       "банк       159569   False        банк  NOUN\n",
       "деньги     121778   False      деньга  NOUN\n",
       "карту      101181   False       карта  NOUN\n",
       "карты       99040   False       карта  NOUN\n",
       "раз         74649    True         раз  NOUN\n",
       "день        74627   False        день  NOUN\n",
       "кредит      71824   False      кредит  NOUN\n",
       "заявление   65006   False   заявление  NOUN\n",
       "отделение   63424   False   отделение  NOUN"
      ]
     },
     "execution_count": 21,
     "metadata": {},
     "output_type": "execute_result"
    }
   ],
   "source": [
    "# топ 10 существительных\n",
    "\n",
    "word_params_df[word_params_df.tag == 'NOUN'].sort_values(['count'], ascending = False)[:10]"
   ]
  },
  {
   "cell_type": "markdown",
   "metadata": {},
   "source": [
    "4. Постройте кривые Ципфа и Хипса"
   ]
  },
  {
   "cell_type": "code",
   "execution_count": 22,
   "metadata": {},
   "outputs": [
    {
     "data": {
      "image/png": "[encoded data removed]",
      "text/plain": [
       "<Figure size 432x288 with 1 Axes>"
      ]
     },
     "metadata": {
      "needs_background": "light"
     },
     "output_type": "display_data"
    }
   ],
   "source": [
    "import matplotlib.pyplot as plt\n",
    "%matplotlib inline\n",
    "\n",
    "freqs = list(freq_dict.values())\n",
    "freqs = sorted(freqs, reverse = True)\n",
    "\n",
    "fig, ax = plt.subplots()\n",
    "ax.plot(freqs[:300], range(300))\n",
    "plt.show()"
   ]
  },
  {
   "cell_type": "code",
   "execution_count": 23,
   "metadata": {},
   "outputs": [
    {
     "name": "stderr",
     "output_type": "stream",
     "text": [
      "100%|██████████| 153499/153499 [05:27<00:00, 469.00it/s]\n"
     ]
    },
    {
     "data": {
      "image/png": "[encoded data removed]",
      "text/plain": [
       "<Figure size 432x288 with 1 Axes>"
      ]
     },
     "metadata": {
      "needs_background": "light"
     },
     "output_type": "display_data"
    }
   ],
   "source": [
    "cnt = Counter()\n",
    "n_words = []\n",
    "total_tokens = 0\n",
    "n_tokens = []\n",
    "tokens = []\n",
    "for index, row in tqdm(resp_df.iterrows(), total = len(resp_df)):\n",
    "    tokens = word_tokenize(row['text'])\n",
    "    total_tokens += len(tokens)\n",
    "    cnt.update([token for token in tokens if token not in punctuation])\n",
    "    n_words.append(len(cnt))\n",
    "    n_tokens.append(total_tokens)\n",
    "    \n",
    "fig, ax = plt.subplots()\n",
    "ax.plot(n_tokens, n_words)\n",
    "plt.show()"
   ]
  },
  {
   "cell_type": "markdown",
   "metadata": {},
   "source": [
    "Какое слово встречается чаще, \"сотрудник\" или \"клиент\"?"
   ]
  },
  {
   "cell_type": "code",
   "execution_count": 24,
   "metadata": {},
   "outputs": [
    {
     "data": {
      "text/plain": [
       "24513"
      ]
     },
     "execution_count": 24,
     "metadata": {},
     "output_type": "execute_result"
    }
   ],
   "source": [
    "word_params_df.loc['сотрудник']['count']"
   ]
  },
  {
   "cell_type": "code",
   "execution_count": 25,
   "metadata": {},
   "outputs": [
    {
     "data": {
      "text/plain": [
       "15595"
      ]
     },
     "execution_count": 25,
     "metadata": {},
     "output_type": "execute_result"
    }
   ],
   "source": [
    "word_params_df.loc['клиент']['count']"
   ]
  },
  {
   "cell_type": "markdown",
   "metadata": {},
   "source": [
    "Сколько раз встречается слова \"мошенничество\" и \"доверие\"?"
   ]
  },
  {
   "cell_type": "code",
   "execution_count": 26,
   "metadata": {},
   "outputs": [
    {
     "data": {
      "text/plain": [
       "972"
      ]
     },
     "execution_count": 26,
     "metadata": {},
     "output_type": "execute_result"
    }
   ],
   "source": [
    "word_params_df.loc['мошенничество']['count']"
   ]
  },
  {
   "cell_type": "code",
   "execution_count": 27,
   "metadata": {},
   "outputs": [
    {
     "data": {
      "text/plain": [
       "1024"
      ]
     },
     "execution_count": 27,
     "metadata": {},
     "output_type": "execute_result"
    }
   ],
   "source": [
    "word_params_df.loc['доверие']['count']"
   ]
  },
  {
   "cell_type": "markdown",
   "metadata": {},
   "source": [
    "В поле \"rating_grade\" записана оценка отзыва по шкале от 1 до 5. Используйте меру $tf-idf$, для того, чтобы найти ключевые слова и биграмы для положительных отзывов (с оценкой 5) и отрицательных отзывов (с оценкой 1)"
   ]
  },
  {
   "cell_type": "code",
   "execution_count": 30,
   "metadata": {},
   "outputs": [
    {
     "name": "stderr",
     "output_type": "stream",
     "text": [
      "D:\\ProgramData\\Anaconda3\\lib\\site-packages\\sklearn\\feature_extraction\\text.py:391: UserWarning: Your stop_words may be inconsistent with your preprocessing. Tokenizing the stop words generated tokens ['``'] not in stop_words.\n",
      "  'stop_words.' % sorted(inconsistent))\n"
     ]
    }
   ],
   "source": [
    "from sklearn.feature_extraction.text import TfidfVectorizer\n",
    "\n",
    "tf_idf = TfidfVectorizer(tokenizer=word_tokenize,\n",
    "                         ngram_range=(1, 2),\n",
    "                         min_df=0.01, max_df=0.3,\n",
    "                         stop_words=list(punctuation) + stops_rus + ['«', '»'])\n",
    "X = tf_idf.fit_transform(resp_df.text)"
   ]
  },
  {
   "cell_type": "code",
   "execution_count": 31,
   "metadata": {},
   "outputs": [],
   "source": [
    "tf_idf_df = pd.DataFrame(data=X.todense(), columns=tf_idf.get_feature_names())"
   ]
  },
  {
   "cell_type": "code",
   "execution_count": 32,
   "metadata": {},
   "outputs": [],
   "source": [
    "tf_idf_df['rating_grade'] = resp_df['rating_grade']"
   ]
  },
  {
   "cell_type": "code",
   "execution_count": 33,
   "metadata": {},
   "outputs": [],
   "source": [
    "grouped_tfidf = tf_idf_df.groupby(['rating_grade']).agg(sum)"
   ]
  },
  {
   "cell_type": "code",
   "execution_count": 34,
   "metadata": {},
   "outputs": [
    {
     "data": {
      "text/html": [
       "<div>\n",
       "<style scoped>\n",
       "    .dataframe tbody tr th:only-of-type {\n",
       "        vertical-align: middle;\n",
       "    }\n",
       "\n",
       "    .dataframe tbody tr th {\n",
       "        vertical-align: top;\n",
       "    }\n",
       "\n",
       "    .dataframe thead th {\n",
       "        text-align: right;\n",
       "    }\n",
       "</style>\n",
       "<table border=\"1\" class=\"dataframe\">\n",
       "  <thead>\n",
       "    <tr style=\"text-align: right;\">\n",
       "      <th>rating_grade</th>\n",
       "      <th>1.0</th>\n",
       "      <th>2.0</th>\n",
       "      <th>3.0</th>\n",
       "      <th>4.0</th>\n",
       "      <th>5.0</th>\n",
       "    </tr>\n",
       "  </thead>\n",
       "  <tbody>\n",
       "    <tr>\n",
       "      <th>...</th>\n",
       "      <td>1789.105154</td>\n",
       "      <td>492.473407</td>\n",
       "      <td>369.579578</td>\n",
       "      <td>116.547832</td>\n",
       "      <td>362.872510</td>\n",
       "    </tr>\n",
       "    <tr>\n",
       "      <th>карты</th>\n",
       "      <td>1351.864476</td>\n",
       "      <td>446.676911</td>\n",
       "      <td>272.175722</td>\n",
       "      <td>109.042608</td>\n",
       "      <td>314.399950</td>\n",
       "    </tr>\n",
       "    <tr>\n",
       "      <th>заявление</th>\n",
       "      <td>1300.301830</td>\n",
       "      <td>347.697926</td>\n",
       "      <td>172.312822</td>\n",
       "      <td>39.186384</td>\n",
       "      <td>125.064050</td>\n",
       "    </tr>\n",
       "    <tr>\n",
       "      <th>отделение</th>\n",
       "      <td>1236.937470</td>\n",
       "      <td>389.230428</td>\n",
       "      <td>214.290729</td>\n",
       "      <td>70.745786</td>\n",
       "      <td>269.643165</td>\n",
       "    </tr>\n",
       "    <tr>\n",
       "      <th>кредит</th>\n",
       "      <td>1200.391543</td>\n",
       "      <td>276.084700</td>\n",
       "      <td>208.481504</td>\n",
       "      <td>84.060250</td>\n",
       "      <td>391.861666</td>\n",
       "    </tr>\n",
       "    <tr>\n",
       "      <th>счет</th>\n",
       "      <td>1053.635068</td>\n",
       "      <td>275.026942</td>\n",
       "      <td>170.977787</td>\n",
       "      <td>67.976227</td>\n",
       "      <td>225.987160</td>\n",
       "    </tr>\n",
       "    <tr>\n",
       "      <th>дней</th>\n",
       "      <td>1047.997654</td>\n",
       "      <td>303.333709</td>\n",
       "      <td>159.417393</td>\n",
       "      <td>53.676249</td>\n",
       "      <td>167.235157</td>\n",
       "    </tr>\n",
       "    <tr>\n",
       "      <th>время</th>\n",
       "      <td>950.646017</td>\n",
       "      <td>299.890727</td>\n",
       "      <td>191.346465</td>\n",
       "      <td>86.725408</td>\n",
       "      <td>337.473005</td>\n",
       "    </tr>\n",
       "    <tr>\n",
       "      <th>ответ</th>\n",
       "      <td>907.241512</td>\n",
       "      <td>241.470892</td>\n",
       "      <td>126.569745</td>\n",
       "      <td>30.962414</td>\n",
       "      <td>84.463429</td>\n",
       "    </tr>\n",
       "    <tr>\n",
       "      <th>сказали</th>\n",
       "      <td>900.175228</td>\n",
       "      <td>246.560910</td>\n",
       "      <td>143.766265</td>\n",
       "      <td>35.586263</td>\n",
       "      <td>98.110525</td>\n",
       "    </tr>\n",
       "  </tbody>\n",
       "</table>\n",
       "</div>"
      ],
      "text/plain": [
       "rating_grade          1.0         2.0         3.0         4.0         5.0\n",
       "...           1789.105154  492.473407  369.579578  116.547832  362.872510\n",
       "карты         1351.864476  446.676911  272.175722  109.042608  314.399950\n",
       "заявление     1300.301830  347.697926  172.312822   39.186384  125.064050\n",
       "отделение     1236.937470  389.230428  214.290729   70.745786  269.643165\n",
       "кредит        1200.391543  276.084700  208.481504   84.060250  391.861666\n",
       "счет          1053.635068  275.026942  170.977787   67.976227  225.987160\n",
       "дней          1047.997654  303.333709  159.417393   53.676249  167.235157\n",
       "время          950.646017  299.890727  191.346465   86.725408  337.473005\n",
       "ответ          907.241512  241.470892  126.569745   30.962414   84.463429\n",
       "сказали        900.175228  246.560910  143.766265   35.586263   98.110525"
      ]
     },
     "execution_count": 34,
     "metadata": {},
     "output_type": "execute_result"
    }
   ],
   "source": [
    "# топ 10 токенов у низкорейтинговых отзывов\n",
    "grouped_tfidf.T.sort_values([1.0], ascending=False)[:10]"
   ]
  },
  {
   "cell_type": "code",
   "execution_count": 35,
   "metadata": {},
   "outputs": [
    {
     "data": {
      "text/html": [
       "<div>\n",
       "<style scoped>\n",
       "    .dataframe tbody tr th:only-of-type {\n",
       "        vertical-align: middle;\n",
       "    }\n",
       "\n",
       "    .dataframe tbody tr th {\n",
       "        vertical-align: top;\n",
       "    }\n",
       "\n",
       "    .dataframe thead th {\n",
       "        text-align: right;\n",
       "    }\n",
       "</style>\n",
       "<table border=\"1\" class=\"dataframe\">\n",
       "  <thead>\n",
       "    <tr style=\"text-align: right;\">\n",
       "      <th>rating_grade</th>\n",
       "      <th>1.0</th>\n",
       "      <th>2.0</th>\n",
       "      <th>3.0</th>\n",
       "      <th>4.0</th>\n",
       "      <th>5.0</th>\n",
       "    </tr>\n",
       "  </thead>\n",
       "  <tbody>\n",
       "    <tr>\n",
       "      <th>очень</th>\n",
       "      <td>695.739848</td>\n",
       "      <td>217.507241</td>\n",
       "      <td>230.777491</td>\n",
       "      <td>157.945542</td>\n",
       "      <td>851.570292</td>\n",
       "    </tr>\n",
       "    <tr>\n",
       "      <th>спасибо</th>\n",
       "      <td>231.901013</td>\n",
       "      <td>84.876501</td>\n",
       "      <td>80.190738</td>\n",
       "      <td>73.311080</td>\n",
       "      <td>542.787430</td>\n",
       "    </tr>\n",
       "    <tr>\n",
       "      <th>быстро</th>\n",
       "      <td>163.790810</td>\n",
       "      <td>68.349606</td>\n",
       "      <td>92.081565</td>\n",
       "      <td>100.132300</td>\n",
       "      <td>510.029475</td>\n",
       "    </tr>\n",
       "    <tr>\n",
       "      <th>вклад</th>\n",
       "      <td>652.417080</td>\n",
       "      <td>254.679626</td>\n",
       "      <td>210.548189</td>\n",
       "      <td>131.258733</td>\n",
       "      <td>410.099837</td>\n",
       "    </tr>\n",
       "    <tr>\n",
       "      <th>кредит</th>\n",
       "      <td>1200.391543</td>\n",
       "      <td>276.084700</td>\n",
       "      <td>208.481504</td>\n",
       "      <td>84.060250</td>\n",
       "      <td>391.861666</td>\n",
       "    </tr>\n",
       "    <tr>\n",
       "      <th>приятно</th>\n",
       "      <td>44.496540</td>\n",
       "      <td>17.399647</td>\n",
       "      <td>29.452241</td>\n",
       "      <td>53.050946</td>\n",
       "      <td>364.503536</td>\n",
       "    </tr>\n",
       "    <tr>\n",
       "      <th>...</th>\n",
       "      <td>1789.105154</td>\n",
       "      <td>492.473407</td>\n",
       "      <td>369.579578</td>\n",
       "      <td>116.547832</td>\n",
       "      <td>362.872510</td>\n",
       "    </tr>\n",
       "    <tr>\n",
       "      <th>минут</th>\n",
       "      <td>754.102989</td>\n",
       "      <td>258.693200</td>\n",
       "      <td>174.563587</td>\n",
       "      <td>86.334914</td>\n",
       "      <td>337.927160</td>\n",
       "    </tr>\n",
       "    <tr>\n",
       "      <th>время</th>\n",
       "      <td>950.646017</td>\n",
       "      <td>299.890727</td>\n",
       "      <td>191.346465</td>\n",
       "      <td>86.725408</td>\n",
       "      <td>337.473005</td>\n",
       "    </tr>\n",
       "    <tr>\n",
       "      <th>карты</th>\n",
       "      <td>1351.864476</td>\n",
       "      <td>446.676911</td>\n",
       "      <td>272.175722</td>\n",
       "      <td>109.042608</td>\n",
       "      <td>314.399950</td>\n",
       "    </tr>\n",
       "  </tbody>\n",
       "</table>\n",
       "</div>"
      ],
      "text/plain": [
       "rating_grade          1.0         2.0         3.0         4.0         5.0\n",
       "очень          695.739848  217.507241  230.777491  157.945542  851.570292\n",
       "спасибо        231.901013   84.876501   80.190738   73.311080  542.787430\n",
       "быстро         163.790810   68.349606   92.081565  100.132300  510.029475\n",
       "вклад          652.417080  254.679626  210.548189  131.258733  410.099837\n",
       "кредит        1200.391543  276.084700  208.481504   84.060250  391.861666\n",
       "приятно         44.496540   17.399647   29.452241   53.050946  364.503536\n",
       "...           1789.105154  492.473407  369.579578  116.547832  362.872510\n",
       "минут          754.102989  258.693200  174.563587   86.334914  337.927160\n",
       "время          950.646017  299.890727  191.346465   86.725408  337.473005\n",
       "карты         1351.864476  446.676911  272.175722  109.042608  314.399950"
      ]
     },
     "execution_count": 35,
     "metadata": {},
     "output_type": "execute_result"
    }
   ],
   "source": [
    "# топ 10 токенов у низкорейтинговых отзывов\n",
    "grouped_tfidf.T.sort_values([5.0], ascending=False)[:10]"
   ]
  },
  {
   "cell_type": "markdown",
   "metadata": {},
   "source": [
    "### Часть 2. Тематическое моделирование"
   ]
  },
  {
   "cell_type": "markdown",
   "metadata": {},
   "source": [
    "1. Постройте несколько тематических моделей коллекции документов с разным числом тем. Приведите примеры понятных (интерпретируемых) тем."
   ]
  },
  {
   "cell_type": "code",
   "execution_count": 141,
   "metadata": {},
   "outputs": [],
   "source": [
    "from nltk.corpus import stopwords\n",
    "import re\n",
    "from pymorphy2 import MorphAnalyzer\n",
    "morph = MorphAnalyzer()\n",
    "\n",
    "from tqdm.notebook import tqdm\n",
    "tqdm.pandas()\n",
    "\n",
    "mystopwords = stopwords.words('russian') + [\n",
    "    'это', 'наш' , 'тыс', 'млн', 'млрд', 'также',  'т', 'д',\n",
    "    'который','прошлый','сей', 'свой', 'наш', 'мочь', 'такой'\n",
    "]\n",
    "ru_words = re.compile(\"[А-Яа-я]+\")\n",
    "\n",
    "\n",
    "def words_only(text):\n",
    "    return \" \".join(ru_words.findall(text))\n",
    "\n",
    "\n",
    "def lemmatize(text):\n",
    "    try:\n",
    "        return \" \".join(morph.parse(word)[0].normal_form for word in text.split())  \n",
    "    except:\n",
    "        return \" \"\n",
    "\n",
    "\n",
    "def remove_stopwords(text, mystopwords = mystopwords):\n",
    "    try:\n",
    "        return \" \".join([token for token in text.split() if not token in mystopwords])\n",
    "    except:\n",
    "        return \"\"\n",
    "\n",
    "    \n",
    "def preprocess(text):\n",
    "    return remove_stopwords(lemmatize(words_only(text.lower())))"
   ]
  },
  {
   "cell_type": "code",
   "execution_count": null,
   "metadata": {},
   "outputs": [],
   "source": [
    "#resp_df = resp_df[:5000]"
   ]
  },
  {
   "cell_type": "code",
   "execution_count": 142,
   "metadata": {},
   "outputs": [
    {
     "data": {
      "application/vnd.jupyter.widget-view+json": {
       "model_id": "d4b465509e8a442c86884553d9402434",
       "version_major": 2,
       "version_minor": 0
      },
      "text/plain": [
       "HBox(children=(HTML(value=''), FloatProgress(value=0.0, max=153499.0), HTML(value='')))"
      ]
     },
     "metadata": {},
     "output_type": "display_data"
    },
    {
     "name": "stdout",
     "output_type": "stream",
     "text": [
      "\n"
     ]
    }
   ],
   "source": [
    "resp_df.text = resp_df.text.progress_apply(preprocess)"
   ]
  },
  {
   "cell_type": "code",
   "execution_count": 143,
   "metadata": {},
   "outputs": [],
   "source": [
    "from gensim.corpora import Dictionary\n",
    "from gensim.models import TfidfModel\n",
    "from gensim import similarities"
   ]
  },
  {
   "cell_type": "code",
   "execution_count": 144,
   "metadata": {},
   "outputs": [],
   "source": [
    "texts = [text.split() for text in resp_df[:5000].text]\n",
    "dictionary = Dictionary(texts)\n",
    "corpus = [dictionary.doc2bow(text) for text in texts]"
   ]
  },
  {
   "cell_type": "code",
   "execution_count": 145,
   "metadata": {},
   "outputs": [],
   "source": [
    "tfidf = TfidfModel(corpus)\n",
    "corpus_tfidf = tfidf[corpus]"
   ]
  },
  {
   "cell_type": "code",
   "execution_count": 146,
   "metadata": {},
   "outputs": [],
   "source": [
    "from gensim.models import lsimodel"
   ]
  },
  {
   "cell_type": "code",
   "execution_count": 147,
   "metadata": {},
   "outputs": [
    {
     "name": "stdout",
     "output_type": "stream",
     "text": [
      "Wall time: 2.02 s\n"
     ]
    },
    {
     "data": {
      "text/plain": [
       "[(0,\n",
       "  '0.195*\"карта\" + 0.139*\"кредит\" + 0.118*\"деньга\" + 0.112*\"вклад\" + 0.105*\"счёт\" + 0.103*\"заявление\" + 0.102*\"отделение\" + 0.101*\"сумма\" + 0.099*\"сбербанк\" + 0.098*\"сотрудник\"'),\n",
       " (1,\n",
       "  '-0.254*\"звонок\" + 0.248*\"вклад\" + -0.228*\"номер\" + 0.205*\"карта\" + -0.192*\"ваш\" + -0.173*\"кредит\" + -0.153*\"телефон\" + -0.142*\"данные\" + -0.135*\"персональный\" + -0.135*\"поступать\"'),\n",
       " (2,\n",
       "  '-0.665*\"вклад\" + -0.208*\"ставка\" + 0.196*\"карта\" + -0.164*\"договор\" + 0.157*\"банкомат\" + -0.150*\"условие\" + 0.148*\"сбербанк\" + -0.133*\"пополнение\" + -0.117*\"процент\" + -0.105*\"вкладчик\"'),\n",
       " (3,\n",
       "  '-0.369*\"страховка\" + -0.306*\"кредит\" + -0.294*\"страхование\" + 0.227*\"вклад\" + 0.183*\"номер\" + -0.150*\"договор\" + -0.149*\"страховой\" + 0.135*\"карта\" + -0.129*\"погашение\" + 0.125*\"звонок\"'),\n",
       " (4,\n",
       "  '-0.209*\"средство\" + -0.180*\"денежный\" + -0.175*\"платёж\" + 0.171*\"заявка\" + -0.166*\"сумма\" + -0.147*\"счёт\" + -0.143*\"договор\" + -0.133*\"руб\" + 0.125*\"отделение\" + -0.123*\"погашение\"')]"
      ]
     },
     "execution_count": 147,
     "metadata": {},
     "output_type": "execute_result"
    }
   ],
   "source": [
    "%%time\n",
    "\n",
    "n_themes = 5\n",
    "\n",
    "lsi = lsimodel.LsiModel(corpus=corpus_tfidf, id2word=dictionary, num_topics=n_themes)\n",
    "\n",
    "lsi.show_topics(n_themes)"
   ]
  },
  {
   "cell_type": "markdown",
   "metadata": {},
   "source": [
    "В данном случае тема №3 явно связана с процентами по договору вклада"
   ]
  },
  {
   "cell_type": "code",
   "execution_count": 148,
   "metadata": {},
   "outputs": [
    {
     "name": "stdout",
     "output_type": "stream",
     "text": [
      "Wall time: 2.04 s\n"
     ]
    },
    {
     "data": {
      "text/plain": [
       "[(0,\n",
       "  '0.195*\"карта\" + 0.139*\"кредит\" + 0.118*\"деньга\" + 0.112*\"вклад\" + 0.105*\"счёт\" + 0.103*\"заявление\" + 0.102*\"отделение\" + 0.101*\"сумма\" + 0.099*\"сбербанк\" + 0.098*\"сотрудник\"'),\n",
       " (1,\n",
       "  '0.254*\"звонок\" + -0.248*\"вклад\" + 0.228*\"номер\" + -0.205*\"карта\" + 0.192*\"ваш\" + 0.173*\"кредит\" + 0.153*\"телефон\" + 0.142*\"данные\" + 0.136*\"персональный\" + 0.135*\"поступать\"'),\n",
       " (2,\n",
       "  '-0.665*\"вклад\" + -0.206*\"ставка\" + 0.196*\"карта\" + -0.163*\"договор\" + 0.157*\"банкомат\" + -0.151*\"условие\" + 0.147*\"сбербанк\" + -0.135*\"пополнение\" + -0.119*\"процент\" + -0.106*\"вкладчик\"'),\n",
       " (3,\n",
       "  '-0.369*\"страховка\" + -0.306*\"кредит\" + -0.294*\"страхование\" + 0.227*\"вклад\" + 0.182*\"номер\" + -0.150*\"договор\" + -0.148*\"страховой\" + 0.136*\"карта\" + -0.129*\"погашение\" + 0.126*\"звонок\"'),\n",
       " (4,\n",
       "  '-0.208*\"средство\" + -0.179*\"денежный\" + -0.172*\"платёж\" + 0.172*\"заявка\" + -0.165*\"сумма\" + -0.150*\"счёт\" + -0.149*\"договор\" + -0.132*\"руб\" + 0.126*\"отделение\" + -0.124*\"погашение\"'),\n",
       " (5,\n",
       "  '0.274*\"страхование\" + -0.251*\"платёж\" + 0.224*\"страховка\" + 0.185*\"сбербанк\" + -0.169*\"просрочка\" + -0.151*\"задолженность\" + 0.139*\"страховой\" + -0.136*\"платить\" + 0.135*\"банкомат\" + 0.129*\"заявление\"'),\n",
       " (6,\n",
       "  '0.394*\"банкомат\" + -0.385*\"карта\" + 0.179*\"деньга\" + -0.156*\"услуга\" + -0.153*\"кредитный\" + 0.133*\"купюра\" + 0.128*\"чек\" + -0.123*\"лимит\" + -0.113*\"комиссия\" + -0.110*\"обслуживание\"'),\n",
       " (7,\n",
       "  '-0.444*\"банкомат\" + 0.219*\"сбербанк\" + -0.193*\"страховка\" + -0.181*\"комиссия\" + -0.149*\"рубль\" + 0.146*\"заявление\" + 0.122*\"киви\" + 0.118*\"документ\" + -0.115*\"р\" + 0.115*\"кошелёк\"'),\n",
       " (8,\n",
       "  '0.250*\"карта\" + -0.238*\"киви\" + 0.227*\"сбербанк\" + -0.218*\"кошелёк\" + -0.180*\"перевод\" + 0.171*\"г\" + 0.168*\"отделение\" + 0.168*\"заявление\" + -0.147*\"поддержка\" + 0.125*\"вклад\"'),\n",
       " (9,\n",
       "  '-0.248*\"страховка\" + 0.207*\"банкомат\" + -0.184*\"вклад\" + -0.170*\"номер\" + -0.168*\"смс\" + 0.166*\"кредитный\" + -0.156*\"деньга\" + -0.143*\"сбербанк\" + -0.135*\"сумма\" + -0.119*\"звонить\"')]"
      ]
     },
     "execution_count": 148,
     "metadata": {},
     "output_type": "execute_result"
    }
   ],
   "source": [
    "%%time\n",
    "n_themes = 10\n",
    "\n",
    "lsi = lsimodel.LsiModel(corpus=corpus_tfidf, id2word=dictionary, num_topics=n_themes)\n",
    "\n",
    "lsi.show_topics(n_themes)"
   ]
  },
  {
   "cell_type": "markdown",
   "metadata": {},
   "source": [
    "Тема №5 связана со страховым возмещением по вкладам"
   ]
  },
  {
   "cell_type": "markdown",
   "metadata": {},
   "source": [
    "2. Найдите темы, в которых упомянуты конкретные банки (Сбербанк, ВТБ, другой банк). Можете ли вы их прокомментировать / объяснить?"
   ]
  },
  {
   "cell_type": "markdown",
   "metadata": {},
   "source": [
    "В теме №5 упоминание Сбербанка объяснимо: сама тема явно связано с выплатой страхового возмещения в ликвидируемых банка. Такие выплаты производятся через банки-агенты, основным из которых является как раз Сбер."
   ]
  },
  {
   "cell_type": "markdown",
   "metadata": {},
   "source": [
    "### Часть 3. Классификация текстов"
   ]
  },
  {
   "cell_type": "markdown",
   "metadata": {},
   "source": [
    "Сформулируем для простоты задачу бинарной классификации: будем классифицировать на два класса, то есть, различать резко отрицательные отзывы (с оценкой 1) и положительные отзывы (с оценкой 5)."
   ]
  },
  {
   "cell_type": "code",
   "execution_count": 149,
   "metadata": {},
   "outputs": [],
   "source": [
    "from sklearn.pipeline import Pipeline\n",
    "from sklearn.ensemble import RandomForestClassifier\n",
    "from sklearn.feature_extraction.text import CountVectorizer\n",
    "from sklearn.feature_extraction.text import TfidfTransformer\n",
    "from sklearn.decomposition import TruncatedSVD\n",
    "from sklearn.decomposition import LatentDirichletAllocation\n",
    "\n",
    "from sklearn.metrics import accuracy_score\n",
    "from sklearn.metrics import f1_score"
   ]
  },
  {
   "cell_type": "markdown",
   "metadata": {},
   "source": [
    "1. Составьте обучающее и тестовое множество: выберите из всего набора данных N1 отзывов с оценкой 1 и N2 отзывов с оценкой 5 (значение N1 и N2 – на ваше усмотрение). Используйте sklearn.model_selection.train_test_split для разделения множества отобранных документов на обучающее и тестовое."
   ]
  },
  {
   "cell_type": "code",
   "execution_count": 150,
   "metadata": {},
   "outputs": [],
   "source": [
    "data = resp_df[(resp_df['rating_grade'] == 1) | (resp_df['rating_grade'] == 5)]"
   ]
  },
  {
   "cell_type": "code",
   "execution_count": 151,
   "metadata": {},
   "outputs": [],
   "source": [
    "#data = data[:1000]"
   ]
  },
  {
   "cell_type": "code",
   "execution_count": 152,
   "metadata": {},
   "outputs": [
    {
     "data": {
      "application/vnd.jupyter.widget-view+json": {
       "model_id": "b3a9246f020c424a8c27e46bbe7add5c",
       "version_major": 2,
       "version_minor": 0
      },
      "text/plain": [
       "HBox(children=(HTML(value=''), FloatProgress(value=0.0, max=62100.0), HTML(value='')))"
      ]
     },
     "metadata": {},
     "output_type": "display_data"
    },
    {
     "name": "stdout",
     "output_type": "stream",
     "text": [
      "\n"
     ]
    },
    {
     "name": "stderr",
     "output_type": "stream",
     "text": [
      "D:\\ProgramData\\Anaconda3\\lib\\site-packages\\pandas\\core\\generic.py:5494: SettingWithCopyWarning: \n",
      "A value is trying to be set on a copy of a slice from a DataFrame.\n",
      "Try using .loc[row_indexer,col_indexer] = value instead\n",
      "\n",
      "See the caveats in the documentation: https://pandas.pydata.org/pandas-docs/stable/user_guide/indexing.html#returning-a-view-versus-a-copy\n",
      "  self[name] = value\n"
     ]
    }
   ],
   "source": [
    "data.text = data.text.progress_apply(preprocess)"
   ]
  },
  {
   "cell_type": "code",
   "execution_count": 153,
   "metadata": {},
   "outputs": [],
   "source": [
    "from sklearn.model_selection import train_test_split"
   ]
  },
  {
   "cell_type": "code",
   "execution_count": 154,
   "metadata": {},
   "outputs": [],
   "source": [
    "X = data.text\n",
    "y = data.rating_grade"
   ]
  },
  {
   "cell_type": "code",
   "execution_count": 155,
   "metadata": {},
   "outputs": [],
   "source": [
    "X_train, X_test, y_train, y_test = train_test_split(X, y, test_size=0.3, random_state=42)"
   ]
  },
  {
   "cell_type": "markdown",
   "metadata": {},
   "source": [
    "2. Используйте любой известный вам алгоритм классификации текстов для решения задачи и получите baseline. Сравните разные варианты векторизации текста: использование только униграм, пар или троек слов или с использованием символьных $n$-грам."
   ]
  },
  {
   "cell_type": "code",
   "execution_count": 167,
   "metadata": {},
   "outputs": [
    {
     "name": "stdout",
     "output_type": "stream",
     "text": [
      "0.9081588835212023\n",
      "0.9430596692069619\n"
     ]
    }
   ],
   "source": [
    "clf = Pipeline([\n",
    "    ('vect', CountVectorizer(ngram_range = (1, 1))),\n",
    "    ('clf', RandomForestClassifier(n_estimators = 1000)),\n",
    "])\n",
    "\n",
    "clf.fit(X_train, y_train)\n",
    "\n",
    "print(accuracy_score(y_test, clf.predict(X_test)))\n",
    "print(f1_score(y_test, clf.predict(X_test)))"
   ]
  },
  {
   "cell_type": "code",
   "execution_count": 168,
   "metadata": {},
   "outputs": [
    {
     "name": "stdout",
     "output_type": "stream",
     "text": [
      "0.9140633387010199\n",
      "0.9462047646248446\n"
     ]
    }
   ],
   "source": [
    "clf = Pipeline([\n",
    "    ('vect', CountVectorizer(ngram_range = (2, 2))),\n",
    "    ('clf', RandomForestClassifier(n_estimators = 1000)),\n",
    "])\n",
    "\n",
    "clf.fit(X_train, y_train)\n",
    "\n",
    "print(accuracy_score(y_test, clf.predict(X_test)))\n",
    "print(f1_score(y_test, clf.predict(X_test)))"
   ]
  },
  {
   "cell_type": "code",
   "execution_count": 169,
   "metadata": {},
   "outputs": [
    {
     "name": "stdout",
     "output_type": "stream",
     "text": [
      "0.8555555555555555\n",
      "0.9125134107090608\n"
     ]
    }
   ],
   "source": [
    "clf = Pipeline([\n",
    "    ('vect', CountVectorizer(ngram_range = (3, 3))),\n",
    "    ('clf', RandomForestClassifier(n_estimators = 1000)),\n",
    "])\n",
    "\n",
    "clf.fit(X_train, y_train)\n",
    "\n",
    "print(accuracy_score(y_test, clf.predict(X_test)))\n",
    "print(f1_score(y_test, clf.predict(X_test)))"
   ]
  },
  {
   "cell_type": "code",
   "execution_count": 166,
   "metadata": {},
   "outputs": [
    {
     "name": "stdout",
     "output_type": "stream",
     "text": [
      "0.9063338701019861\n",
      "0.9419475032436209\n"
     ]
    }
   ],
   "source": [
    "clf = Pipeline([\n",
    "    ('vect', CountVectorizer(analyzer = 'char', ngram_range={4,6})),\n",
    "    ('clf', RandomForestClassifier(n_estimators = 1000)),\n",
    "])\n",
    "\n",
    "clf.fit(X_train, y_train)\n",
    "\n",
    "print(accuracy_score(y_test, clf.predict(X_test)))\n",
    "print(f1_score(y_test, clf.predict(X_test)))"
   ]
  },
  {
   "cell_type": "markdown",
   "metadata": {},
   "source": [
    "3. Сравните, как изменяется качество решения задачи при использовании скрытых тем в качестве признаков:\n",
    "- 1-ый вариант: $tf-idf$ преобразование (sklearn.feature_extraction.text.TfidfTransformer) и сингулярное разложение (оно же – латентый семантический анализ) (sklearn.decomposition.TruncatedSVD),\n",
    "- 2-ой вариант: тематические модели LDA (sklearn.decomposition.LatentDirichletAllocation). Используйте accuracy и F-measure для оценки качества классификации."
   ]
  },
  {
   "cell_type": "code",
   "execution_count": 165,
   "metadata": {},
   "outputs": [
    {
     "name": "stdout",
     "output_type": "stream",
     "text": [
      "0.7309178743961353\n",
      "0.8372983674661646\n"
     ]
    }
   ],
   "source": [
    "clf = Pipeline([ \n",
    "    ('vect', CountVectorizer()), \n",
    "    ('tfidf', TfidfTransformer()), \n",
    "    ('tm', TruncatedSVD()), \n",
    "    ('clf', RandomForestClassifier(n_estimators = 1000))\n",
    "])\n",
    "\n",
    "clf.fit(X_train, y_train)\n",
    "\n",
    "print(accuracy_score(y_test, clf.predict(X_test)))\n",
    "print(f1_score(y_test, clf.predict(X_test)))"
   ]
  },
  {
   "cell_type": "code",
   "execution_count": 164,
   "metadata": {},
   "outputs": [
    {
     "name": "stdout",
     "output_type": "stream",
     "text": [
      "0.9353193773483629\n",
      "0.9580679959633921\n"
     ]
    }
   ],
   "source": [
    "clf = Pipeline([ \n",
    "    ('vect', CountVectorizer()), \n",
    "    ('lda', LatentDirichletAllocation()),\n",
    "    ('clf', RandomForestClassifier(n_estimators = 1000))\n",
    "])\n",
    "\n",
    "clf.fit(X_train, y_train)\n",
    "\n",
    "print(accuracy_score(y_test, clf.predict(X_test)))\n",
    "print(f1_score(y_test, clf.predict(X_test)))"
   ]
  }
 ],
 "metadata": {
  "colab": {
   "collapsed_sections": [],
   "name": "HW1_banki_TM-and-classification.ipynb",
   "provenance": []
  },
  "kernelspec": {
   "display_name": "Python 3",
   "language": "python",
   "name": "python3"
  },
  "language_info": {
   "codemirror_mode": {
    "name": "ipython",
    "version": 3
   },
   "file_extension": ".py",
   "mimetype": "text/x-python",
   "name": "python",
   "nbconvert_exporter": "python",
   "pygments_lexer": "ipython3",
   "version": "3.7.9"
  }
 },
 "nbformat": 4,
 "nbformat_minor": 1
}
