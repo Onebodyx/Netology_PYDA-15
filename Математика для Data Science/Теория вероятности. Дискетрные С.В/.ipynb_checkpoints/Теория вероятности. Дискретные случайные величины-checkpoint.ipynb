{
 "cells": [
  {
   "cell_type": "code",
   "execution_count": 36,
   "metadata": {},
   "outputs": [],
   "source": [
    "import math\n",
    "import numpy as np\n",
    "import matplotlib.pyplot as plt"
   ]
  },
  {
   "cell_type": "markdown",
   "metadata": {},
   "source": [
    "### Уровень 0:\n",
    "\n",
    "#### Задание 1:\n",
    "\n",
    "Монетку подбрасывают 15 раз, найдите вероятность выпадения простого числа орлов.\n"
   ]
  },
  {
   "cell_type": "markdown",
   "metadata": {},
   "source": [
    "Всего в данном эксперементе возможно $2^{15}$ исходов.  \n",
    "В интервале от 0 до 15 простыми числами являются: 1, 2, 3, 5, 7, 11, 13."
   ]
  },
  {
   "cell_type": "code",
   "execution_count": 8,
   "metadata": {},
   "outputs": [],
   "source": [
    "def P_n_eagles(k, n = 15):\n",
    "    return 0.5**k*0.5**(n-k)*math.factorial(n)/((math.factorial(n-k)*(math.factorial(k))))    "
   ]
  },
  {
   "cell_type": "code",
   "execution_count": 18,
   "metadata": {},
   "outputs": [
    {
     "data": {
      "text/plain": [
       "0.350433349609375"
      ]
     },
     "execution_count": 18,
     "metadata": {},
     "output_type": "execute_result"
    }
   ],
   "source": [
    "simples = [1, 2, 3, 5, 7, 11, 13]\n",
    "prob = 0\n",
    "\n",
    "for simple in simples:\n",
    "    prob += P_n_eagles(simple) \n",
    "    \n",
    "prob"
   ]
  },
  {
   "cell_type": "markdown",
   "metadata": {},
   "source": [
    "#### Задание 2:\n",
    "\n",
    "Создайте свою дискретную случайную величину с не менее, чем 10 значениями. Просемплируйте 1000 случайных значений, постройте гистограмму плотности распределения по выборке, посчитайте среднее, дисперсию и медиану.\n"
   ]
  },
  {
   "cell_type": "code",
   "execution_count": 84,
   "metadata": {},
   "outputs": [],
   "source": [
    "def random_var(x):\n",
    "    if x>1000:\n",
    "        return 10\n",
    "    elif x<0:\n",
    "        return -1\n",
    "    else:\n",
    "        return x//100"
   ]
  },
  {
   "cell_type": "code",
   "execution_count": 85,
   "metadata": {},
   "outputs": [],
   "source": [
    "samples = [random_var(np.random.randint(3000)-1000) for i in range(1000)]"
   ]
  },
  {
   "cell_type": "code",
   "execution_count": 86,
   "metadata": {},
   "outputs": [
    {
     "data": {
      "text/plain": [
       "(array([356.,  30.,  39.,  38.,  38.,  44.,  37.,  30.,  23., 365.]),\n",
       " array([-1. ,  0.1,  1.2,  2.3,  3.4,  4.5,  5.6,  6.7,  7.8,  8.9, 10. ]),\n",
       " <a list of 10 Patch objects>)"
      ]
     },
     "execution_count": 86,
     "metadata": {},
     "output_type": "execute_result"
    },
    {
     "data": {
      "image/png": "[encoded data removed]",
      "text/plain": [
       "<Figure size 432x288 with 1 Axes>"
      ]
     },
     "metadata": {
      "needs_background": "light"
     },
     "output_type": "display_data"
    }
   ],
   "source": [
    "plt.hist(samples)"
   ]
  },
  {
   "cell_type": "code",
   "execution_count": 87,
   "metadata": {},
   "outputs": [
    {
     "data": {
      "text/plain": [
       "4.507"
      ]
     },
     "execution_count": 87,
     "metadata": {},
     "output_type": "execute_result"
    }
   ],
   "source": [
    "np.mean(samples)"
   ]
  },
  {
   "cell_type": "code",
   "execution_count": 88,
   "metadata": {},
   "outputs": [
    {
     "data": {
      "text/plain": [
       "22.349950999999997"
      ]
     },
     "execution_count": 88,
     "metadata": {},
     "output_type": "execute_result"
    }
   ],
   "source": [
    "np.var(samples)"
   ]
  },
  {
   "cell_type": "code",
   "execution_count": 89,
   "metadata": {},
   "outputs": [
    {
     "data": {
      "text/plain": [
       "4.0"
      ]
     },
     "execution_count": 89,
     "metadata": {},
     "output_type": "execute_result"
    }
   ],
   "source": [
    "np.median(samples)"
   ]
  },
  {
   "cell_type": "markdown",
   "metadata": {},
   "source": [
    "### Уровень 1:\n",
    "\n",
    "#### Задание 3:\n",
    "\n",
    "Пусть брошены 3 уравновешенные монеты.\n",
    "\n",
    "Рассмотрим 3 события:\n",
    "\n",
    "A1 - монеты 1 и 2 упали одной и той же стороной;\n",
    "\n",
    "A2 - монеты 2 и 3 упали одной и той же стороной;\n",
    "\n",
    "A3 - монеты 1 и 3 упали одной и той же стороной.\n",
    "\n",
    "Покажите, почему эти 3 события (A1, A2, A3) являются попарно независимыми, но не являются независимыми в совокупности.\n"
   ]
  },
  {
   "cell_type": "markdown",
   "metadata": {},
   "source": [
    "#### Решение \n",
    "\n",
    "Приведем определение из теоретических материалов: \n",
    "> В теории вероятностей два случайных события называются независимыми, если наступление одного из них не изменяет вероятность наступления дрbугого. Аналогично, две случайные величины называют независимыми, если известное значение одной из них не дает информации о другой. Совместная независимость влечет попарную независимость."
   ]
  },
  {
   "cell_type": "markdown",
   "metadata": {},
   "source": [
    "##### Рассмотрим события А1 и А2:  \n",
    "Вероятность наступления события А2 составляет 0.5.\n",
    "Пусть известно, что событие А1 наступило. Следовательно реализовался один из элементарных исходов: \n",
    "- на обеих монетах 1 и 2 выпали орлы \n",
    "- на обеих выпали решки.\n",
    "\n",
    "Тогда вероятность наступления события А2 все ещё составляет 0.5, ведь нам не известно, какими именно сторонами выпали монеты 2 и 3. То есть для А2 всё ещё возможны все элементаные исходы.\n",
    "\n",
    "Данное рассуждение справедливо и для других пар событий.\n",
    "\n",
    "##### Рассмотрим теперь все три события в совокупности:  \n",
    "Вероятность наступления события А3 составляет 0.5.\n",
    "Пусть известно, что событие А1 наступило. Следовательно реализовался один из элементарных исходов: \n",
    "- на обеих монетах 1 и 2 выпали орлы \n",
    "- на обеих выпали решки.\n",
    "\n",
    "Если также известно, что событие А2 наступило, это означает, что монета 3 выпало той же сторой, что монета 2, а значит и той же сторонй, что монета 1. Следовательно, вероятность наступление события 3 в этот случае равна 1."
   ]
  },
  {
   "cell_type": "markdown",
   "metadata": {},
   "source": [
    "#### Задание 4 (формула полной вероятности):\n",
    "\n",
    "В магазин привезли устройства с 3-х разных предприятий.\n",
    "\n",
    "Соотношение устройств следующее: 20% - продукция первого предприятия, 30% - продукция второго предприятия, 50% - продукция третьего предприятия; далее, 10% продукции первого предприятия высшего сорта, на втором предприятии - 5% и на третьем - 20% продукции высшего сорта.\n",
    "\n",
    "Найти вероятность того, что случайно купленная новая продукция окажется высшего сорта.\n"
   ]
  },
  {
   "cell_type": "markdown",
   "metadata": {},
   "source": [
    "Обозначим события следующим образом:\n",
    "\n",
    "- $A_1$: куплена продукция первого предприятия;\n",
    "- $A_2$: куплена продукция второго предприятия;\n",
    "- $A_3$: куплена продукция третьего предприятия;\n",
    "- $B$: куплена продукция высшего сорта;\n",
    "\n",
    "Тогда \n",
    "\n",
    "$$P(B) = P(B|A_1)*P(A_1) + P(B|A_2)*P(A_2) + P(B|A_3)*P(A_3)$$\n",
    "$$P(B) = 0.1\\cdot0.2 + 0.05\\cdot0.3 + 0.2\\cdot0.5$$\n",
    "$$P(B) = 0.135$$\n"
   ]
  }
 ],
 "metadata": {
  "kernelspec": {
   "display_name": "Python 3",
   "language": "python",
   "name": "python3"
  },
  "language_info": {
   "codemirror_mode": {
    "name": "ipython",
    "version": 3
   },
   "file_extension": ".py",
   "mimetype": "text/x-python",
   "name": "python",
   "nbconvert_exporter": "python",
   "pygments_lexer": "ipython3",
   "version": "3.7.0"
  }
 },
 "nbformat": 4,
 "nbformat_minor": 2
}
