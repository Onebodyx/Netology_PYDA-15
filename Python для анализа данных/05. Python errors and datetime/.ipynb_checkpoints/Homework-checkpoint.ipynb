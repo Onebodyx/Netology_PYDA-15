{
 "cells": [
  {
   "cell_type": "code",
   "execution_count": null,
   "metadata": {},
   "outputs": [],
   "source": [
    "from datetime import datetime as dt\n",
    "from datetime import timedelta"
   ]
  },
  {
   "cell_type": "markdown",
   "metadata": {},
   "source": [
    "### Задание 1\n",
    "Печатные газеты использовали свой формат дат для каждого выпуска. Для каждой газеты из списка напишите формат указанной даты для перевода в объект datetime:\n",
    "* The Moscow Times - Wednesday, October 2, 2002\n",
    "* The Guardian - Friday, 11.10.13\n",
    "* Daily News - Thursday, 18 August 1977"
   ]
  },
  {
   "cell_type": "code",
   "execution_count": null,
   "metadata": {},
   "outputs": [],
   "source": [
    "TMT_date = 'Wednesday, October 2, 2002'\n",
    "TG_date = 'Friday, 11.10.13'\n",
    "DN_date = 'Thursday, 18 August 1977'\n",
    "\n",
    "TMT_datetime = dt.strptime(TMT_date, '%A, %B %d, %Y')\n",
    "TG_datetime = dt.strptime(TG_date, '%A, %d.%m.%y')\n",
    "DN_datetime = dt.strptime(DN_date, '%A, %d %B %Y')"
   ]
  },
  {
   "cell_type": "markdown",
   "metadata": {},
   "source": [
    "### Задание 2\n",
    "Дан поток дат в формате YYYY-MM-DD, в которых встречаются некорректные значения:\n",
    "stream = [‘2018-04-02’, ‘2018-02-29’, ‘2018-19-02’]\n",
    "\n",
    "Напишите функцию, которая проверяет эти даты на корректность. Т. е. для каждой даты возвращает True (дата корректна) или False (некорректная дата)."
   ]
  },
  {
   "cell_type": "code",
   "execution_count": null,
   "metadata": {},
   "outputs": [],
   "source": [
    "def date_control(dates):\n",
    "    for date in dates:\n",
    "        try:\n",
    "            dt.strptime(date, '%Y-%m-%d')\n",
    "            print(True)\n",
    "        except:\n",
    "            print(False)\n",
    "\n",
    "\n",
    "stream = ['2018-04-02', '2018-02-29', '2018-19-02']\n",
    "date_control(stream)"
   ]
  },
  {
   "cell_type": "markdown",
   "metadata": {},
   "source": [
    "### Задание 3\n",
    "Напишите функцию date_range, которая возвращает список дат за период от start_date до end_date. Даты должны вводиться в формате YYYY-MM-DD. В случае неверного формата или при start_date > end_date должен возвращаться пустой список."
   ]
  },
  {
   "cell_type": "code",
   "execution_count": null,
   "metadata": {},
   "outputs": [],
   "source": [
    "def date_range(start_date, end_date):\n",
    "    try:\n",
    "        start_date_dt = dt.strptime(start_date, '%Y-%m-%d')\n",
    "        end_date_dt = dt.strptime(end_date, '%Y-%m-%d')\n",
    "    except:\n",
    "        return []\n",
    "    \n",
    "    if start_date_dt < end_date_dt:\n",
    "        current_date_dt = start_date_dt\n",
    "        dates_list = [start_date_dt]    \n",
    "        while current_date_dt < end_date_dt:\n",
    "            current_date_dt += timedelta(days=1)\n",
    "            dates_list.append(current_date_dt)\n",
    "        return dates_list\n",
    "    else:\n",
    "        return []\n",
    "        \n",
    "\n",
    "start_date = input('Введите начальную дату: ')\n",
    "end_date = input('Введите конечную дату: ')\n",
    "\n",
    "date_range(start_date, end_date)"
   ]
  },
  {
   "cell_type": "markdown",
   "metadata": {},
   "source": [
    "### Задание 4\n",
    "Ваш коллега прислал код функции:\n",
    "\n",
    "```\n",
    "DEFAULT_USER_COUNT = 3\n",
    "\n",
    "def delete_and_return_last_user(region, default_list=[‘A100’, ‘A101’, ‘A102’]):\n",
    "\"\"“\n",
    "Удаляет из списка default_list последнего пользователя\n",
    "и возвращает ID нового последнего пользователя.\n",
    "”\"\"\n",
    "    element_to_delete = default_list[-1]\n",
    "    default_list.remove(element_to_delete)\n",
    "    return default_list[DEFAULT_USER_COUNT-2]\n",
    "```\n",
    "    \n",
    "При однократном вызове этой функции все работает корректно:\n",
    "\n",
    "```\n",
    "delete_and_return_last_user(1)\n",
    "‘A101’\n",
    "```\n",
    "\n",
    "Однако, при повторном вызове получается ошибка \n",
    "```\n",
    "IndexError: list index out of range.\n",
    "```\n",
    "\n",
    "##### Задание:\n",
    "* Что значит ошибка list index out of range?\n",
    "* Почему при первом запуске функция работает корректно, а при втором - нет?"
   ]
  },
  {
   "cell_type": "markdown",
   "metadata": {},
   "source": [
    "### Ответ\n",
    "\n",
    "1. Ошибка `IndexError: list index out of range` в данном случае означает, что внутри функции происходит обращение к несуществующему элементу списка. Так, например, такая ошибка будет выводиться, если в списке `list` находится `y` элементов и происходит обращение к `list[x]`, где x>=y\n",
    "\n",
    "1. При первом запуске функция работает корректно, потому что в обрабатываемом ей списке `default_list` по умолчанию содержится 3 элемента. Обращение к элементу `default_list[DEFAULT_USER_COUNT-2]` по сути эквивалентно `default_list[1]`, что допустимо для списка длинной 2 или меньше.\n",
    "Однако после повторного вызова функции длина списка `default_list` становистя равна 1, что делает обращение `default_list[1]` некорректным.\n",
    "\n",
    "Для исправления ошибки вы можете, например, внести переменную `DEFAULT_USER_COUNT` внутрь функции и присвоить ей значение `DEFAULT_USER_COUNT = len(default_list)`. Однако учтите, что при удалении последнего элемента и далее функция все равно будет возвращать ошибку. Чтобы избежать этого, добавьте внутри неё проверку на текущее количество элементов.\n",
    "\n",
    "Окончательный код может выглядеть вот так:\n",
    "```\n",
    "def delete_and_return_last_user(region, default_list=['A100', 'A101', 'A102']):\n",
    "    \"\"\"\n",
    "    Удаляет из списка default_list последнего пользователя\n",
    "    и возвращает ID нового последнего пользователя.\n",
    "    \"\"\"\n",
    "    DEFAULT_USER_COUNT = len(default_list)\n",
    "    if DEFAULT_USER_COUNT > 0:\n",
    "        element_to_delete = default_list[-1]\n",
    "        default_list.remove(element_to_delete)\n",
    "        if DEFAULT_USER_COUNT > 1:\n",
    "            return default_list[DEFAULT_USER_COUNT-2]\n",
    "        else:\n",
    "            return('Из списка был удален последний элемент')\n",
    "    else:\n",
    "        return('Список не содержит элементов')\n",
    "```"
   ]
  }
 ],
 "metadata": {
  "kernelspec": {
   "display_name": "Python 3",
   "language": "python",
   "name": "python3"
  },
  "language_info": {
   "codemirror_mode": {
    "name": "ipython",
    "version": 3
   },
   "file_extension": ".py",
   "mimetype": "text/x-python",
   "name": "python",
   "nbconvert_exporter": "python",
   "pygments_lexer": "ipython3",
   "version": "3.7.9"
  }
 },
 "nbformat": 4,
 "nbformat_minor": 4
}
