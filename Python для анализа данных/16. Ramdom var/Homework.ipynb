{
 "cells": [
  {
   "cell_type": "code",
   "execution_count": 1,
   "metadata": {},
   "outputs": [],
   "source": [
    "import numpy as np"
   ]
  },
  {
   "cell_type": "markdown",
   "metadata": {},
   "source": [
    "### Задание 1\n",
    "\n",
    "Смоделировать игру против лотерейного автомата типа “777”. Игрок платит 1 руб., после чего выпадает случайное целое число, равномерно распределенное от 0 до 999. При некоторых значениях числа игрок получает выигрыш (см. справа)\n",
    "\n",
    "Выгодна ли игра игроку?\n",
    "\n",
    "Сколько в среднем приобретает\n",
    "или теряет игрок за одну игру?\n",
    "\n",
    "- 777: 200 руб.\n",
    "- 999: 100 руб.\n",
    "- 555: 50 руб.\n",
    "- 333: 15 руб.\n",
    "- 111: 10 руб.\n",
    "- *77: 5 руб.\n",
    "- **7: 3 руб.\n",
    "- *00: 2 руб.\n",
    "- **0: 1 руб.\n",
    "\n",
    "*– любая цифра"
   ]
  },
  {
   "cell_type": "code",
   "execution_count": 143,
   "metadata": {},
   "outputs": [
    {
     "name": "stdout",
     "output_type": "stream",
     "text": [
      "За 1000000 игр потрачено 1000000 рублей. Выигрыш составил 797263 рублей.\n",
      "Игра не выгодна.\n",
      "Среднее значение одного выигрыша равно -0.20 рублей.\n"
     ]
    }
   ],
   "source": [
    "game_cost = 1\n",
    "total_cost = 0\n",
    "total_win = 0\n",
    "\n",
    "games = 1000000\n",
    "\n",
    "for game in range(games):\n",
    "    total_cost += game_cost\n",
    "    points = np.random.randint(1000)\n",
    "    \n",
    "    if points == 777:\n",
    "        total_win += 200\n",
    "    elif points % 100 == 77:\n",
    "        total_win += 5\n",
    "    elif points % 10 == 7:\n",
    "        total_win += 3\n",
    "    \n",
    "    if points == 999:\n",
    "        total_win += 100\n",
    "    if points == 555:\n",
    "        total_win += 50\n",
    "    if points == 333:\n",
    "        total_win += 15\n",
    "    if points == 111:\n",
    "        total_win += 10\n",
    "        \n",
    "    if points % 100 == 0:\n",
    "        total_win += 2\n",
    "    elif points % 10 == 0:\n",
    "        total_win += 1\n",
    "\n",
    "print(f'За {games} игр потрачено {total_cost} рублей. Выигрыш составил {total_win} рублей.')\n",
    "if total_cost > total_win:\n",
    "    print('Игра не выгодна.')\n",
    "else:\n",
    "    print('Игра выгодна.')\n",
    "print(f'Среднее значение одного выигрыша равно {((total_win-total_cost)/games):.2f} рублей.')"
   ]
  },
  {
   "cell_type": "markdown",
   "metadata": {},
   "source": [
    "### Дополнительное задание\n",
    "Теоретически рассчитать средний выигрыш (проигрыш) и сравнить с результатами моделирования"
   ]
  },
  {
   "cell_type": "code",
   "execution_count": 136,
   "metadata": {},
   "outputs": [
    {
     "name": "stdout",
     "output_type": "stream",
     "text": [
      "100\n"
     ]
    }
   ],
   "source": [
    "count = 0\n",
    "\n",
    "for i in range(1000):\n",
    "    if i % 10 == 7:\n",
    "        count += 1\n",
    "        \n",
    "print(count)"
   ]
  },
  {
   "cell_type": "code",
   "execution_count": 144,
   "metadata": {},
   "outputs": [],
   "source": [
    "p_777 = 1/1000\n",
    "p_999 = 1/1000\n",
    "p_555 = 1/1000\n",
    "p_333 = 1/1000\n",
    "p_111 = 1/1000\n",
    "p_77 = 9/1000\n",
    "p_7 = 90/1000\n",
    "p_00 = 10/1000\n",
    "p_0 = 90/1000\n",
    "\n",
    "p_ = (1 - p_777 - p_999 - p_555 - p_333 - p_111 - p_77 - p_7 - p_00 - p_0)\n",
    "\n",
    "p_c = 1"
   ]
  },
  {
   "cell_type": "code",
   "execution_count": 145,
   "metadata": {},
   "outputs": [],
   "source": [
    "w_777 = 200\n",
    "w_999 = 100\n",
    "w_555 = 50\n",
    "w_333 = 15\n",
    "w_111 = 10\n",
    "w_77 = 5\n",
    "w_7 = 3\n",
    "w_00 = 2\n",
    "w_0 = 1\n",
    "\n",
    "p_ = 0\n",
    "\n",
    "w_c = -1"
   ]
  },
  {
   "cell_type": "code",
   "execution_count": 146,
   "metadata": {},
   "outputs": [
    {
     "name": "stdout",
     "output_type": "stream",
     "text": [
      "Среднее значение одного выигрыша равно -0.20 рублей\n"
     ]
    }
   ],
   "source": [
    "print(f'Среднее значение одного выигрыша равно {(p_777*w_777 + p_999*w_999 + p_555*w_555 + p_333*w_333 + p_111*w_111 + p_77*w_77 + p_7*w_7 + p_00*w_00 + p_0*w_0 + p_*w_) + p_с*w_c:.2f} рублей')"
   ]
  }
 ],
 "metadata": {
  "kernelspec": {
   "display_name": "Python 3",
   "language": "python",
   "name": "python3"
  },
  "language_info": {
   "codemirror_mode": {
    "name": "ipython",
    "version": 3
   },
   "file_extension": ".py",
   "mimetype": "text/x-python",
   "name": "python",
   "nbconvert_exporter": "python",
   "pygments_lexer": "ipython3",
   "version": "3.7.9"
  }
 },
 "nbformat": 4,
 "nbformat_minor": 4
}
