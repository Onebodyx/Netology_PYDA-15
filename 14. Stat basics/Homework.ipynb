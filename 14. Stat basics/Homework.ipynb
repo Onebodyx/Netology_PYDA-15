{
 "cells": [
  {
   "cell_type": "code",
   "execution_count": null,
   "metadata": {},
   "outputs": [],
   "source": [
    "import pandas as pd\n",
    "import numpy as np"
   ]
  },
  {
   "cell_type": "markdown",
   "metadata": {},
   "source": [
    "#### Примечание\n",
    "Все задания сразу выполнены для всего набора данных"
   ]
  },
  {
   "cell_type": "markdown",
   "metadata": {},
   "source": [
    "### Задание 1. Базовое изучение\n",
    "\n",
    "Изучить представленный набор данных на основе описания его столбцов и выбрать 8 столбцов для дальнейшего изучения (среди них должны быть как числовые, так и категориальные). Провести расчет базовых метрик для них, кратко описать результаты."
   ]
  },
  {
   "cell_type": "code",
   "execution_count": null,
   "metadata": {},
   "outputs": [],
   "source": [
    "df_horses = pd.read_csv('практика_и_дз\\horse_data.csv', header=None, na_values='?', \n",
    "                        names=['surgery',  'Age',  'Hospital_Number', 'rectal_temperature', 'pulse', 'respiratory_rate', \n",
    "                               'temperature_of_extremities', 'peripheral_pulse', 'mucous_membranes', 'capillary_refill_time',\n",
    "                               'pain', 'peristalsis', 'abdominal_distension', 'nasogastric_tube', 'nasogastric_reflux',\n",
    "                               'nasogastric_reflux PH', 'rectal_examination', 'abdomen', 'packed_cell_volume', 'total_protein',\n",
    "                               'abdominocentesis_appearance', 'abdomcentesis_total_protein', 'outcome', 'surgical_lesion',\n",
    "                               'type_of_lesion_1', 'type_of_lesion_2', 'type_of_lesion_3', 'cp_data'])\n",
    "df_horses.head()"
   ]
  },
  {
   "cell_type": "markdown",
   "metadata": {},
   "source": [
    "Проанализириуем весь набор данных"
   ]
  },
  {
   "cell_type": "code",
   "execution_count": null,
   "metadata": {},
   "outputs": [],
   "source": [
    "df_horses.shape"
   ]
  },
  {
   "cell_type": "code",
   "execution_count": null,
   "metadata": {},
   "outputs": [],
   "source": [
    "df_horses.info()"
   ]
  },
  {
   "cell_type": "code",
   "execution_count": null,
   "metadata": {},
   "outputs": [],
   "source": [
    "for col in df_horses.columns:\n",
    "    pct_missing = df_horses[col].isnull().mean()\n",
    "    print(f'{col} - {pct_missing :.1%}')"
   ]
  },
  {
   "cell_type": "markdown",
   "metadata": {},
   "source": [
    "#### Обзор набора данных\n",
    "\n",
    "Имеем 300 записей. \n",
    "\n",
    "Все признаки представлены в виде целых и дробных чисел.\n",
    "\n",
    "В наборе данных есть признаки без пропущенных значений (7 признаков.), признаки с долей пропущенных значений меньше 50% (18 признаков) и признаки с долей пропущенных значений больше 50% (3 признака)."
   ]
  },
  {
   "cell_type": "markdown",
   "metadata": {},
   "source": [
    "##### Обзор признаков\n",
    "Проанилизируем информацию в каждом из столбцов"
   ]
  },
  {
   "cell_type": "code",
   "execution_count": null,
   "metadata": {},
   "outputs": [],
   "source": [
    "df_horses_desc = df_horses.describe()\n",
    "\n",
    "metrics = {}\n",
    "for col in df_horses:\n",
    "    metrics[col] = df_horses[col].mode()[0]\n",
    "df_horses_desc = pd.concat([df_horses_desc, pd.DataFrame([metrics], index = ['mode'])])\n",
    "\n",
    "metrics = {}\n",
    "for col in df_horses:\n",
    "    metrics[col] = df_horses[col].max() - df_horses[col].min()\n",
    "df_horses_desc = pd.concat([df_horses_desc, pd.DataFrame([metrics], index = ['swipe'])])\n",
    "\n",
    "\n",
    "df_horses_desc"
   ]
  },
  {
   "cell_type": "code",
   "execution_count": null,
   "metadata": {},
   "outputs": [],
   "source": [
    "df_horses['surgery'].value_counts(normalize = True)"
   ]
  },
  {
   "cell_type": "markdown",
   "metadata": {},
   "source": [
    "###### Признак surgery\n",
    "Данный признак отображет информацию о факте хирургического вмешательства и является категориальным.\n",
    "\n",
    "В столбце, соответствующем данному признаку, отсутсвует менее 1% значений.\n",
    "\n",
    "Лечение около 60% лошадей было сопряжено с операцией.\n",
    "\n"
   ]
  },
  {
   "cell_type": "markdown",
   "metadata": {},
   "source": [
    "###### Признак Age\n",
    "Данный признак отображет информацию о возрасте болеюищх лошадей и является дискретным.\n",
    "\n",
    "В столбце, соответствующем данному признаку, нет отсутствующих значений.\n",
    "\n",
    "Средний возраст лошадей составляет 1.6 года, при том, что лошади младше 1 года в выборке отсутствуют. С учетом стандартного отклонения, равного 2.17 (очевидно, как правило, в большую сторону от среднего) можно сделать вывод, что количество больных лошадей обратнопропорционально их возрасту."
   ]
  },
  {
   "cell_type": "code",
   "execution_count": null,
   "metadata": {},
   "outputs": [],
   "source": [
    "df_horses['Hospital_Number'].value_counts().value_counts(normalize=True)"
   ]
  },
  {
   "cell_type": "markdown",
   "metadata": {},
   "source": [
    "###### Признак Hospital Number\n",
    "Данный признак является идентификатором, присовенным пациенту(лошади) и является категориальным.\n",
    "\n",
    "В столбце, соответствующем данному признаку, нет отсутствующих значений.\n",
    "\n",
    "Анализ данного признака целесообразен только с точки зрения частоты встречаемости значений. 94% пациентов подвергались лечению единожды."
   ]
  },
  {
   "cell_type": "markdown",
   "metadata": {},
   "source": [
    "###### Признак rectal_temperature\n",
    "Данный признак отображает информацию о температуре тела лошади в некоторый момент времени и является непрерывным.\n",
    "\n",
    "В столбце, соответствующем данному признаку, отсутствуюет 20% значений.\n",
    "\n",
    "Температура 75% лошадей выше нормы, но, как правило, отклоняется от нормы не более чем на 1 градус."
   ]
  },
  {
   "cell_type": "markdown",
   "metadata": {},
   "source": [
    "###### Признак pulse\n",
    "Данный признак отображает информацию о количестве ударов сердца в минуту и является дискретным.\n",
    "\n",
    "В столбце, соответствующем данному признаку, отсутствуюет 8% значений.\n",
    "\n",
    "Пульс почти всех лошадей значительно повышен, причем разброс значений весьма велик. Такие значения свидетельствует о нарушенном кровообращении или болевом шоке."
   ]
  },
  {
   "cell_type": "code",
   "execution_count": null,
   "metadata": {},
   "outputs": [],
   "source": [
    "df_horses[df_horses['respiratory_rate'] <= 10].shape[0] / df_horses[~df_horses['respiratory_rate'].isnull()].shape[0]"
   ]
  },
  {
   "cell_type": "markdown",
   "metadata": {},
   "source": [
    "###### Признак respiratory_rate\n",
    "Данный признак отображает информацию о частоте дыхания и является дискретным.\n",
    "\n",
    "В столбце, соответствующем данному признаку, отсутствуюет 19.3% значений.\n",
    "\n",
    "Частота дыхания почти всех лошадей значительно повышена, причем разброс значений весьма велик. Только у 2.4% лошадей частота укладывается в нормальный диапазаон. Можно предположить, что данный признак сильно коррелирует с признаком pulse."
   ]
  },
  {
   "cell_type": "code",
   "execution_count": null,
   "metadata": {},
   "outputs": [],
   "source": [
    "df_horses.temperature_of_extremities.value_counts(normalize=True)"
   ]
  },
  {
   "cell_type": "markdown",
   "metadata": {},
   "source": [
    "###### Признак temperature_of_extremities\n",
    "Данный признак отображает субъективную оценку температуры конечностей лошадей и является категориальным.\n",
    "\n",
    "В столбце, соответствующем данному признаку, отсутствуюет 18.7% значений.\n",
    "\n",
    "Менее чем у трети лошадей температура конечностей оценена как нормальная"
   ]
  },
  {
   "cell_type": "code",
   "execution_count": null,
   "metadata": {},
   "outputs": [],
   "source": [
    "df_horses.peripheral_pulse.value_counts(normalize=True)"
   ]
  },
  {
   "cell_type": "markdown",
   "metadata": {},
   "source": [
    "###### Признак peripheral_pulse\n",
    "Данный признак отображает субъективную оценку частоты переферийного пульcа и является категориальным.\n",
    "\n",
    "В столбце, соответствующем данному признаку, отсутствуюет 23% значений.\n",
    "\n",
    "Примерно у половины лошадей данный показатель оценен как соответствующий норме. Сильные отклонения от нормы встречаются крайне редко."
   ]
  },
  {
   "cell_type": "code",
   "execution_count": null,
   "metadata": {},
   "outputs": [],
   "source": [
    "df_horses.mucous_membranes.value_counts(normalize=True)"
   ]
  },
  {
   "cell_type": "markdown",
   "metadata": {},
   "source": [
    "###### Признак mucous_membranes\n",
    "Данный признак отображает субъективную оценку цвета слизистой оболочки и является категориальным.\n",
    "\n",
    "В столбце, соответствующем данному признаку, отсутствуюет 15.7% значений.\n",
    "\n",
    "Отклонения от нормы найдены у 58% лошадей."
   ]
  },
  {
   "cell_type": "code",
   "execution_count": null,
   "metadata": {},
   "outputs": [],
   "source": [
    "df_horses.capillary_refill_time.value_counts(normalize=True)"
   ]
  },
  {
   "cell_type": "markdown",
   "metadata": {},
   "source": [
    "###### Признак capillary_refill_time\n",
    "Данный признак отображает информацию о скорости наполнения капиляров и является категориальным.\n",
    "\n",
    "В столбце, соответствующем данному признаку, отсутствуюет 15.7% значений.\n",
    "\n",
    "Для 70% лошадей показатель соответствует норме. Необходимо отметить, что среди значений присутствует значение \"3\", что может свидетельствовать о нарушениях при сборе данных или их описании."
   ]
  },
  {
   "cell_type": "code",
   "execution_count": null,
   "metadata": {},
   "outputs": [],
   "source": [
    "df_horses.pain.value_counts(normalize=True)"
   ]
  },
  {
   "cell_type": "markdown",
   "metadata": {},
   "source": [
    "###### Признак pain\n",
    "Данный признак отображает субъективную оценку болевых ощущений лошади и является категориальным.\n",
    "\n",
    "В столбце, соответствующем данному признаку, отсутствуюет 18.3% значений.\n",
    "\n",
    "85% лошадей испытывают боль в том или ином виде. Сильные боли испытывает треть лошадей."
   ]
  },
  {
   "cell_type": "code",
   "execution_count": null,
   "metadata": {},
   "outputs": [],
   "source": [
    "df_horses.peristalsis.value_counts(normalize=True)"
   ]
  },
  {
   "cell_type": "markdown",
   "metadata": {},
   "source": [
    "###### Признак peristalsis\n",
    "Данный признак отображает информацию об активности в кишечнике лошади и является категориальным.\n",
    "\n",
    "В столбце, соответствующем данному признаку, отсутствуюет 14.7% значений.\n",
    "\n",
    "Почти у всех лошадей кишечник находится не в нормальном состоянии. Половина значений соответствует диагнозу \"гипомотиль\""
   ]
  },
  {
   "cell_type": "code",
   "execution_count": null,
   "metadata": {},
   "outputs": [],
   "source": [
    "df_horses.abdominal_distension.value_counts(normalize=True)"
   ]
  },
  {
   "cell_type": "markdown",
   "metadata": {},
   "source": [
    "###### Признак abdominal_distension \n",
    "Данный признак отображает информацию вздутии живота лошади и является категориальным.\n",
    "\n",
    "В столбце, соответствующем данному признаку, отсутствуюет 18.7% значений.\n",
    "\n",
    "Более чем у двух третей лошадей замечено вздутие живота. У 15% из них данное вздутие свидетельствует о крайне остром течении болезни."
   ]
  },
  {
   "cell_type": "code",
   "execution_count": null,
   "metadata": {},
   "outputs": [],
   "source": [
    "df_horses.nasogastric_tube.value_counts(normalize=True)"
   ]
  },
  {
   "cell_type": "markdown",
   "metadata": {},
   "source": [
    "###### Признак nasogastric_tube  \n",
    "Данный признак отображает информацию количестве газа в кишечнике лошади и является категориальным.\n",
    "\n",
    "В столбце, соответствующем данному признаку, отсутствуюет 34.7% значений. В связи с этим выводы, основывающиеся на значении данного признака, необходимо делать острожно.\n",
    "\n",
    "Газы отсутствуют в кишечниках 36% лошадей. 11% это доставляет сильный дискомфорт."
   ]
  },
  {
   "cell_type": "code",
   "execution_count": null,
   "metadata": {},
   "outputs": [],
   "source": [
    "df_horses.nasogastric_reflux.value_counts(normalize=True)"
   ]
  },
  {
   "cell_type": "markdown",
   "metadata": {},
   "source": [
    "###### Признак nasogastric_reflux   \n",
    "Данный признак отображает информацию количестве инородной жидкости в кишечнике лошади и является категориальным.\n",
    "\n",
    "В столбце, соответствующем данному признаку, отсутствуюет 35.3% значений. В связи с этим выводы, основывающиеся на значении данного признака, необходимо делать острожно.\n",
    "\n",
    "Чуть менее 20% лошадей находятся в критическом состоянии в связи с наличием большого объема инородной жидкости в кишечнике."
   ]
  },
  {
   "cell_type": "markdown",
   "metadata": {},
   "source": [
    "###### Признак nasogastric_reflux PH  \n",
    "Данный признак отображает информацию количестве инородной жидкости в кишечнике лошади и является категориальным.\n",
    "\n",
    "В столбце, соответствующем данному признаку, отсутствуюет 82.3% значений, что делает его фактически непригодным в качестве основы для выводов."
   ]
  },
  {
   "cell_type": "code",
   "execution_count": null,
   "metadata": {},
   "outputs": [],
   "source": [
    "df_horses.rectal_examination.value_counts(normalize=True)"
   ]
  },
  {
   "cell_type": "markdown",
   "metadata": {},
   "source": [
    "###### Признак rectal_examination\n",
    "Данный признак отображает информацию количестве кала лошади и является категориальным.\n",
    "\n",
    "В столбце, соответствующем данному признаку, отсутствуюет 34% значений. В связи с этим выводы, основывающиеся на значении данного признака, необходимо делать острожно.\n",
    "\n",
    "Почти у 40% лошадей наблюдается запор."
   ]
  },
  {
   "cell_type": "code",
   "execution_count": null,
   "metadata": {},
   "outputs": [],
   "source": [
    "df_horses.abdomen.value_counts(normalize=True)"
   ]
  },
  {
   "cell_type": "markdown",
   "metadata": {},
   "source": [
    "###### Признак abdomen\n",
    "Данный признак отображает информацию о состоянии брюха лошади и является категориальным.\n",
    "\n",
    "В столбце, соответствующем данному признаку, отсутствуюет 39.3% значений. В связи с этим выводы, основывающиеся на значении данного признака, необходимо делать острожно.\n",
    "\n",
    "Брюшная полость около двух третей лошадей свидетельствует о хирургическом поражении."
   ]
  },
  {
   "cell_type": "markdown",
   "metadata": {},
   "source": [
    "###### Признак packed_cell_volume \n",
    "Данный признак отображает информацию об объеме эретроцитов в крови лошади и является непрерывным.\n",
    "\n",
    "В столбце, соответствующем данному признаку, отсутствуюет 9.7% значений.\n",
    "\n",
    "Объем эретроцитов в крови у большинства лошадей соответствует норме. Отклонения, в случае их наличия, незначительны."
   ]
  },
  {
   "cell_type": "markdown",
   "metadata": {},
   "source": [
    "###### Признак total_protein \n",
    "Данный признак отображает информацию об объеме протеина в организме лошади и является непрерывным.\n",
    "\n",
    "В столбце, соответствующем данному признаку, отсутствуюет 11% значений.\n",
    "\n",
    "У половины лошадей данный показатель многократно завышен.Средний разброс значений огромен по сравнению с нормальным диапазоном значений."
   ]
  },
  {
   "cell_type": "markdown",
   "metadata": {},
   "source": [
    "###### Признак abdominocentesis_appearance \n",
    "Данный признак отображает информацию о консистенции жидкостей в кишечнике лошади и является категорильным.\n",
    "\n",
    "В столбце, соответствующем данному признаку, отсутствуюет 55% значений .В связи с этим выводы, основывающиеся на значении данного признака, делать не рекомендуется."
   ]
  },
  {
   "cell_type": "markdown",
   "metadata": {},
   "source": [
    "###### Признак abdomcentesis_total_protein\n",
    "Данный признак отображает информацию об объеме протеина в брюшной полости лошади и является непрерывным.\n",
    "\n",
    "В столбце, соответствующем данному признаку, отсутствуюет 66% значений .В связи с этим выводы, основывающиеся на значении данного признака, делать не рекомендуется."
   ]
  },
  {
   "cell_type": "markdown",
   "metadata": {},
   "source": [
    "###### Признак abdomcentesis_total_protein\n",
    "Данный признак отображает информацию об объеме протеина в брюшной полости лошади и является непрерывным.\n",
    "\n",
    "В столбце, соответствующем данному признаку, отсутствуюет 66% значений .В связи с этим выводы, основывающиеся на значении данного признака, делать не рекомендуется."
   ]
  },
  {
   "cell_type": "code",
   "execution_count": null,
   "metadata": {},
   "outputs": [],
   "source": [
    "df_horses.outcome.value_counts(normalize=True)"
   ]
  },
  {
   "cell_type": "markdown",
   "metadata": {},
   "source": [
    "###### Признак outcome   \n",
    "Данный признак отображает информацию об итогах клинического случая и является категорильным.\n",
    "\n",
    "В столбце, соответствующем данному признаку, отсутствуюет 0.3% значений.\n",
    "\n",
    "Жизнь около 40% лошадей так или иначе прекратилась."
   ]
  },
  {
   "cell_type": "code",
   "execution_count": null,
   "metadata": {},
   "outputs": [],
   "source": [
    "df_horses.surgical_lesion.value_counts(normalize=True)"
   ]
  },
  {
   "cell_type": "markdown",
   "metadata": {},
   "source": [
    "###### Признак surgical_lesion  \n",
    "Данный признак отображает информацию о том, являлось ли поражение лошади хирургическим и является категорильным.\n",
    "\n",
    "В столбце, соответствующем данному признаку, нет отсутствующих значений.\n",
    "\n",
    "Примерно в 2 из 3 случаев поражение являлось хирургическим."
   ]
  },
  {
   "cell_type": "code",
   "execution_count": null,
   "metadata": {},
   "outputs": [],
   "source": [
    "df_horses.type_of_lesion_1.value_counts(normalize=True)"
   ]
  },
  {
   "cell_type": "code",
   "execution_count": null,
   "metadata": {},
   "outputs": [],
   "source": [
    "df_horses.type_of_lesion_2.value_counts(normalize=True)"
   ]
  },
  {
   "cell_type": "markdown",
   "metadata": {},
   "source": [
    "###### Признаки type_of_lesion\n",
    "Группа данных признаков отображает информацию о типе хирургического поражения и являются категорильными.\n",
    "\n",
    "В столбцах, соответствующих данным признакам, нет отсутствующих значений.\n",
    "\n",
    "Для 18% лошадей данный тип не был установлен. Для менее, чем 3% лошадей было установлено сразу два или более типа поражения."
   ]
  },
  {
   "cell_type": "markdown",
   "metadata": {},
   "source": [
    "###### Признаки cp_data \n",
    "Группа данных признаков отображает информацию о том, имеют ли отношение патологические данные к данному клиническому случаю и являются категорильными.\n",
    "\n",
    "В столбце, соответствующем данному признаку, нет отсутствующих значений.\n",
    "\n",
    "В описании данных данный признак указан как несущественный."
   ]
  },
  {
   "cell_type": "code",
   "execution_count": null,
   "metadata": {},
   "outputs": [],
   "source": [
    "df_horses"
   ]
  },
  {
   "cell_type": "markdown",
   "metadata": {},
   "source": [
    "### Задание 2. Работа с выбросами\n",
    "\n",
    "В выбранных числовых столбцах найти выбросы, выдвинуть гипотезы об их причинах и проинтерпретировать результаты. Принять и обосновать решение о дальнейшей работе с ними."
   ]
  },
  {
   "cell_type": "code",
   "execution_count": null,
   "metadata": {},
   "outputs": [],
   "source": [
    "def outliers (data):\n",
    "    outlier = {}\n",
    "    q1 = data.quantile(0.25)\n",
    "    q3 = data.quantile(0.75)\n",
    "    iqr = q3 - q1\n",
    "    lower_bound = q1 - (1.5 * iqr) \n",
    "    upper_bound = q3 + (1.5 * iqr)\n",
    "    outlier[data.name] = data[(~data.isnull()) & (~data.between(lower_bound, upper_bound, inclusive=True))].values\n",
    "    if len(outlier[data.name])>0:\n",
    "        print(outlier)"
   ]
  },
  {
   "cell_type": "code",
   "execution_count": null,
   "metadata": {},
   "outputs": [],
   "source": [
    "df_horses.apply(outliers)\n",
    "print()"
   ]
  },
  {
   "cell_type": "code",
   "execution_count": null,
   "metadata": {},
   "outputs": [],
   "source": [
    "df_horses[df_horses['pulse'] == 184]"
   ]
  },
  {
   "cell_type": "code",
   "execution_count": null,
   "metadata": {},
   "outputs": [],
   "source": [
    "df_horses[df_horses['packed_cell_volume'] > 60].shape"
   ]
  },
  {
   "cell_type": "markdown",
   "metadata": {},
   "source": [
    "В нашем случае о выбросах целесообразно говорить, имея в виду **только значения дискретных и непрерывных величин**.\n",
    "В целом анализ выбросов значительно затруднен полным отсутствием знаний в предметной области.\n",
    "\n",
    "Рассмотрим выбросы для каждого из соответствующих признаков:\n",
    "\n",
    "- **Age** Значение 9 не является выбросом. Лошади вполне могут жить 9 лет.\n",
    "- **rectal_temperature** Как минимальное значение (35.4), так и максимальное значение (40.8) не являются выбросами - у лошадей могут быть такие температуры тела.\n",
    "- **pulse** Значение от 150 до 164 не являются выбросами. Что касается значения 184 - оно выглядит действительно подозрительно. Тем не менее, оно также не является выбросом, ибо у лошади, для которой было зафиксированно данное значние, наблюдается также экстремально высокая частота дыхания, низкое значение протеина, сильные болевые ощущения, некоторое вздутие живота. Вполне вероятно, что она находилась в критическом состоянии, чем объясняется высокое значение пульса. Это подтверждает её смерть в итоге. Поэтому с данным значением также предлагается ничего не делать.\n",
    "- **respiratory_rate** Судя по крайне высокому стандартному отклонению данного признака, значения выше 70 не являются выбросами. С другой стороны, нормальные значения данного признака находятся в области 8-10; им соответствует менее 3% лошадей, что само по себе довольно подозрительно. Хотелось бы уточнить информацию о способе измерения и измерительном приборе. В противном случае, я бы поостерегся использовать значения данного столбца для анализа данных.\n",
    "- **packed_cell_volume** Значения больше 74 не похожи на выбросы, рядом с ними находится довольно много близких значений.\n",
    "- **abdomcentesis_total_protein** Значения больше 7 не похожи на выбросы, рядом с ними находится довольно много близких значений."
   ]
  },
  {
   "cell_type": "markdown",
   "metadata": {},
   "source": [
    "### Задание 3. Работа с пропусками\n",
    "Рассчитать количество пропусков для всех выбранных столбцов. Принять и обосновать решение о методе работы с пропусками по каждому столбцу, сформировать датафрейм, в котором пропуски будут отсутствовать."
   ]
  },
  {
   "cell_type": "code",
   "execution_count": null,
   "metadata": {},
   "outputs": [],
   "source": [
    "for col in df_horses.columns:\n",
    "    pct_missing = df_horses[col].isnull().mean()\n",
    "    if pct_missing>0:\n",
    "        print(f'{col} - {pct_missing :.1%}')"
   ]
  },
  {
   "cell_type": "markdown",
   "metadata": {},
   "source": [
    "Рассмотрим пропуски для каждого из соответствующих признаков:\n",
    "\n",
    "- **surgery** Так как в данном столбце содержится меньше 10% пропусков, их замена на моду кажется оправданной и не внесет существенного искажения в статистические показатели.\n",
    "- **rectal_temperature** Так как значения моды, медианы и среднего находятся близко друг к другу, целесообразно заменить отсутствующие значения значениями из нормального распределения, сгруппированными вокруг среднего.\n",
    "- **pulse** Так как в данном столбце содержится меньше 10% пропусков, а стандартное отклонение велико, их замена на среднее значение кажется оправданной и не внесет существенного искажения в статистические показатели.\n",
    "- **respiratory_rate** Так как значения моды, медианы и среднего отличаются достаточно сильно, целесообразно заменить отсутствующие значения значениями из нормального распределения, сгруппированными вокруг медианы. Кроме того, учитывая большое значение размаха, к результату предлагается прибавить ещё половину стандартного отклонения.\n",
    "- **temperature_of_extremities** Так как признак является категориальным, целесообразно добавить отдельную категорию, соответствующую отсутсвующим значениям.\n",
    "- **peripheral_pulse** Так как признак является категориальным, целесообразно добавить отдельную категорию, соответствующую отсутсвующим значениям.\n",
    "- **mucous_membranes** Так как признак является категориальным, целесообразно добавить отдельную категорию, соответствующую отсутсвующим значениям.\n",
    "- **capillary_refill_time** Так как признак является категориальным, целесообразно добавить отдельную категорию, соответствующую отсутсвующим значениям.\n",
    "- **pain** Так как признак является категориальным, целесообразно добавить отдельную категорию, соответствующую отсутсвующим значениям.\n",
    "- **peristalsis** Так как признак является категориальным, целесообразно добавить отдельную категорию, соответствующую отсутсвующим значениям.\n",
    "- **abdominal_distension** Так как признак является категориальным, целесообразно добавить отдельную категорию, соответствующую отсутсвующим значениям.\n",
    "- **nasogastric_tube** Так как признак является категориальным, целесообразно добавить отдельную категорию, соответствующую отсутсвующим значениям.\n",
    "- **nasogastric_reflux** Так как признак является категориальным, целесообразно добавить отдельную категорию, соответствующую отсутсвующим значениям.\n",
    "- **nasogastric_reflux PH** Количество пропусков в данном столбце слишком велико. Предлагается не использовать данный столбец при анализе данных.\n",
    "- **rectal_examination** Так как признак является категориальным, целесообразно добавить отдельную категорию, соответствующую отсутсвующим значениям.\n",
    "- **abdomen** Так как признак является категориальным, целесообразно добавить отдельную категорию, соответствующую отсутсвующим значениям.\n",
    "- **packed_cell_volume** Так как в данном столбце содержится меньше 10% пропусков, а среднее арифметическое почти совпадает с медианой, их замена на среднее значение кажется оправданной и не внесет существенного искажения в статистические показатели.\n",
    "- **total_protein** Так как мода и медиана находятся довольно близко друг к другу, а среднее арифметическое находится от них весьма далеко, заполнение отсутствующих значений представляется затруднительной задачей. Предполагается, что распределение имеющихся величин описывается чем-то похожим на гамма-распределение.\n",
    "- **abdominocentesis_appearance** Количество пропусков в данном столбце слишком велико. Предлагается не использовать данный столбец при анализе данных.\n",
    "- **abdomcentesis_total_protein** Количество пропусков в данном столбце слишком велико. Предлагается не использовать данный столбец при анализе данных.\n",
    "- **outcome** Так как в данном столбце содержится меньше 5% пропусков, их замена на моду кажется оправданной и не внесет существенного искажения в статистические показатели.\n"
   ]
  },
  {
   "cell_type": "code",
   "execution_count": null,
   "metadata": {},
   "outputs": [],
   "source": [
    "df_horses['surgery'].fillna(df_horses['surgery'].mode()[0], inplace = True)\n",
    "df_horses['outcome'].fillna(df_horses['outcome'].mode()[0], inplace = True)\n",
    "\n",
    "df_horses['pulse'].fillna(df_horses['pulse'].mean(), inplace = True)\n",
    "df_horses['packed_cell_volume'].fillna(df_horses['packed_cell_volume'].mean(), inplace = True)\n",
    "\n",
    "random_values = {}\n",
    "for index in df_horses[df_horses['rectal_temperature'].isnull()].index:\n",
    "    random_values[index] = np.random.normal(df_horses['rectal_temperature'].mean(), df_horses['rectal_temperature'].std())\n",
    "df_horses['rectal_temperature'].fillna(random_values, inplace = True)\n",
    "    \n",
    "random_values = {}\n",
    "for index in df_horses[df_horses['respiratory_rate'].isnull()].index:\n",
    "    random_values[index] = np.random.normal(df_horses['respiratory_rate'].median(), df_horses['respiratory_rate'].std()) + 0.5*df_horses['respiratory_rate'].std()\n",
    "df_horses['respiratory_rate'].fillna(random_values, inplace = True)\n",
    "    \n",
    "random_values = {}\n",
    "for index in df_horses[df_horses['total_protein'].isnull()].index:\n",
    "    #коэффиценты для гамма-распределения были подобраны эксперементально\n",
    "    random_values[index] = np.random.gamma(2, 5)\n",
    "df_horses['total_protein'].fillna(random_values, inplace = True)\n",
    "\n",
    "df_horses['pain'].fillna('-999', inplace = True)\n",
    "df_horses['temperature_of_extremities'].fillna('-999', inplace = True)\n",
    "df_horses['peripheral_pulse'].fillna('-999', inplace = True)\n",
    "df_horses['mucous_membranes'].fillna('-999', inplace = True)\n",
    "df_horses['capillary_refill_time'].fillna('-999', inplace = True)\n",
    "df_horses['peristalsis'].fillna('-999', inplace = True)\n",
    "df_horses['abdominal_distension'].fillna('-999', inplace = True)\n",
    "df_horses['nasogastric_tube'].fillna('-999', inplace = True)\n",
    "df_horses['nasogastric_reflux'].fillna('-999', inplace = True)\n",
    "df_horses['rectal_examination'].fillna('-999', inplace = True)\n",
    "df_horses['abdomen'].fillna('-999', inplace = True)\n",
    "\n",
    "df_horses.drop(['abdominocentesis_appearance', 'abdomcentesis_total_protein', 'nasogastric_reflux PH'], axis=1, inplace=True)"
   ]
  },
  {
   "cell_type": "code",
   "execution_count": null,
   "metadata": {},
   "outputs": [],
   "source": [
    "# s = np.random.gamma(2, 5, 10000)\n",
    "\n",
    "# import matplotlib.pyplot as plt\n",
    "# import scipy.special as sps  \n",
    "# count, bins, ignored = plt.hist(s, 50, density=True)\n",
    "# y = bins**(shape-1)*(np.exp(-bins/scale) /  \n",
    "#                      (sps.gamma(shape)*scale**shape))\n",
    "# plt.plot(bins, y, linewidth=2, color='r')  \n",
    "# plt.show()\n",
    "\n",
    "# print(np.median(s), s.mean(), s.max())"
   ]
  },
  {
   "cell_type": "markdown",
   "metadata": {},
   "source": [
    "Основные статистические показатели для всех дискретных и непрерывных признаков до и после заполнения пропущенных значений отличаются незначительно, что подтверждает правильность выбора методов заполнения данных признаков"
   ]
  },
  {
   "cell_type": "code",
   "execution_count": null,
   "metadata": {},
   "outputs": [],
   "source": [
    "df_horses_desc"
   ]
  },
  {
   "cell_type": "code",
   "execution_count": null,
   "metadata": {},
   "outputs": [],
   "source": [
    "df_horses.describe()"
   ]
  }
 ],
 "metadata": {
  "kernelspec": {
   "display_name": "Python 3",
   "language": "python",
   "name": "python3"
  },
  "language_info": {
   "codemirror_mode": {
    "name": "ipython",
    "version": 3
   },
   "file_extension": ".py",
   "mimetype": "text/x-python",
   "name": "python",
   "nbconvert_exporter": "python",
   "pygments_lexer": "ipython3",
   "version": "3.7.9"
  }
 },
 "nbformat": 4,
 "nbformat_minor": 4
}
