{
 "cells": [
  {
   "cell_type": "markdown",
   "metadata": {},
   "source": [
    "### Задание 1\n",
    "Переведите содержимое файла purchase_log.txt в словарь purchases вида:\n",
    "{‘1840e0b9d4’: ‘Продукты’, …}"
   ]
  },
  {
   "cell_type": "code",
   "execution_count": null,
   "metadata": {},
   "outputs": [],
   "source": [
    "import json\n",
    "\n",
    "def dict_from_file(path):\n",
    "    purchases = {}\n",
    "\n",
    "    with open('purchase_log.txt', 'r', encoding='utf-8') as f:\n",
    "        for line in f:\n",
    "            dict_line = json.loads(line)  \n",
    "            purchases[dict_line['user_id']] = dict_line['category']\n",
    "        del(purchases['user_id'])\n",
    "    return purchases\n",
    "    \n",
    "purchases = dict_from_file('purchase_log.txt')"
   ]
  },
  {
   "cell_type": "markdown",
   "metadata": {},
   "source": [
    "### Задание 2\n",
    "Для каждого user_id в файле visit_log.csv определите третий столбец с категорией покупки (если покупка была, сам файл visit_log.csv изменять не надо). Запишите в файл funnel.csv визиты из файла visit_log.csv, в которых были покупки с указанием категории.\n",
    "Учтите условия на данные:\n",
    "содержимое purchase_log.txt помещается в оперативную память компьютера, содержимое visit_log.csv - нет; используйте только построчную обработку этого файла"
   ]
  },
  {
   "cell_type": "code",
   "execution_count": null,
   "metadata": {},
   "outputs": [],
   "source": [
    "purchases = dict_from_file('purchase_log.txt')\n",
    "\n",
    "with open('visit_log.csv', 'r') as f:\n",
    "    with open('funnel.csv', 'w') as funnel:\n",
    "        for line in f:\n",
    "            visit = line.strip().split(',')\n",
    "            if visit[0] in purchases:\n",
    "                funnel.write(f'{visit[0]}, {visit[1]}, {purchases[visit[0]]} \\n')"
   ]
  },
  {
   "cell_type": "code",
   "execution_count": null,
   "metadata": {},
   "outputs": [],
   "source": [
    "with open('visit_log.csv', 'r') as f:\n",
    "    for i, line in enumerate(f):\n",
    "        print()"
   ]
  }
 ],
 "metadata": {
  "kernelspec": {
   "display_name": "Python 3",
   "language": "python",
   "name": "python3"
  },
  "language_info": {
   "codemirror_mode": {
    "name": "ipython",
    "version": 3
   },
   "file_extension": ".py",
   "mimetype": "text/x-python",
   "name": "python",
   "nbconvert_exporter": "python",
   "pygments_lexer": "ipython3",
   "version": "3.7.9"
  }
 },
 "nbformat": 4,
 "nbformat_minor": 4
}
