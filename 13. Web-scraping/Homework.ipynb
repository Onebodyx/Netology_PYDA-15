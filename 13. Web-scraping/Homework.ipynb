{
 "cells": [
  {
   "cell_type": "code",
   "execution_count": null,
   "metadata": {},
   "outputs": [],
   "source": [
    "import requests\n",
    "from bs4 import BeautifulSoup\n",
    "import pandas as pd\n",
    "import datetime\n",
    "import time"
   ]
  },
  {
   "cell_type": "markdown",
   "metadata": {},
   "source": [
    "### Задание 1\n",
    "\n",
    "Будем парсить страницу со свежеми новостям на habr.com/ru/all/.\n",
    "\n",
    "Вам необходимо собирать только те статьи, в которых встречается хотя бы одно требуемое ключевое слово. Эти слова определяем в начале кода в переменной, например:\n",
    "\n",
    "KEYWORDS = ['python', 'парсинг']\n",
    "\n",
    "Поиск вести по всей доступной preview-информации (это информация, доступная непосредственно с текущей страницы).\n",
    "\n",
    "В итоге должен формироваться датафрейм вида: <дата> - <заголовок> - <ссылка>\n",
    "\n",
    "\n",
    "#### Дополнительная часть (необязательная)\n",
    "Улучшить скрипт так, чтобы он анализировал не только preview-информацию статьи, но и весь текст статьи целиком.\n",
    "\n",
    "Для этого потребуется получать страницы статей и искать по тексту внутри этой страницы.\n",
    "\n",
    "Итоговый датафрейм формировать со столбцами: <дата> - <заголовок> - <ссылка> - <текст_статьи>"
   ]
  },
  {
   "cell_type": "code",
   "execution_count": null,
   "metadata": {},
   "outputs": [],
   "source": [
    "KEYWORDS = ['python', 'парсинг']"
   ]
  },
  {
   "cell_type": "code",
   "execution_count": null,
   "metadata": {},
   "outputs": [],
   "source": [
    "habr_posts = pd.DataFrame()\n",
    "\n",
    "habr_posts_req = requests.get('https://habr.com/ru/all/')\n",
    "time.sleep(0.3)\n",
    "\n",
    "soup = BeautifulSoup(habr_posts_req.text, 'html.parser')\n",
    "\n",
    "posts = soup.find_all('article', class_='post')\n",
    "\n",
    "for post in posts:\n",
    "    post_link = post.find('a', class_='post__title_link').get('href')\n",
    "    habr_post_req = requests.get(post_link)\n",
    "    time.sleep(0.3)\n",
    "    full_post = BeautifulSoup(habr_post_req.text, 'html.parser')\n",
    "    for word in full_post.find('div', class_='post__text').text.split():\n",
    "        if word.lower() in KEYWORDS:\n",
    "            post_date = full_post.find('span', class_='post__time').text\n",
    "            if 'сегодня' in post_date:\n",
    "                post_date = datetime.datetime.now().strftime('%d.%m.%Y')\n",
    "            elif 'вчера' in post_date:\n",
    "                post_date = (datetime.datetime.now()-datetime.timedelta(days=1)).strftime('%d.%m.%Y')\n",
    "            post_title = full_post.find('span', class_='post__title-text').text\n",
    "            post_text = full_post.find('div', class_='post__text').text\n",
    "            row = {'time': post_date, 'title': post_title, 'link': post_link, 'text': post_text}\n",
    "            habr_posts = pd.concat([habr_posts, pd.DataFrame([row])])          \n",
    "            break\n",
    "        \n",
    "habr_posts.head()"
   ]
  },
  {
   "cell_type": "markdown",
   "metadata": {},
   "source": [
    "### Задание 2\n",
    "Написать скрипт, который будет проверять список e-mail адресов на утечку при помощи сервиса Avast Hack Ckeck. Список email-ов задаем переменной в начале кода:\n",
    "EMAIL = [xxx@x.ru, yyy@y.com]\n",
    "\n",
    "В итоге должен формироваться датафрейм со столбцами: <почта> - <дата утечки> - <источник утечки> - <описание утечки>\n",
    "\n",
    "Подсказка: сервис работает при помощи \"скрытого\" API. Внимательно изучите post-запросы."
   ]
  },
  {
   "cell_type": "code",
   "execution_count": null,
   "metadata": {},
   "outputs": [],
   "source": [
    "EMAIL = ['xxx@x.ru', 'yyy@y.com']"
   ]
  },
  {
   "cell_type": "code",
   "execution_count": null,
   "metadata": {},
   "outputs": [],
   "source": [
    "avast_leaks = pd.DataFrame()\n",
    "\n",
    "URL = 'https://identityprotection.avast.com/v1/web/query/site-breaches/unauthorized-data'\n",
    "data = {\n",
    "    'emailAddresses': EMAIL\n",
    "}\n",
    "\n",
    "headers = {'Vaar-Version': '0', 'Vaar-Header-App-Product': 'hackcheck-web-avast'}\n",
    "\n",
    "avast_hack_check_req = requests.post(URL, json=data, headers=headers)\n",
    "leaks_json = avast_hack_check_req.json()\n",
    "\n",
    "for breach in leaks_json['breaches']:\n",
    "    breach_date = leaks_json['breaches'][breach]['publishDate']\n",
    "    breach_date = datetime.datetime.strptime(breach_date, '%Y-%m-%dT%H:%M:%SZ').strftime('%d.%m.%Y')\n",
    "    breach_site = leaks_json['breaches'][breach]['site']\n",
    "    breach_desc = leaks_json['breaches'][breach]['description']\n",
    "    for mail in leaks_json['summary']:\n",
    "        if int(breach) in leaks_json['summary'][mail]['breaches']:\n",
    "            breach_mail = mail\n",
    "       \n",
    "    row = {'mail': breach_mail, 'date': breach_date, 'site': breach_site, 'description': breach_desc}\n",
    "    \n",
    "    avast_leaks = pd.concat([avast_leaks, pd.DataFrame([row])])     \n",
    "    \n",
    "avast_leaks.head()"
   ]
  },
  {
   "cell_type": "markdown",
   "metadata": {},
   "source": [
    "### Задание 3\n",
    "\n",
    "Написать скрипт, который будет получать 50 последних постов указанной группы во Вконтакте.\n",
    "Документация к API VK: https://vk.com/dev/methods , вам поможет метод wall.get\n",
    "\n",
    "- GROUP = 'netology'  \n",
    "- TOKEN = УДАЛЯЙТЕ В ВЕРСИИ ДЛЯ ПРОВЕРКИ, НА GITHUB НЕ ВЫКЛАДЫВАТЬ\n",
    "\n",
    "В итоге должен формироваться датафрейм со столбцами: <дата поста> - <текст поста>"
   ]
  },
  {
   "cell_type": "code",
   "execution_count": null,
   "metadata": {},
   "outputs": [],
   "source": [
    "# https://vk.com/dev/manuals\n",
    "# https://vk.com/dev/newsfeed.search\n",
    "POSTS_REQUEST = 'https://api.vk.com/method/wall.get?'\n",
    "VERSION = '5.103'\n",
    "GROUP = 'netology'\n",
    "SLEEP = 0.33\n",
    "\n",
    "params = {\n",
    "    'access_token': '...',\n",
    "    'v': VERSION,\n",
    "    'domain': GROUP,\n",
    "    'count': 50\n",
    "}\n",
    "\n",
    "res = requests.get(POSTS_REQUEST, params)\n",
    "posts = res.json()\n",
    "\n",
    "vk_posts = pd.DataFrame()\n",
    "\n",
    "for post in posts['response']['items']:\n",
    "    post_date = post['date']\n",
    "    post_date = datetime.datetime.fromtimestamp(post_date).strftime('%d.%m.%Y')\n",
    "    post_text = post['text']\n",
    "    \n",
    "    row = {'date': post_date, 'text': post_text}\n",
    "    \n",
    "    vk_posts = pd.concat([vk_posts, pd.DataFrame([row])]) \n",
    "\n",
    "vk_posts.head()"
   ]
  }
 ],
 "metadata": {
  "kernelspec": {
   "display_name": "Python 3",
   "language": "python",
   "name": "python3"
  },
  "language_info": {
   "codemirror_mode": {
    "name": "ipython",
    "version": 3
   },
   "file_extension": ".py",
   "mimetype": "text/x-python",
   "name": "python",
   "nbconvert_exporter": "python",
   "pygments_lexer": "ipython3",
   "version": "3.7.9"
  }
 },
 "nbformat": 4,
 "nbformat_minor": 4
}
