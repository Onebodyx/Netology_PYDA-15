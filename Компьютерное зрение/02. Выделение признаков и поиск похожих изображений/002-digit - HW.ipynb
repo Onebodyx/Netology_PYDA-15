{
 "cells": [
  {
   "cell_type": "markdown",
   "metadata": {},
   "source": [
    "## Digit Recognizer\n",
    "https://www.kaggle.com/c/digit-recognizer"
   ]
  },
  {
   "cell_type": "code",
   "execution_count": 1,
   "metadata": {},
   "outputs": [],
   "source": [
    "%matplotlib inline\n",
    "import cv2\n",
    "import numpy as np\n",
    "import matplotlib.pyplot as plt"
   ]
  },
  {
   "cell_type": "markdown",
   "metadata": {},
   "source": [
    "## Загружаем исходные данные"
   ]
  },
  {
   "cell_type": "code",
   "execution_count": 2,
   "metadata": {},
   "outputs": [],
   "source": [
    "train = np.loadtxt('./data/digit/train.csv', delimiter=',', skiprows=1)\n",
    "test = np.loadtxt('./data/digit/test.csv', delimiter=',', skiprows=1)"
   ]
  },
  {
   "cell_type": "code",
   "execution_count": 3,
   "metadata": {},
   "outputs": [],
   "source": [
    "# сохраняем разметку в отдельную переменную\n",
    "train_label = train[:, 0]\n",
    "# приводим размерность к удобному для обаботки виду\n",
    "train_img = np.resize(train[:, 1:], (train.shape[0], 28, 28))\n",
    "test_img = np.resize(test, (test.shape[0], 28, 28))"
   ]
  },
  {
   "cell_type": "code",
   "execution_count": 4,
   "metadata": {},
   "outputs": [
    {
     "data": {
      "text/plain": [
       "(42000, 28, 28)"
      ]
     },
     "execution_count": 4,
     "metadata": {},
     "output_type": "execute_result"
    }
   ],
   "source": [
    "train_img.shape"
   ]
  },
  {
   "cell_type": "markdown",
   "metadata": {},
   "source": [
    "## Визуализируем исходные данные"
   ]
  },
  {
   "cell_type": "code",
   "execution_count": 5,
   "metadata": {},
   "outputs": [
    {
     "data": {
      "image/png": "[encoded data removed]",
      "text/plain": [
       "<Figure size 1440x720 with 5 Axes>"
      ]
     },
     "metadata": {
      "needs_background": "light"
     },
     "output_type": "display_data"
    }
   ],
   "source": [
    "fig = plt.figure(figsize=(20, 10))\n",
    "for i, img in enumerate(train_img[0:5], 1):\n",
    "    subplot = fig.add_subplot(1, 7, i)\n",
    "    plt.imshow(img, cmap='gray');\n",
    "    subplot.set_title('%s' % train_label[i - 1]);"
   ]
  },
  {
   "cell_type": "markdown",
   "metadata": {},
   "source": [
    "## Проводим PCA-преобразование"
   ]
  },
  {
   "cell_type": "code",
   "execution_count": 6,
   "metadata": {},
   "outputs": [],
   "source": [
    "from sklearn.decomposition import PCA"
   ]
  },
  {
   "cell_type": "code",
   "execution_count": 7,
   "metadata": {},
   "outputs": [],
   "source": [
    "X = train_img.reshape(-1, 28 * 28).astype(np.float32)\n",
    "y = train_label"
   ]
  },
  {
   "cell_type": "code",
   "execution_count": 8,
   "metadata": {},
   "outputs": [
    {
     "data": {
      "text/plain": [
       "PCA(n_components=784)"
      ]
     },
     "execution_count": 8,
     "metadata": {},
     "output_type": "execute_result"
    }
   ],
   "source": [
    "pca = PCA(n_components=784)\n",
    "\n",
    "pca.fit(X)"
   ]
  },
  {
   "cell_type": "code",
   "execution_count": 9,
   "metadata": {},
   "outputs": [
    {
     "data": {
      "text/plain": [
       "[<matplotlib.lines.Line2D at 0x15461588>]"
      ]
     },
     "execution_count": 9,
     "metadata": {},
     "output_type": "execute_result"
    },
    {
     "data": {
      "image/png": "[encoded data removed]",
      "text/plain": [
       "<Figure size 432x288 with 1 Axes>"
      ]
     },
     "metadata": {
      "needs_background": "light"
     },
     "output_type": "display_data"
    }
   ],
   "source": [
    "cum_sum_S = np.cumsum(pca.explained_variance_ratio_)\n",
    "\n",
    "plt.plot(cum_sum_S, 'o')"
   ]
  },
  {
   "cell_type": "code",
   "execution_count": 10,
   "metadata": {},
   "outputs": [
    {
     "name": "stdout",
     "output_type": "stream",
     "text": [
      "n_comp=86 S=0.901\n"
     ]
    }
   ],
   "source": [
    "S_thr = 0.9  # задаем порог для накопленной суммы собственных значений\n",
    "\n",
    "# определяем необходимое число компонент для заданного порога\n",
    "n_comp = np.argmax(cum_sum_S > S_thr)\n",
    "\n",
    "print('n_comp=%d S=%.3f' % (n_comp, cum_sum_S[n_comp]))"
   ]
  },
  {
   "cell_type": "code",
   "execution_count": 11,
   "metadata": {},
   "outputs": [],
   "source": [
    "pca = PCA(n_components=86)\n",
    "\n",
    "X_red = pca.fit_transform(X)"
   ]
  },
  {
   "cell_type": "markdown",
   "metadata": {},
   "source": [
    "## Обучаем модель"
   ]
  },
  {
   "cell_type": "code",
   "execution_count": 12,
   "metadata": {},
   "outputs": [],
   "source": [
    "from sklearn.model_selection import train_test_split\n",
    "X_train, X_test, y_train, y_test = train_test_split(X_red, y, test_size=0.3)"
   ]
  },
  {
   "cell_type": "code",
   "execution_count": 13,
   "metadata": {},
   "outputs": [
    {
     "name": "stdout",
     "output_type": "stream",
     "text": [
      "Wall time: 4min 38s\n"
     ]
    }
   ],
   "source": [
    "%%time\n",
    "\n",
    "from sklearn.ensemble import RandomForestClassifier\n",
    "\n",
    "rf = RandomForestClassifier(n_estimators = 1000)\n",
    "rf.fit(X_train, y_train)"
   ]
  },
  {
   "cell_type": "code",
   "execution_count": 14,
   "metadata": {},
   "outputs": [],
   "source": [
    "y_pred = rf.predict(X_test)"
   ]
  },
  {
   "cell_type": "markdown",
   "metadata": {},
   "source": [
    "## Оцениваем качество решение на валидационной выборке"
   ]
  },
  {
   "cell_type": "code",
   "execution_count": 19,
   "metadata": {},
   "outputs": [
    {
     "name": "stdout",
     "output_type": "stream",
     "text": [
      "Accuracy: 0.9461904761904761\n"
     ]
    }
   ],
   "source": [
    "from sklearn.metrics import accuracy_score\n",
    "print('Accuracy: %s' % accuracy_score(y_test, y_pred))"
   ]
  },
  {
   "cell_type": "code",
   "execution_count": 20,
   "metadata": {},
   "outputs": [
    {
     "name": "stdout",
     "output_type": "stream",
     "text": [
      "              precision    recall  f1-score   support\n",
      "\n",
      "         0.0       0.97      0.98      0.98      1193\n",
      "         1.0       0.98      0.97      0.98      1424\n",
      "         2.0       0.94      0.94      0.94      1238\n",
      "         3.0       0.92      0.93      0.93      1326\n",
      "         4.0       0.94      0.94      0.94      1198\n",
      "         5.0       0.94      0.94      0.94      1166\n",
      "         6.0       0.95      0.98      0.97      1225\n",
      "         7.0       0.96      0.96      0.96      1349\n",
      "         8.0       0.93      0.92      0.92      1242\n",
      "         9.0       0.92      0.91      0.91      1239\n",
      "\n",
      "    accuracy                           0.95     12600\n",
      "   macro avg       0.95      0.95      0.95     12600\n",
      "weighted avg       0.95      0.95      0.95     12600\n",
      "\n"
     ]
    }
   ],
   "source": [
    "from sklearn.metrics import classification_report\n",
    "print(classification_report(y_test, y_pred))"
   ]
  },
  {
   "cell_type": "code",
   "execution_count": 21,
   "metadata": {},
   "outputs": [
    {
     "name": "stdout",
     "output_type": "stream",
     "text": [
      "[[1168    0    3    1    2    4   11    1    3    0]\n",
      " [   0 1381   12    8    2    3    5    6    5    2]\n",
      " [   8    5 1167   10   13    2    2   11   20    0]\n",
      " [   1    1   24 1234    0   25    7    4   19   11]\n",
      " [   1    7    4    2 1124    2   11    1    8   38]\n",
      " [   7    0    2   21    6 1095   16    2    8    9]\n",
      " [   7    1    3    0    1   12 1199    0    2    0]\n",
      " [   1    3   12    3    7    0    0 1292    3   28]\n",
      " [   3    7    7   34   11   19    5    3 1137   16]\n",
      " [   4    3    5   23   34    6    2   22   15 1125]]\n"
     ]
    }
   ],
   "source": [
    "from sklearn.metrics import confusion_matrix\n",
    "print(confusion_matrix(y_test, y_pred))"
   ]
  },
  {
   "cell_type": "markdown",
   "metadata": {},
   "source": [
    "## Предсказания на тестовыйх данных"
   ]
  },
  {
   "cell_type": "code",
   "execution_count": 49,
   "metadata": {},
   "outputs": [],
   "source": [
    "test_img = test_img.reshape(-1, 28 * 28).astype(np.float32)\n",
    "test_img_red = pca.transform(test_img)\n",
    "\n",
    "pred_test = rf.predict(test_img_red)"
   ]
  },
  {
   "cell_type": "code",
   "execution_count": 50,
   "metadata": {},
   "outputs": [],
   "source": [
    "pred_test = np.array(list(map(int, pred_test)))"
   ]
  },
  {
   "cell_type": "code",
   "execution_count": 52,
   "metadata": {},
   "outputs": [
    {
     "data": {
      "image/png": "[encoded data removed]",
      "text/plain": [
       "<Figure size 1440x720 with 5 Axes>"
      ]
     },
     "metadata": {
      "needs_background": "light"
     },
     "output_type": "display_data"
    }
   ],
   "source": [
    "fig = plt.figure(figsize=(20, 10))\n",
    "for i, img in enumerate(test_img.reshape(-1, 28, 28)[0:5], 1):\n",
    "    subplot = fig.add_subplot(1, 7, i)\n",
    "    plt.imshow(img, cmap='gray');\n",
    "    subplot.set_title('%s' % pred_test[i - 1]);"
   ]
  },
  {
   "cell_type": "markdown",
   "metadata": {},
   "source": [
    "## Готовим файл для отправки"
   ]
  },
  {
   "cell_type": "code",
   "execution_count": 53,
   "metadata": {},
   "outputs": [],
   "source": [
    "with open('submit.txt', 'w') as dst:\n",
    "    dst.write('ImageId,Label\\n')\n",
    "    for i, p in enumerate(pred_test, 1):\n",
    "        dst.write('%s,%s\\n' % (i, p))"
   ]
  },
  {
   "cell_type": "code",
   "execution_count": null,
   "metadata": {},
   "outputs": [],
   "source": [
    "# Your submission scored 0.41700"
   ]
  }
 ],
 "metadata": {
  "kernelspec": {
   "display_name": "Python 3",
   "language": "python",
   "name": "python3"
  },
  "language_info": {
   "codemirror_mode": {
    "name": "ipython",
    "version": 3
   },
   "file_extension": ".py",
   "mimetype": "text/x-python",
   "name": "python",
   "nbconvert_exporter": "python",
   "pygments_lexer": "ipython3",
   "version": "3.7.0"
  }
 },
 "nbformat": 4,
 "nbformat_minor": 2
}
