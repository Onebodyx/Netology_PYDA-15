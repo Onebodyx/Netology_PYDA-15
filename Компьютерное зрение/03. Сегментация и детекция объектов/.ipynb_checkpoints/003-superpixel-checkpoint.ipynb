{
 "cells": [
  {
   "cell_type": "markdown",
   "metadata": {},
   "source": [
    "# SEEDS: Superpixels Extracted via Energy-Driven Sampling\n",
    "\n",
    "для корректной работы примера необходимо установить пакет opencv-contrib: pip install --upgrade opencv-python opencv-contrib-python"
   ]
  },
  {
   "cell_type": "code",
   "execution_count": 2,
   "metadata": {},
   "outputs": [
    {
     "ename": "ImportError",
     "evalue": "cannot import name 'ximgproc' from 'cv2.cv2' (C:\\ProgramData\\Anaconda3\\lib\\site-packages\\cv2\\cv2.cp37-win_amd64.pyd)",
     "output_type": "error",
     "traceback": [
      "\u001b[1;31m---------------------------------------------------------------------------\u001b[0m",
      "\u001b[1;31mImportError\u001b[0m                               Traceback (most recent call last)",
      "\u001b[1;32m<ipython-input-2-b4e0e04a6dea>\u001b[0m in \u001b[0;36m<module>\u001b[1;34m()\u001b[0m\n\u001b[0;32m      1\u001b[0m \u001b[0mget_ipython\u001b[0m\u001b[1;33m(\u001b[0m\u001b[1;33m)\u001b[0m\u001b[1;33m.\u001b[0m\u001b[0mrun_line_magic\u001b[0m\u001b[1;33m(\u001b[0m\u001b[1;34m'matplotlib'\u001b[0m\u001b[1;33m,\u001b[0m \u001b[1;34m'inline'\u001b[0m\u001b[1;33m)\u001b[0m\u001b[1;33m\u001b[0m\u001b[0m\n\u001b[1;32m----> 2\u001b[1;33m \u001b[1;32mfrom\u001b[0m \u001b[0mcv2\u001b[0m \u001b[1;32mimport\u001b[0m \u001b[0mximgproc\u001b[0m\u001b[1;33m\u001b[0m\u001b[0m\n\u001b[0m\u001b[0;32m      3\u001b[0m \u001b[1;32mimport\u001b[0m \u001b[0mcv2\u001b[0m\u001b[1;33m\u001b[0m\u001b[0m\n\u001b[0;32m      4\u001b[0m \u001b[1;32mimport\u001b[0m \u001b[0mnumpy\u001b[0m \u001b[1;32mas\u001b[0m \u001b[0mnp\u001b[0m\u001b[1;33m\u001b[0m\u001b[0m\n\u001b[0;32m      5\u001b[0m \u001b[1;32mfrom\u001b[0m \u001b[0mmatplotlib\u001b[0m \u001b[1;32mimport\u001b[0m \u001b[0mpyplot\u001b[0m \u001b[1;32mas\u001b[0m \u001b[0mplt\u001b[0m\u001b[1;33m\u001b[0m\u001b[0m\n",
      "\u001b[1;31mImportError\u001b[0m: cannot import name 'ximgproc' from 'cv2.cv2' (C:\\ProgramData\\Anaconda3\\lib\\site-packages\\cv2\\cv2.cp37-win_amd64.pyd)"
     ]
    }
   ],
   "source": [
    "%matplotlib inline\n",
    "from cv2 import ximgproc\n",
    "import cv2\n",
    "import numpy as np\n",
    "from matplotlib import pyplot as plt"
   ]
  },
  {
   "cell_type": "code",
   "execution_count": null,
   "metadata": {},
   "outputs": [],
   "source": [
    "img = cv2.imread('data/landscape.jpeg')"
   ]
  },
  {
   "cell_type": "code",
   "execution_count": null,
   "metadata": {},
   "outputs": [],
   "source": [
    "fig = plt.figure(figsize=(10, 8))\n",
    "plt.imshow(cv2.cvtColor(img, cv2.COLOR_BGR2RGB));"
   ]
  },
  {
   "cell_type": "code",
   "execution_count": null,
   "metadata": {},
   "outputs": [],
   "source": [
    "seeds = None\n",
    "display_mode = 0\n",
    "num_superpixels = 100\n",
    "prior = 2\n",
    "num_levels = 4\n",
    "num_histogram_bins = 5\n",
    "num_iterations = 1000\n",
    "\n",
    "# преобразуем пространство цветов\n",
    "converted_img = cv2.cvtColor(img, cv2.COLOR_BGR2HSV)\n",
    "\n",
    "height,width,channels = converted_img.shape\n",
    "\n",
    "# инициализируем алгоритм\n",
    "seeds = ximgproc.createSuperpixelSEEDS(width, height, channels,\n",
    "            num_superpixels, num_levels, prior, num_histogram_bins)\n",
    "\n",
    "# выполняем num_iterations шагов\n",
    "seeds.iterate(converted_img, num_iterations)\n",
    "\n",
    "# получаем разметку пикселей\n",
    "labels = seeds.getLabels()\n",
    "\n",
    "# получаем маску контуров\n",
    "mask = seeds.getLabelContourMask(thick_line=False)\n",
    "\n",
    "# инвертируем маску\n",
    "mask_inv = cv2.bitwise_not(mask)\n",
    "\n",
    "# зануляем пикселы исходной картинки на границах\n",
    "result_bg = cv2.bitwise_and(img, img, mask=mask_inv)\n",
    "\n",
    "# создаем изображение контуров\n",
    "color_img = np.zeros((height,width,3), np.uint8)\n",
    "color_img[:] = (0, 255, 0)\n",
    "result_fg = cv2.bitwise_and(color_img, color_img, mask=mask)\n",
    "\n",
    "# совмещаем границы с исходным изображением\n",
    "result = cv2.add(result_bg, result_fg)"
   ]
  },
  {
   "cell_type": "code",
   "execution_count": null,
   "metadata": {},
   "outputs": [],
   "source": [
    "imgs = [cv2.cvtColor(result, cv2.COLOR_BGR2RGB),\n",
    "        mask, labels]\n",
    "fig = plt.figure(figsize=(10, 16))\n",
    "for i, e in enumerate(imgs, 1):\n",
    "    subplot = fig.add_subplot(3, 1, i)\n",
    "    plt.imshow(e);"
   ]
  }
 ],
 "metadata": {
  "kernelspec": {
   "display_name": "Python 3",
   "language": "python",
   "name": "python3"
  }
 },
 "nbformat": 4,
 "nbformat_minor": 2
}
