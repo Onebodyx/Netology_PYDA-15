{
 "cells": [
  {
   "cell_type": "markdown",
   "metadata": {
    "id": "Fp9cfznske8X"
   },
   "source": [
    "# АНСАМБЛИ МОДЕЛЕЙ"
   ]
  },
  {
   "cell_type": "code",
   "execution_count": 1,
   "metadata": {
    "ExecuteTime": {
     "end_time": "2020-06-29T05:56:04.434137Z",
     "start_time": "2020-06-29T05:56:02.980093Z"
    },
    "id": "hkpsMdPnke8d"
   },
   "outputs": [
    {
     "ename": "ModuleNotFoundError",
     "evalue": "No module named 'jupyterthemes'",
     "output_type": "error",
     "traceback": [
      "\u001b[1;31m---------------------------------------------------------------------------\u001b[0m",
      "\u001b[1;31mModuleNotFoundError\u001b[0m                       Traceback (most recent call last)",
      "\u001b[1;32m<ipython-input-1-5ba24d12b69b>\u001b[0m in \u001b[0;36m<module>\u001b[1;34m()\u001b[0m\n\u001b[0;32m      2\u001b[0m \u001b[1;32mimport\u001b[0m \u001b[0mpandas\u001b[0m \u001b[1;32mas\u001b[0m \u001b[0mpd\u001b[0m\u001b[1;33m\u001b[0m\u001b[0m\n\u001b[0;32m      3\u001b[0m \u001b[1;32mimport\u001b[0m \u001b[0mnumpy\u001b[0m \u001b[1;32mas\u001b[0m \u001b[0mnp\u001b[0m\u001b[1;33m\u001b[0m\u001b[0m\n\u001b[1;32m----> 4\u001b[1;33m \u001b[1;32mfrom\u001b[0m \u001b[0mjupyterthemes\u001b[0m \u001b[1;32mimport\u001b[0m \u001b[0mjtplot\u001b[0m\u001b[1;33m\u001b[0m\u001b[0m\n\u001b[0m\u001b[0;32m      5\u001b[0m \u001b[1;32mfrom\u001b[0m \u001b[0msklearn\u001b[0m\u001b[1;33m.\u001b[0m\u001b[0mmetrics\u001b[0m \u001b[1;32mimport\u001b[0m \u001b[0mauc\u001b[0m\u001b[1;33m,\u001b[0m \u001b[0mroc_curve\u001b[0m\u001b[1;33m,\u001b[0m \u001b[0mroc_auc_score\u001b[0m\u001b[1;33m\u001b[0m\u001b[0m\n\u001b[0;32m      6\u001b[0m \u001b[0mget_ipython\u001b[0m\u001b[1;33m(\u001b[0m\u001b[1;33m)\u001b[0m\u001b[1;33m.\u001b[0m\u001b[0mrun_line_magic\u001b[0m\u001b[1;33m(\u001b[0m\u001b[1;34m'matplotlib'\u001b[0m\u001b[1;33m,\u001b[0m \u001b[1;34m'inline'\u001b[0m\u001b[1;33m)\u001b[0m\u001b[1;33m\u001b[0m\u001b[0m\n",
      "\u001b[1;31mModuleNotFoundError\u001b[0m: No module named 'jupyterthemes'"
     ]
    }
   ],
   "source": [
    "import matplotlib.pyplot as plt\n",
    "import pandas as pd\n",
    "import numpy as np\n",
    "from jupyterthemes import jtplot\n",
    "from sklearn.metrics import auc, roc_curve, roc_auc_score\n",
    "%matplotlib inline\n",
    "jtplot.style()"
   ]
  },
  {
   "cell_type": "markdown",
   "metadata": {
    "id": "fsSg50Kyke8e"
   },
   "source": [
    "## Часть 0. Деревья решений"
   ]
  },
  {
   "cell_type": "code",
   "execution_count": null,
   "metadata": {
    "ExecuteTime": {
     "end_time": "2020-06-29T05:56:04.627715Z",
     "start_time": "2020-06-29T05:56:04.437570Z"
    },
    "id": "KYpzWN5Yke8e",
    "outputId": "207912cf-dece-4a46-9a4f-868d08fd9ce2"
   },
   "outputs": [],
   "source": [
    "from sklearn.datasets import make_blobs\n",
    "\n",
    "X, y = make_blobs(n_samples=1000, centers=6,\n",
    "                  random_state=0, cluster_std=2.0)\n",
    "plt.scatter(X[:, 0], X[:, 1], c=y, s=50, cmap='rainbow')\n",
    "plt.show()"
   ]
  },
  {
   "cell_type": "code",
   "execution_count": null,
   "metadata": {
    "ExecuteTime": {
     "end_time": "2020-06-29T05:56:04.638679Z",
     "start_time": "2020-06-29T05:56:04.630065Z"
    },
    "id": "BRxUzfrTke8f"
   },
   "outputs": [],
   "source": [
    "def visualize_tree(estimator, X, y, ax=None, fit=True):\n",
    "    ax = ax or plt.gca()\n",
    "    \n",
    "    # Plot the training points\n",
    "    ax.scatter(X[:, 0], X[:, 1], c=y, s=30, cmap='viridis',\n",
    "               clim=(y.min(), y.max()), zorder=3)\n",
    "    ax.axis('tight')\n",
    "    ax.axis('off')\n",
    "    xlim = ax.get_xlim()\n",
    "    ylim = ax.get_ylim()\n",
    "    \n",
    "    # fit the estimator\n",
    "    if fit:\n",
    "        estimator.fit(X, y)\n",
    "    xx, yy = np.meshgrid(np.linspace(*xlim, num=200),\n",
    "                         np.linspace(*ylim, num=200))\n",
    "    Z = estimator.predict(np.c_[xx.ravel(), yy.ravel()])\n",
    "\n",
    "    # Put the result into a color plot\n",
    "    n_classes = len(np.unique(y))\n",
    "    Z = Z.reshape(xx.shape)\n",
    "    contours = ax.contourf(xx, yy, Z, alpha=0.3,\n",
    "                           levels=np.arange(n_classes + 1) - 0.5,\n",
    "                           cmap='viridis',\n",
    "                           zorder=1)\n",
    "\n",
    "    ax.set(xlim=xlim, ylim=ylim)"
   ]
  },
  {
   "cell_type": "code",
   "execution_count": null,
   "metadata": {
    "ExecuteTime": {
     "end_time": "2020-06-29T05:56:05.199355Z",
     "start_time": "2020-06-29T05:56:04.641291Z"
    },
    "id": "aIebl34Pke8g",
    "outputId": "229de8bf-9b64-4308-d0aa-62ae5d28f0cf"
   },
   "outputs": [],
   "source": [
    "from sklearn.tree import DecisionTreeClassifier\n",
    "fig, ax = plt.subplots(1, 4, figsize=(16, 4))\n",
    "fig.subplots_adjust(left=0.02, right=0.98, wspace=0.1)\n",
    "for axi, depth in zip(ax, range(1, 5)):\n",
    "    model = DecisionTreeClassifier(max_depth=depth)\n",
    "    visualize_tree(model, X, y, ax=axi, fit=True)\n",
    "    axi.set_title('depth = {0}'.format(depth))"
   ]
  },
  {
   "cell_type": "markdown",
   "metadata": {
    "id": "qB_xqBa5ke8g"
   },
   "source": [
    "### Переобучение деревьев\n",
    "К сожалению, деревья решений склонны к переобучению. Пример - обучим два дерева решений на половине данных и сравним результаты"
   ]
  },
  {
   "cell_type": "code",
   "execution_count": null,
   "metadata": {
    "ExecuteTime": {
     "end_time": "2020-06-29T05:56:05.468915Z",
     "start_time": "2020-06-29T05:56:05.208271Z"
    },
    "id": "_FsrY3nSke8g",
    "outputId": "580ad356-4694-457d-80a7-3940bf4f35fa"
   },
   "outputs": [],
   "source": [
    "boundary = int(len(X) / 2)\n",
    "X_left, y_left, X_right, y_right = X[:boundary], y[:boundary], X[boundary:], y[boundary:]\n",
    "\n",
    "fig, ax = plt.subplots(1, 2, figsize=(16, 8))\n",
    "fig.subplots_adjust(left=0.02, right=0.98, wspace=0.1)\n",
    "\n",
    "model_left = DecisionTreeClassifier(max_depth=5)\n",
    "visualize_tree(model_left, X_left, y_left, ax=ax[0])\n",
    "ax[0].set_title('left')\n",
    "\n",
    "model_right = DecisionTreeClassifier(max_depth=5)\n",
    "visualize_tree(model_right, X_right, y_right, ax=ax[1])\n",
    "ax[1].set_title('right')\n",
    "plt.show()"
   ]
  },
  {
   "cell_type": "markdown",
   "metadata": {
    "id": "HO7L9Ee8ke8h"
   },
   "source": [
    "# Часть 1 - Ансамбли"
   ]
  },
  {
   "cell_type": "markdown",
   "metadata": {
    "id": "l21qAtVIke8i"
   },
   "source": [
    "# Часть 2 - Беггинг\n",
    "\n",
    "Беггинг - общий подход к уменьшению дисперсии алгоритма машинного обучения. Беггинг происходит от фразы bootstrap aggregation. Bootstrap выборка - это просто выборка с повторением"
   ]
  },
  {
   "cell_type": "markdown",
   "metadata": {
    "id": "l8rqyibvke8i"
   },
   "source": [
    "Общий алгоритм:\n",
    "1. Генерируем подвыборку $X_i$ размера $N$ с возвращением\n",
    "2. Обучим базовый алгоритм $a_i(x)$ на выборке $X_i$\n",
    "3. Повторяем шаги 1-2 $M$ раз\n",
    "4. Усредняем (регрессия) или проводим голосование среди ответов $a_i(x)$\n",
    "\n",
    "Замечания:\n",
    "\n",
    "- Каждую подвыборку обычно делают размером с оригинальный набор данных\n",
    "- Количество подвыборок должно быть достаточно, чтобы итоговая ошибка \"стабилизировалась\""
   ]
  },
  {
   "cell_type": "code",
   "execution_count": null,
   "metadata": {
    "ExecuteTime": {
     "end_time": "2020-06-29T05:56:05.633903Z",
     "start_time": "2020-06-29T05:56:05.476839Z"
    },
    "id": "_QnM9Ft5ke8i",
    "outputId": "8ca9ab54-1854-4ebd-c7cd-6389af02054f"
   },
   "outputs": [],
   "source": [
    "from sklearn.datasets import make_moons\n",
    "\n",
    "X, y = make_moons(n_samples=1000, shuffle=True, noise=0.4, random_state=123)\n",
    "plt.scatter(X[:, 0], X[:, 1], c=y, s=50, cmap='rainbow')\n",
    "plt.show()"
   ]
  },
  {
   "cell_type": "code",
   "execution_count": null,
   "metadata": {
    "ExecuteTime": {
     "end_time": "2020-06-29T05:56:05.898952Z",
     "start_time": "2020-06-29T05:56:05.895328Z"
    },
    "id": "_Y3W9gWyke8i"
   },
   "outputs": [],
   "source": [
    "# Поделим на train и тест\n",
    "from sklearn.model_selection import train_test_split\n",
    "X_train, X_test, y_train, y_test = train_test_split(X, y, test_size=0.5)"
   ]
  },
  {
   "cell_type": "code",
   "execution_count": null,
   "metadata": {
    "ExecuteTime": {
     "end_time": "2020-06-29T05:56:06.494326Z",
     "start_time": "2020-06-29T05:56:06.352636Z"
    },
    "id": "dOgYWdb-ke8j",
    "outputId": "a0dbeb10-3f8e-4a24-acfb-1938bb09b156"
   },
   "outputs": [],
   "source": [
    "plt.scatter(X_test[:, 0], X_test[:, 1], c=y_test, s=50, cmap='rainbow')\n",
    "plt.show()"
   ]
  },
  {
   "cell_type": "markdown",
   "metadata": {
    "id": "JkRz6J3Fke8j"
   },
   "source": [
    "## Реализуем беггинг над деревьями решений для этого примера (10 деревьев)"
   ]
  },
  {
   "cell_type": "code",
   "execution_count": null,
   "metadata": {
    "ExecuteTime": {
     "end_time": "2020-06-29T05:56:07.149098Z",
     "start_time": "2020-06-29T05:56:07.144379Z"
    },
    "id": "gptPL0dIke8j"
   },
   "outputs": [],
   "source": [
    "estimators = 10\n",
    "# create ten bootstrap samples (will be used to select rows from the DataFrame)\n",
    "samples = [np.random.choice(a=X_train.shape[0], size=X_train.shape[0], replace=True) for _ in range(estimators)]"
   ]
  },
  {
   "cell_type": "code",
   "execution_count": null,
   "metadata": {
    "ExecuteTime": {
     "end_time": "2020-06-29T05:56:07.511909Z",
     "start_time": "2020-06-29T05:56:07.359807Z"
    },
    "id": "MOUnDKvske8j",
    "outputId": "f2b1e749-5fb6-41d8-fe13-59656a0b4b5c"
   },
   "outputs": [],
   "source": [
    "plt.scatter(X_train[samples[3], 0], X_train[samples[3], 1], c=y_train[samples[3]], s=50, cmap='rainbow')\n",
    "plt.show()"
   ]
  },
  {
   "cell_type": "code",
   "execution_count": null,
   "metadata": {
    "ExecuteTime": {
     "end_time": "2020-06-29T05:56:07.814840Z",
     "start_time": "2020-06-29T05:56:07.799268Z"
    },
    "id": "hL2M-FnGke8k"
   },
   "outputs": [],
   "source": [
    "models = []\n",
    "for sample in samples:\n",
    "    model = DecisionTreeClassifier(max_depth=None)\n",
    "    model.fit(X_train[sample], y_train[sample])\n",
    "    models.append(model)"
   ]
  },
  {
   "cell_type": "code",
   "execution_count": null,
   "metadata": {
    "ExecuteTime": {
     "end_time": "2020-06-29T05:56:08.198902Z",
     "start_time": "2020-06-29T05:56:08.193376Z"
    },
    "id": "R0FMaKgyke8k"
   },
   "outputs": [],
   "source": [
    "def predict(models, X):\n",
    "    predictions = None\n",
    "    for m in models:\n",
    "        if predictions is None:\n",
    "            predictions = m.predict(X).reshape((-1, 1))\n",
    "        else:\n",
    "            predictions = np.hstack((predictions, m.predict(X).reshape((-1, 1))))\n",
    "    result = []\n",
    "    for p in predictions:\n",
    "        result.append(np.bincount(p).argmax())\n",
    "    return np.array(result)"
   ]
  },
  {
   "cell_type": "code",
   "execution_count": null,
   "metadata": {
    "ExecuteTime": {
     "end_time": "2020-06-29T05:56:08.577285Z",
     "start_time": "2020-06-29T05:56:08.563442Z"
    },
    "id": "Si-ip93ske8k",
    "outputId": "cca27759-b62d-474b-8910-a3726ec32ab7"
   },
   "outputs": [],
   "source": [
    "y_pred = predict(models, X_test)\n",
    "print(np.mean(y_pred == y_test))\n",
    "print(\"MODELS\")\n",
    "for m in models:\n",
    "    print(np.mean(m.predict(X_test) == y_test))"
   ]
  },
  {
   "cell_type": "code",
   "execution_count": null,
   "metadata": {
    "ExecuteTime": {
     "end_time": "2020-06-29T05:56:09.456185Z",
     "start_time": "2020-06-29T05:56:08.711020Z"
    },
    "id": "0xF4QZwmke8k",
    "outputId": "3b485c03-3a4a-4fb5-bf4d-803906da0b4f"
   },
   "outputs": [],
   "source": [
    "fig, ax = plt.subplots(2, 4, figsize=(16, 8))\n",
    "fig.subplots_adjust(left=0.02, right=0.98, wspace=0.1)\n",
    "for axi, index in zip(ax.flatten(), range(8)):\n",
    "    visualize_tree(models[index], X_train, y_train, ax=axi, fit=False)\n",
    "    axi.set_title('model {}'.format(index))"
   ]
  },
  {
   "cell_type": "code",
   "execution_count": null,
   "metadata": {
    "ExecuteTime": {
     "end_time": "2020-06-29T05:56:09.642133Z",
     "start_time": "2020-06-29T05:56:09.459073Z"
    },
    "id": "mSKh1ADpke8l",
    "outputId": "25cbeb13-bbac-4579-ac6a-f2122a27f226"
   },
   "outputs": [],
   "source": [
    "def visualize_bagg(models, X, y):\n",
    "    ax = plt.gca()\n",
    "    \n",
    "    # Plot the training points\n",
    "    ax.scatter(X[:, 0], X[:, 1], c=y, s=30, cmap='viridis',\n",
    "               clim=(y.min(), y.max()), zorder=3)\n",
    "    ax.axis('tight')\n",
    "    ax.axis('off')\n",
    "\n",
    "    xlim = ax.get_xlim()    \n",
    "    ylim = ax.get_ylim()\n",
    "    \n",
    "    xx, yy = np.meshgrid(np.linspace(*xlim, num=200),\n",
    "                         np.linspace(*ylim, num=200))\n",
    "    Z = predict(models, np.c_[xx.ravel(), yy.ravel()])\n",
    "\n",
    "    # Put the result into a color plot\n",
    "    n_classes = len(np.unique(Z))\n",
    "    Z = Z.reshape(xx.shape)\n",
    "    contours = ax.contourf(xx, yy, Z, alpha=0.3,\n",
    "                           levels=np.arange(n_classes + 1) - 0.5,\n",
    "                           cmap='viridis',\n",
    "                           zorder=1)\n",
    "\n",
    "    ax.set(xlim=xlim, ylim=ylim)\n",
    "    \n",
    "visualize_bagg(models, X_train, y_train)"
   ]
  },
  {
   "cell_type": "markdown",
   "metadata": {
    "id": "dlZPyXUUke8l"
   },
   "source": [
    "### Практический пример\n",
    "\n",
    "Используем данные страхового подразделения BNP Paribas из соревнования\n",
    "\n",
    "https://www.kaggle.com/c/bnp-paribas-cardif-claims-management\n",
    "\n",
    "Решается задача классификации страховых случаев:\n",
    "\n",
    "1. Случаи, требующие дополнительных документов для подтвердения (0)    \n",
    "2. Случаи, которые можно подтверждать автоматически на основе имеющейся информации (1)"
   ]
  },
  {
   "cell_type": "code",
   "execution_count": null,
   "metadata": {
    "ExecuteTime": {
     "end_time": "2020-06-29T05:56:13.280761Z",
     "start_time": "2020-06-29T05:56:10.821041Z"
    },
    "id": "yVw328V9ke8m"
   },
   "outputs": [],
   "source": [
    "data = pd.read_csv('train.csv')"
   ]
  },
  {
   "cell_type": "code",
   "execution_count": null,
   "metadata": {
    "ExecuteTime": {
     "end_time": "2020-06-29T05:56:13.397796Z",
     "start_time": "2020-06-29T05:56:13.283789Z"
    },
    "id": "nBIPuxGVke8m"
   },
   "outputs": [],
   "source": [
    "# Уменьшим размер данных для ускорения обучения, возьмем случайную подвыборку 20% данных\n",
    "from sklearn.model_selection import StratifiedShuffleSplit\n",
    "\n",
    "random_splitter = StratifiedShuffleSplit(n_splits=1, test_size=0.2, random_state=777)\n",
    "\n",
    "for train_index, test_index in random_splitter.split(data, data.target):\n",
    "    data = data.iloc[test_index]"
   ]
  },
  {
   "cell_type": "code",
   "execution_count": null,
   "metadata": {
    "ExecuteTime": {
     "end_time": "2020-06-29T05:56:13.436172Z",
     "start_time": "2020-06-29T05:56:13.400379Z"
    },
    "id": "8nHEX62zke8m"
   },
   "outputs": [],
   "source": [
    "# Разбиваем на train/test\n",
    "splitter = StratifiedShuffleSplit(n_splits=1, test_size=0.3, random_state=777)\n",
    "\n",
    "for train_index, test_index in splitter.split(data, data.target):\n",
    "    d_train = data.iloc[train_index]\n",
    "    d_test = data.iloc[test_index]\n",
    "    \n",
    "    y_train = data['target'].iloc[train_index]\n",
    "    y_test = data['target'].iloc[test_index]"
   ]
  },
  {
   "cell_type": "code",
   "execution_count": null,
   "metadata": {
    "ExecuteTime": {
     "end_time": "2020-06-29T05:56:13.587393Z",
     "start_time": "2020-06-29T05:56:13.439346Z"
    },
    "id": "otpcTJ-jke8n",
    "outputId": "0a4564cb-3309-49f3-f2dd-fa747ab1d692"
   },
   "outputs": [
    {
     "name": "stdout",
     "output_type": "stream",
     "text": [
      "v3         3\n",
      "v22     6610\n",
      "v24        5\n",
      "v30        7\n",
      "v31        3\n",
      "v47        9\n",
      "v52       12\n",
      "v56       90\n",
      "v66        3\n",
      "v71        5\n",
      "v74        3\n",
      "v75        4\n",
      "v79       17\n",
      "v91        7\n",
      "v107       7\n",
      "v110       3\n",
      "v112      22\n",
      "v113      34\n",
      "v125      88\n",
      "dtype: int64\n"
     ]
    }
   ],
   "source": [
    "#Находим категориальные признаки\n",
    "cat_feat = list(data.dtypes[data.dtypes == object].index)\n",
    "\n",
    "#закодируем пропущенные значений строкой, факт пропущенного значения тоже может нести в себе информацию\n",
    "data[cat_feat] = data[cat_feat].fillna('nan')\n",
    "\n",
    "#отфильтруем непрерывные признаки\n",
    "num_feat = [f for f in data if f not in (cat_feat + ['ID', 'target'])]\n",
    "\n",
    "# Смотрим сколько у нас значений по каждому категориальному признаку\n",
    "cat_nunique = d_train[cat_feat].nunique()\n",
    "print(cat_nunique)\n",
    "\n",
    "#Чтобы в разы не увеличивать число признаков при построении dummy,\n",
    "#будем использовать категориальные признаки с < 30 уникальных значений\n",
    "cat_feat = list(cat_nunique[cat_nunique < 30].index)"
   ]
  },
  {
   "cell_type": "code",
   "execution_count": null,
   "metadata": {
    "ExecuteTime": {
     "end_time": "2020-06-29T05:56:13.740471Z",
     "start_time": "2020-06-29T05:56:13.590019Z"
    },
    "id": "bCG0n41uke8n"
   },
   "outputs": [],
   "source": [
    "# Создаем дамми-переменные для категорий\n",
    "dummy_train = pd.get_dummies(d_train[cat_feat], columns=cat_feat)\n",
    "dummy_test = pd.get_dummies(d_test[cat_feat], columns=cat_feat)\n",
    "\n",
    "dummy_cols = list(set(dummy_train) & set(dummy_test))\n",
    "\n",
    "dummy_train = dummy_train[dummy_cols]\n",
    "dummy_test = dummy_test[dummy_cols]\n",
    "\n",
    "\n",
    "# Заменяем пропуски на специальное значение -999, чтобы деревья могли их отличить\n",
    "X_train = pd.concat([d_train[num_feat].fillna(-999),\n",
    "                     dummy_train], axis=1)\n",
    "\n",
    "X_test = pd.concat([d_test[num_feat].fillna(-999),\n",
    "                     dummy_test], axis=1)"
   ]
  },
  {
   "cell_type": "markdown",
   "metadata": {
    "id": "66UkgFVpke8n"
   },
   "source": [
    "Обучаем решающее дерево\n",
    "\n",
    "Немного ограничим глубину и минимальное кол-во объектов в листе для уменьшения переобучения"
   ]
  },
  {
   "cell_type": "code",
   "execution_count": null,
   "metadata": {
    "ExecuteTime": {
     "end_time": "2020-06-29T05:56:15.474005Z",
     "start_time": "2020-06-29T05:56:14.240578Z"
    },
    "id": "vHazJo6Hke8o",
    "outputId": "f4de28ae-5a0f-4a3f-8bfb-ea61d356696d"
   },
   "outputs": [
    {
     "data": {
      "text/plain": [
       "DecisionTreeClassifier(max_depth=15, min_samples_leaf=20)"
      ]
     },
     "execution_count": 21,
     "metadata": {
      "tags": []
     },
     "output_type": "execute_result"
    }
   ],
   "source": [
    "from sklearn.tree import DecisionTreeClassifier\n",
    "\n",
    "clf_tree = DecisionTreeClassifier(max_depth=15, min_samples_leaf=20)\n",
    "clf_tree.fit(X_train, y_train)"
   ]
  },
  {
   "cell_type": "code",
   "execution_count": null,
   "metadata": {
    "ExecuteTime": {
     "end_time": "2020-06-29T05:56:15.481890Z",
     "start_time": "2020-06-29T05:56:15.477162Z"
    },
    "id": "rlfjmiutke8o"
   },
   "outputs": [],
   "source": [
    "def show_auc(y, y_pred, plot_label='', prin=True):    \n",
    "    fpr, tpr, _ = roc_curve(y, y_pred)\n",
    "    auc_val = auc(fpr, tpr)\n",
    "    if prin:\n",
    "        print('ROC AUC: {0:.4f}'.format(auc_val))\n",
    "    if plot_label:\n",
    "        plt.plot(fpr, tpr, label=plot_label)\n",
    "        plt.xlabel('FPR')\n",
    "        plt.ylabel('TPR')\n",
    "    return auc_val"
   ]
  },
  {
   "cell_type": "code",
   "execution_count": null,
   "metadata": {
    "ExecuteTime": {
     "end_time": "2020-06-29T05:56:15.692665Z",
     "start_time": "2020-06-29T05:56:15.484184Z"
    },
    "id": "pmPkTirnke8o",
    "outputId": "be8e22b4-68b7-4102-e0d9-71caf14c063c"
   },
   "outputs": [
    {
     "name": "stdout",
     "output_type": "stream",
     "text": [
      "Train:\n",
      "ROC AUC: 0.8586\n",
      "Test:\n",
      "ROC AUC: 0.6468\n"
     ]
    },
    {
     "data": {
      "text/plain": [
       "0.6467665914238108"
      ]
     },
     "execution_count": 23,
     "metadata": {
      "tags": []
     },
     "output_type": "execute_result"
    },
    {
     "data": {
      "image/png": "[encoded data removed]",
      "text/plain": [
       "<Figure size 432x288 with 1 Axes>"
      ]
     },
     "metadata": {
      "needs_background": "light",
      "tags": []
     },
     "output_type": "display_data"
    }
   ],
   "source": [
    "y_pred_test = clf_tree.predict_proba(X_test)[:, 1]\n",
    "y_pred_train = clf_tree.predict_proba(X_train)[:, 1]\n",
    "\n",
    "print('Train:')\n",
    "show_auc(y_train, y_pred_train, 'train')\n",
    "         \n",
    "print('Test:')\n",
    "show_auc(y_test, y_pred_test, 'test')"
   ]
  },
  {
   "cell_type": "markdown",
   "metadata": {
    "id": "JfF98lF0ke8o"
   },
   "source": [
    "## Применим беггинг к реальным данным"
   ]
  },
  {
   "cell_type": "markdown",
   "metadata": {
    "id": "Vq4oaT5jke8p"
   },
   "source": [
    "Используем готовый алгоритм из sklearn"
   ]
  },
  {
   "cell_type": "code",
   "execution_count": null,
   "metadata": {
    "ExecuteTime": {
     "end_time": "2020-06-29T05:56:21.203729Z",
     "start_time": "2020-06-29T05:56:16.572144Z"
    },
    "id": "F0_hhrglke8p",
    "outputId": "90885419-8381-4145-c61d-e6e8b6e4f2c1"
   },
   "outputs": [
    {
     "data": {
      "text/plain": [
       "BaggingClassifier(base_estimator=DecisionTreeClassifier(max_depth=15,\n",
       "                                                        min_samples_leaf=20),\n",
       "                  n_estimators=20, n_jobs=-1)"
      ]
     },
     "execution_count": 24,
     "metadata": {
      "tags": []
     },
     "output_type": "execute_result"
    }
   ],
   "source": [
    "from sklearn.ensemble import BaggingClassifier\n",
    "\n",
    "bag_clf = BaggingClassifier(n_estimators=20, base_estimator=clf_tree, n_jobs=-1)\n",
    "bag_clf.fit(X_train, y_train)"
   ]
  },
  {
   "cell_type": "code",
   "execution_count": null,
   "metadata": {
    "ExecuteTime": {
     "end_time": "2020-06-29T05:56:21.756039Z",
     "start_time": "2020-06-29T05:56:21.208237Z"
    },
    "id": "P9mDYroyke8p",
    "outputId": "093c9ac2-5172-4b49-f10a-1078d21d689f"
   },
   "outputs": [
    {
     "name": "stdout",
     "output_type": "stream",
     "text": [
      "Train:\n",
      "ROC AUC: 0.8909\n",
      "Test:\n",
      "ROC AUC: 0.7180\n"
     ]
    },
    {
     "data": {
      "image/png": "[encoded data removed]",
      "text/plain": [
       "<Figure size 432x288 with 1 Axes>"
      ]
     },
     "metadata": {
      "needs_background": "light",
      "tags": []
     },
     "output_type": "display_data"
    }
   ],
   "source": [
    "y_pred_test = bag_clf.predict_proba(X_test)[:, 1]\n",
    "y_pred_train = bag_clf.predict_proba(X_train)[:, 1]\n",
    "\n",
    "print('Train:')\n",
    "show_auc(y_train, y_pred_train, 'train')\n",
    "print('Test:')\n",
    "show_auc(y_test, y_pred_test, 'test')\n",
    "plt.legend();"
   ]
  },
  {
   "cell_type": "markdown",
   "metadata": {
    "ExecuteTime": {
     "end_time": "2018-11-23T09:27:19.813160Z",
     "start_time": "2018-11-23T09:27:19.803698Z"
    },
    "id": "foCooxcbke8p"
   },
   "source": [
    "# Часть 3. Случайный лес\n",
    "\n",
    "\n",
    "**Важные гиперпараметры алгоритма**\n",
    "\n",
    "a. Параметры деревьев\n",
    "1. criterion - критерий построения дерева\n",
    "2. max_depth - максимальная глубина дерева (обычно 10-20, больше глубина -> больше риск переобучения)\n",
    "3. min_samples_leaf - минимальное число объектов в листе (обычно 20+, больше объектов -> меньше риск переобучения)\n",
    "\n",
    "b. Параметры леса\n",
    "1. n_estimators - кол-во деревьев (чем больше тем лучше)\n",
    "2. max_features - число признаков случайного подпространства\n",
    "3. n_jobs - кол-во потоков для одновременного построения деревьев (большая прибавка к скорости на многоядерных процах)"
   ]
  },
  {
   "cell_type": "code",
   "execution_count": null,
   "metadata": {
    "ExecuteTime": {
     "end_time": "2020-06-29T05:56:21.919403Z",
     "start_time": "2020-06-29T05:56:21.758401Z"
    },
    "id": "XdhEwRBXke8p",
    "outputId": "ef93c9ad-20d6-4ded-9fb0-12fed899a0a0"
   },
   "outputs": [
    {
     "data": {
      "image/png": "[encoded data removed]",
      "text/plain": [
       "<Figure size 432x288 with 1 Axes>"
      ]
     },
     "metadata": {
      "needs_background": "light",
      "tags": []
     },
     "output_type": "display_data"
    }
   ],
   "source": [
    "mX, my = make_moons(n_samples=1000, shuffle=True, noise=0.4, random_state=123)\n",
    "\n",
    "mX_train, mX_test, my_train, my_test = train_test_split(mX, my, test_size=0.3)\n",
    "\n",
    "plt.scatter(mX[:, 0], mX[:, 1], c=my, s=50, cmap='rainbow')\n",
    "plt.show()"
   ]
  },
  {
   "cell_type": "code",
   "execution_count": null,
   "metadata": {
    "ExecuteTime": {
     "end_time": "2020-06-29T05:56:22.065492Z",
     "start_time": "2020-06-29T05:56:21.923255Z"
    },
    "id": "Omoereq9ke8q",
    "outputId": "b30ae126-673c-4303-83b5-6a7c57c3c16a"
   },
   "outputs": [
    {
     "data": {
      "text/plain": [
       "BaggingClassifier(base_estimator=DecisionTreeClassifier(), n_jobs=-1)"
      ]
     },
     "execution_count": 27,
     "metadata": {
      "tags": []
     },
     "output_type": "execute_result"
    }
   ],
   "source": [
    "from sklearn.ensemble import RandomForestClassifier\n",
    "\n",
    "clf_rf = RandomForestClassifier(n_estimators=10, max_depth=5, min_samples_leaf=20, max_features=0.5, n_jobs=-1)\n",
    "clf_rf.fit(mX_train, my_train)   \n",
    "\n",
    "bag_clf = BaggingClassifier(n_estimators=10, base_estimator=DecisionTreeClassifier(), n_jobs=-1)\n",
    "bag_clf.fit(mX_train, my_train)"
   ]
  },
  {
   "cell_type": "code",
   "execution_count": null,
   "metadata": {
    "ExecuteTime": {
     "end_time": "2020-06-29T05:56:22.480334Z",
     "start_time": "2020-06-29T05:56:22.067840Z"
    },
    "id": "kehoBvNLke8q",
    "outputId": "5cdfca8d-aa7a-49eb-8b95-2209f78fc562"
   },
   "outputs": [
    {
     "name": "stdout",
     "output_type": "stream",
     "text": [
      "Train RF:\n",
      "ROC AUC: 0.9425\n",
      "Test RF:\n",
      "ROC AUC: 0.9236\n",
      "Train BAG:\n",
      "ROC AUC: 0.9995\n",
      "Test BAG:\n",
      "ROC AUC: 0.9054\n"
     ]
    },
    {
     "data": {
      "image/png": "[encoded data removed]",
      "text/plain": [
       "<Figure size 432x288 with 1 Axes>"
      ]
     },
     "metadata": {
      "needs_background": "light",
      "tags": []
     },
     "output_type": "display_data"
    }
   ],
   "source": [
    "my_pred_test_rf = clf_rf.predict_proba(mX_test)[:, 1]\n",
    "my_pred_train_rf = clf_rf.predict_proba(mX_train)[:, 1]\n",
    "my_pred_test_bag = bag_clf.predict_proba(mX_test)[:, 1]\n",
    "my_pred_train_bag = bag_clf.predict_proba(mX_train)[:, 1]\n",
    "\n",
    "print('Train RF:')\n",
    "show_auc(my_train, my_pred_train_rf, 'train rf')\n",
    "print('Test RF:')\n",
    "show_auc(my_test, my_pred_test_rf, 'test rf')\n",
    "print('Train BAG:')\n",
    "show_auc(my_train, my_pred_train_bag, 'train bag')\n",
    "print('Test BAG:')\n",
    "show_auc(my_test, my_pred_test_bag, 'test bag')\n",
    "\n",
    "plt.legend();"
   ]
  },
  {
   "cell_type": "markdown",
   "metadata": {
    "id": "OmIqfaPKke8q"
   },
   "source": [
    "## Применим случайный лес к нашему dataset'у"
   ]
  },
  {
   "cell_type": "code",
   "execution_count": null,
   "metadata": {
    "ExecuteTime": {
     "end_time": "2020-06-29T05:56:23.048661Z",
     "start_time": "2020-06-29T05:56:22.482450Z"
    },
    "id": "dR4xHkPUke8q",
    "outputId": "f45f9310-0d22-4ccb-f739-8e4343fb9b5c"
   },
   "outputs": [
    {
     "data": {
      "text/plain": [
       "RandomForestClassifier(max_depth=5, max_features=0.5, min_samples_leaf=20,\n",
       "                       n_estimators=10, n_jobs=-1)"
      ]
     },
     "execution_count": 29,
     "metadata": {
      "tags": []
     },
     "output_type": "execute_result"
    }
   ],
   "source": [
    "clf_rf = RandomForestClassifier(n_estimators=10, max_depth=5, min_samples_leaf=20, max_features=0.5, n_jobs=-1)\n",
    "clf_rf.fit(X_train, y_train)    "
   ]
  },
  {
   "cell_type": "code",
   "execution_count": null,
   "metadata": {
    "ExecuteTime": {
     "end_time": "2020-06-29T05:56:23.516473Z",
     "start_time": "2020-06-29T05:56:23.050803Z"
    },
    "id": "ht7UllCxke8q",
    "outputId": "031a0082-fbb6-4389-bd04-371ea7f9f2e8",
    "scrolled": false
   },
   "outputs": [
    {
     "name": "stdout",
     "output_type": "stream",
     "text": [
      "Train RF:\n",
      "ROC AUC: 0.7477\n",
      "Test RF:\n",
      "ROC AUC: 0.7281\n",
      "Train:\n",
      "ROC AUC: 0.8909\n",
      "Test:\n",
      "ROC AUC: 0.7180\n"
     ]
    },
    {
     "data": {
      "image/png": "[encoded data removed]",
      "text/plain": [
       "<Figure size 432x288 with 1 Axes>"
      ]
     },
     "metadata": {
      "needs_background": "light",
      "tags": []
     },
     "output_type": "display_data"
    }
   ],
   "source": [
    "y_pred_test_rf = clf_rf.predict_proba(X_test)[:, 1]\n",
    "y_pred_train_rf = clf_rf.predict_proba(X_train)[:, 1]\n",
    "\n",
    "\n",
    "print('Train RF:')\n",
    "show_auc(y_train, y_pred_train_rf, 'train rf')\n",
    "print('Test RF:')\n",
    "show_auc(y_test, y_pred_test_rf, 'test rf')\n",
    "print('Train:')\n",
    "show_auc(y_train, y_pred_train, 'train bag')\n",
    "print('Test:')\n",
    "show_auc(y_test, y_pred_test, 'test bag')\n",
    "plt.legend();\n",
    "\n",
    "plt.legend();"
   ]
  },
  {
   "cell_type": "markdown",
   "metadata": {
    "id": "IDZWx4hvke8r"
   },
   "source": [
    "#### Важность признаков\n",
    "В sklearn - усредненное по всем деревьям в ансамбле кол-во сплитов по признаку, взвешенное на прирост информации (Information gain) и долю объектов в вершине, в которой производится этот сплит\n",
    "\n",
    "Это не единственный вариант, см здесь:\n",
    "\n",
    "https://medium.com/@ceshine/feature-importance-measures-for-tree-models-part-i-47f187c1a2c3\n",
    "\n",
    "Важности признаков случайного леса лежат в артибуте **feature\\_importances\\_**"
   ]
  },
  {
   "cell_type": "code",
   "execution_count": null,
   "metadata": {
    "ExecuteTime": {
     "end_time": "2020-06-29T05:56:23.633970Z",
     "start_time": "2020-06-29T05:56:23.519005Z"
    },
    "id": "UH1JDdfbke8r",
    "outputId": "dd6505e1-a121-472f-8ddf-3885497816b2",
    "scrolled": true
   },
   "outputs": [
    {
     "data": {
      "text/plain": [
       "43     0.495358\n",
       "180    0.092014\n",
       "215    0.059529\n",
       "129    0.044661\n",
       "163    0.043909\n",
       "124    0.033000\n",
       "184    0.030423\n",
       "109    0.028312\n",
       "34     0.023098\n",
       "28     0.013993\n",
       "118    0.012863\n",
       "119    0.007166\n",
       "8      0.007130\n",
       "10     0.006639\n",
       "12     0.005706\n",
       "95     0.005700\n",
       "39     0.002955\n",
       "94     0.002952\n",
       "60     0.002879\n",
       "19     0.002846\n",
       "2      0.002816\n",
       "99     0.002703\n",
       "76     0.002653\n",
       "31     0.002549\n",
       "61     0.002498\n",
       "156    0.002379\n",
       "57     0.002325\n",
       "96     0.002181\n",
       "117    0.001992\n",
       "145    0.001872\n",
       "         ...   \n",
       "79     0.000000\n",
       "167    0.000000\n",
       "166    0.000000\n",
       "165    0.000000\n",
       "164    0.000000\n",
       "70     0.000000\n",
       "162    0.000000\n",
       "161    0.000000\n",
       "160    0.000000\n",
       "159    0.000000\n",
       "75     0.000000\n",
       "158    0.000000\n",
       "77     0.000000\n",
       "157    0.000000\n",
       "80     0.000000\n",
       "147    0.000000\n",
       "155    0.000000\n",
       "82     0.000000\n",
       "83     0.000000\n",
       "84     0.000000\n",
       "153    0.000000\n",
       "86     0.000000\n",
       "87     0.000000\n",
       "152    0.000000\n",
       "89     0.000000\n",
       "151    0.000000\n",
       "91     0.000000\n",
       "150    0.000000\n",
       "149    0.000000\n",
       "218    0.000000\n",
       "Length: 219, dtype: float64"
      ]
     },
     "execution_count": 31,
     "metadata": {
      "tags": []
     },
     "output_type": "execute_result"
    }
   ],
   "source": [
    "imp = pd.Series(clf_rf.feature_importances_)\n",
    "imp.sort_values(ascending=False)"
   ]
  },
  {
   "cell_type": "markdown",
   "metadata": {
    "id": "MkB9lhQtke8r"
   },
   "source": [
    "Плюсы random_forest:\n",
    "- устойчив к переобучению\n",
    "- устойчивость к выбросам\n",
    "- дает хорошее качество “из коробки”\n",
    "- встроенная оценка важности признаков\n",
    "- быстрая реализация\n",
    "\n",
    "Минусы:\n",
    "- сложность интерпретации по сравнению с одним деревом\n",
    "- плохо справляется с очень большим числом признаков\n",
    "- работает дольше линейных моделей"
   ]
  },
  {
   "cell_type": "markdown",
   "metadata": {
    "id": "J-SVRLGPke8r"
   },
   "source": [
    "# Часть 4. Композиции моделей разных типов"
   ]
  },
  {
   "cell_type": "markdown",
   "metadata": {
    "id": "pvYp30Lzke8r"
   },
   "source": [
    "Главная идея - почему ансамблирование моделей делается таким простым способом, как усреднение? Что если доверить это делому другому алгоритму машинного обучения?"
   ]
  },
  {
   "cell_type": "markdown",
   "metadata": {
    "id": "NMiKIudpke8s"
   },
   "source": [
    "### Смешаем дерево и логистическую регрессию\n"
   ]
  },
  {
   "cell_type": "markdown",
   "metadata": {
    "id": "YNx6Ogdoke8s"
   },
   "source": [
    "### Готовим признаки"
   ]
  },
  {
   "cell_type": "code",
   "execution_count": null,
   "metadata": {
    "ExecuteTime": {
     "end_time": "2020-06-29T05:56:28.156612Z",
     "start_time": "2020-06-29T05:56:27.645361Z"
    },
    "id": "rencHCLTke8s",
    "scrolled": true
   },
   "outputs": [],
   "source": [
    "from sklearn.preprocessing import StandardScaler\n",
    "\n",
    "train_median = d_train[num_feat].median()\n",
    "\n",
    "X_train = pd.concat([d_train[num_feat].fillna(train_median),\n",
    "                     d_train[num_feat + cat_feat].isnull().astype(np.int8).add_suffix('_NaN'),\n",
    "                     dummy_train], axis=1)\n",
    "\n",
    "X_test = pd.concat([d_test[num_feat].fillna(train_median),\n",
    "                     d_test[num_feat + cat_feat].isnull().astype(np.int8).add_suffix('_NaN'),\n",
    "                     dummy_test], axis=1)\n",
    "\n",
    "scaler = StandardScaler()\n",
    "scaler.fit(X_train[num_feat])\n",
    "\n",
    "X_train[num_feat] = scaler.transform(X_train[num_feat])\n",
    "X_test[num_feat] = scaler.transform(X_test[num_feat])"
   ]
  },
  {
   "cell_type": "markdown",
   "metadata": {
    "id": "KLnugC1Vke8s"
   },
   "source": [
    "## обучим стекинг"
   ]
  },
  {
   "cell_type": "code",
   "execution_count": null,
   "metadata": {
    "ExecuteTime": {
     "end_time": "2020-06-29T05:56:29.271656Z",
     "start_time": "2020-06-29T05:56:29.268779Z"
    },
    "id": "kZ6b2QWwke8s"
   },
   "outputs": [],
   "source": [
    "from sklearn.ensemble import StackingClassifier\n",
    "from sklearn.linear_model import LogisticRegression\n",
    "from sklearn.neighbors import KNeighborsClassifier"
   ]
  },
  {
   "cell_type": "code",
   "execution_count": null,
   "metadata": {
    "ExecuteTime": {
     "end_time": "2020-06-29T05:56:30.258874Z",
     "start_time": "2020-06-29T05:56:30.255707Z"
    },
    "id": "BMNvceIake8t"
   },
   "outputs": [],
   "source": [
    "classifier = StackingClassifier(\n",
    "    [\n",
    "        ('lr', LogisticRegression()),\n",
    "        ('dt', DecisionTreeClassifier())\n",
    "    ],\n",
    "LogisticRegression())"
   ]
  },
  {
   "cell_type": "code",
   "execution_count": null,
   "metadata": {
    "ExecuteTime": {
     "end_time": "2020-06-29T05:56:49.711966Z",
     "start_time": "2020-06-29T05:56:32.829844Z"
    },
    "id": "0NvBpI9nke8t",
    "outputId": "adcf2ac0-f6ef-4ced-ebaa-e60f5c3b47be",
    "scrolled": true
   },
   "outputs": [
    {
     "name": "stderr",
     "output_type": "stream",
     "text": [
      "/Users/fantomius/anaconda3/lib/python3.7/site-packages/sklearn/linear_model/_logistic.py:764: ConvergenceWarning: lbfgs failed to converge (status=1):\n",
      "STOP: TOTAL NO. of ITERATIONS REACHED LIMIT.\n",
      "\n",
      "Increase the number of iterations (max_iter) or scale the data as shown in:\n",
      "    https://scikit-learn.org/stable/modules/preprocessing.html\n",
      "Please also refer to the documentation for alternative solver options:\n",
      "    https://scikit-learn.org/stable/modules/linear_model.html#logistic-regression\n",
      "  extra_warning_msg=_LOGISTIC_SOLVER_CONVERGENCE_MSG)\n",
      "/Users/fantomius/anaconda3/lib/python3.7/site-packages/sklearn/linear_model/_logistic.py:764: ConvergenceWarning: lbfgs failed to converge (status=1):\n",
      "STOP: TOTAL NO. of ITERATIONS REACHED LIMIT.\n",
      "\n",
      "Increase the number of iterations (max_iter) or scale the data as shown in:\n",
      "    https://scikit-learn.org/stable/modules/preprocessing.html\n",
      "Please also refer to the documentation for alternative solver options:\n",
      "    https://scikit-learn.org/stable/modules/linear_model.html#logistic-regression\n",
      "  extra_warning_msg=_LOGISTIC_SOLVER_CONVERGENCE_MSG)\n",
      "/Users/fantomius/anaconda3/lib/python3.7/site-packages/sklearn/linear_model/_logistic.py:764: ConvergenceWarning: lbfgs failed to converge (status=1):\n",
      "STOP: TOTAL NO. of ITERATIONS REACHED LIMIT.\n",
      "\n",
      "Increase the number of iterations (max_iter) or scale the data as shown in:\n",
      "    https://scikit-learn.org/stable/modules/preprocessing.html\n",
      "Please also refer to the documentation for alternative solver options:\n",
      "    https://scikit-learn.org/stable/modules/linear_model.html#logistic-regression\n",
      "  extra_warning_msg=_LOGISTIC_SOLVER_CONVERGENCE_MSG)\n",
      "/Users/fantomius/anaconda3/lib/python3.7/site-packages/sklearn/linear_model/_logistic.py:764: ConvergenceWarning: lbfgs failed to converge (status=1):\n",
      "STOP: TOTAL NO. of ITERATIONS REACHED LIMIT.\n",
      "\n",
      "Increase the number of iterations (max_iter) or scale the data as shown in:\n",
      "    https://scikit-learn.org/stable/modules/preprocessing.html\n",
      "Please also refer to the documentation for alternative solver options:\n",
      "    https://scikit-learn.org/stable/modules/linear_model.html#logistic-regression\n",
      "  extra_warning_msg=_LOGISTIC_SOLVER_CONVERGENCE_MSG)\n",
      "/Users/fantomius/anaconda3/lib/python3.7/site-packages/sklearn/linear_model/_logistic.py:764: ConvergenceWarning: lbfgs failed to converge (status=1):\n",
      "STOP: TOTAL NO. of ITERATIONS REACHED LIMIT.\n",
      "\n",
      "Increase the number of iterations (max_iter) or scale the data as shown in:\n",
      "    https://scikit-learn.org/stable/modules/preprocessing.html\n",
      "Please also refer to the documentation for alternative solver options:\n",
      "    https://scikit-learn.org/stable/modules/linear_model.html#logistic-regression\n",
      "  extra_warning_msg=_LOGISTIC_SOLVER_CONVERGENCE_MSG)\n",
      "/Users/fantomius/anaconda3/lib/python3.7/site-packages/sklearn/linear_model/_logistic.py:764: ConvergenceWarning: lbfgs failed to converge (status=1):\n",
      "STOP: TOTAL NO. of ITERATIONS REACHED LIMIT.\n",
      "\n",
      "Increase the number of iterations (max_iter) or scale the data as shown in:\n",
      "    https://scikit-learn.org/stable/modules/preprocessing.html\n",
      "Please also refer to the documentation for alternative solver options:\n",
      "    https://scikit-learn.org/stable/modules/linear_model.html#logistic-regression\n",
      "  extra_warning_msg=_LOGISTIC_SOLVER_CONVERGENCE_MSG)\n"
     ]
    },
    {
     "data": {
      "text/plain": [
       "StackingClassifier(estimators=[('lr', LogisticRegression()),\n",
       "                               ('dt', DecisionTreeClassifier())],\n",
       "                   final_estimator=LogisticRegression())"
      ]
     },
     "execution_count": 35,
     "metadata": {
      "tags": []
     },
     "output_type": "execute_result"
    }
   ],
   "source": [
    "classifier.fit(X_train, y_train)"
   ]
  },
  {
   "cell_type": "code",
   "execution_count": null,
   "metadata": {
    "ExecuteTime": {
     "end_time": "2020-06-29T05:56:49.719702Z",
     "start_time": "2020-06-29T05:56:49.714651Z"
    },
    "id": "ktDYcLz2ke8t",
    "outputId": "f327a062-0398-42d4-8f1a-fc91fcf82a87"
   },
   "outputs": [
    {
     "data": {
      "text/plain": [
       "LogisticRegression()"
      ]
     },
     "execution_count": 36,
     "metadata": {
      "tags": []
     },
     "output_type": "execute_result"
    }
   ],
   "source": [
    "classifier.named_estimators_['lr']"
   ]
  },
  {
   "cell_type": "code",
   "execution_count": null,
   "metadata": {
    "ExecuteTime": {
     "end_time": "2020-06-29T05:56:49.751730Z",
     "start_time": "2020-06-29T05:56:49.721774Z"
    },
    "id": "pJjNQ1LZke8t"
   },
   "outputs": [],
   "source": [
    "y_pred_proba_lr = classifier.named_estimators_['lr'].predict_proba(X_test)[:,1]\n",
    "\n",
    "y_pred_proba_dt = classifier.named_estimators_['dt'].predict_proba(X_test)[:,1]\n",
    "\n",
    "y_pred_proba = classifier.predict_proba(X_test)[:,1]"
   ]
  },
  {
   "cell_type": "code",
   "execution_count": null,
   "metadata": {
    "ExecuteTime": {
     "end_time": "2020-06-29T05:56:59.360272Z",
     "start_time": "2020-06-29T05:56:59.194755Z"
    },
    "id": "GvmFx9Urke8u",
    "outputId": "3936a8e9-37aa-4048-e0b0-eec46d596f84"
   },
   "outputs": [
    {
     "name": "stdout",
     "output_type": "stream",
     "text": [
      "LR\n",
      "ROC AUC: 0.7219\n",
      "DT\n",
      "ROC AUC: 0.5680\n",
      "STACK\n",
      "ROC AUC: 0.7223\n"
     ]
    },
    {
     "data": {
      "image/png": "[encoded data removed]",
      "text/plain": [
       "<Figure size 432x288 with 1 Axes>"
      ]
     },
     "metadata": {
      "needs_background": "light",
      "tags": []
     },
     "output_type": "display_data"
    }
   ],
   "source": [
    "print(\"LR\")\n",
    "show_auc(y_test, y_pred_proba_lr, 'LR')\n",
    "print(\"DT\")\n",
    "show_auc(y_test, y_pred_proba_dt, 'DT')\n",
    "print(\"STACK\")\n",
    "show_auc(y_test, y_pred_proba, 'STACK')\n",
    "plt.legend()\n",
    "plt.show()"
   ]
  },
  {
   "cell_type": "markdown",
   "metadata": {
    "id": "_TL3weXVke8u"
   },
   "source": [
    "#### Посмотрим на коэффициенты объединяющей линейной модели"
   ]
  },
  {
   "cell_type": "code",
   "execution_count": null,
   "metadata": {
    "ExecuteTime": {
     "end_time": "2020-06-29T05:57:50.271865Z",
     "start_time": "2020-06-29T05:57:50.267381Z"
    },
    "id": "OoOKemG4ke8u",
    "outputId": "b1796485-b839-447d-fbc9-a838bd3ff891"
   },
   "outputs": [
    {
     "data": {
      "text/plain": [
       "LogisticRegression()"
      ]
     },
     "execution_count": 41,
     "metadata": {
      "tags": []
     },
     "output_type": "execute_result"
    }
   ],
   "source": [
    "classifier.final_estimator_"
   ]
  },
  {
   "cell_type": "code",
   "execution_count": null,
   "metadata": {
    "ExecuteTime": {
     "end_time": "2020-06-29T05:58:11.276523Z",
     "start_time": "2020-06-29T05:58:11.151649Z"
    },
    "id": "5ddeiJExke8u",
    "outputId": "4555d297-3064-47f6-a72b-f9678b23c4f0"
   },
   "outputs": [
    {
     "data": {
      "text/plain": [
       "<matplotlib.axes._subplots.AxesSubplot at 0x7feb9b5ae400>"
      ]
     },
     "execution_count": 42,
     "metadata": {
      "tags": []
     },
     "output_type": "execute_result"
    },
    {
     "data": {
      "image/png": "[encoded data removed]",
      "text/plain": [
       "<Figure size 432x288 with 1 Axes>"
      ]
     },
     "metadata": {
      "needs_background": "light",
      "tags": []
     },
     "output_type": "display_data"
    }
   ],
   "source": [
    "pd.Series(classifier.final_estimator_.coef_.flatten(), index=classifier.named_estimators_.keys()).plot(kind='barh')"
   ]
  },
  {
   "cell_type": "markdown",
   "metadata": {
    "id": "MCJRzUvLke8v"
   },
   "source": [
    "# Домашняя работа\n",
    "\n",
    "1. Теперь решаем задачу регрессии - предскажем цены на недвижимость. Использовать датасет https://www.kaggle.com/c/house-prices-advanced-regression-techniques/data (train.csv)\n",
    "2. Построить случайный лес, вывести важность признаков\n",
    "3. Обучить стекинг как минимум 3х моделей, использовать хотя бы 1 линейную модель и 1 нелинейную\n",
    "4. В качестве решения: Jupyter notebook с кодом, комментариями и графиками"
   ]
  },
  {
   "cell_type": "code",
   "execution_count": null,
   "metadata": {
    "id": "AMoX-vmwke8v"
   },
   "outputs": [],
   "source": []
  }
 ],
 "metadata": {
  "colab": {
   "name": "Ансамблевые модели.ipynb",
   "provenance": []
  },
  "kernelspec": {
   "display_name": "Python 3",
   "language": "python",
   "name": "python3"
  },
  "language_info": {
   "codemirror_mode": {
    "name": "ipython",
    "version": 3
   },
   "file_extension": ".py",
   "mimetype": "text/x-python",
   "name": "python",
   "nbconvert_exporter": "python",
   "pygments_lexer": "ipython3",
   "version": "3.7.0"
  },
  "varInspector": {
   "cols": {
    "lenName": 16,
    "lenType": 16,
    "lenVar": 40
   },
   "kernels_config": {
    "python": {
     "delete_cmd_postfix": "",
     "delete_cmd_prefix": "del ",
     "library": "var_list.py",
     "varRefreshCmd": "print(var_dic_list())"
    },
    "r": {
     "delete_cmd_postfix": ") ",
     "delete_cmd_prefix": "rm(",
     "library": "var_list.r",
     "varRefreshCmd": "cat(var_dic_list()) "
    }
   },
   "types_to_exclude": [
    "module",
    "function",
    "builtin_function_or_method",
    "instance",
    "_Feature"
   ],
   "window_display": false
  }
 },
 "nbformat": 4,
 "nbformat_minor": 1
}
