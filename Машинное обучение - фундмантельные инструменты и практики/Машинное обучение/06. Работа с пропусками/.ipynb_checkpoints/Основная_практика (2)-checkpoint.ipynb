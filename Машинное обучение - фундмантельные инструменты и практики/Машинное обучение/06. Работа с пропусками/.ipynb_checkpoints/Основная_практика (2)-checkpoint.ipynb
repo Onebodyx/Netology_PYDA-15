{
 "cells": [
  {
   "cell_type": "code",
   "execution_count": 53,
   "metadata": {
    "id": "2vsEyCovznsR"
   },
   "outputs": [],
   "source": [
    "import pandas as pd\n",
    "import numpy as np\n",
    "import seaborn as sns\n",
    " \n",
    "from matplotlib import pyplot as plt\n",
    " \n",
    "from sklearn.linear_model import LinearRegression\n",
    "from sklearn.model_selection import train_test_split"
   ]
  },
  {
   "cell_type": "code",
   "execution_count": 54,
   "metadata": {
    "colab": {
     "base_uri": "https://localhost:8080/",
     "height": 35
    },
    "executionInfo": {
     "elapsed": 1019,
     "status": "ok",
     "timestamp": 1617732944250,
     "user": {
      "displayName": "Alex M",
      "photoUrl": "",
      "userId": "08460721731736090167"
     },
     "user_tz": -180
    },
    "id": "QP2k-8WGZWGN",
    "outputId": "a1d0ebcc-54e2-4453-cf1f-f85af52966d1"
   },
   "outputs": [],
   "source": [
    "data = pd.read_csv('final_data.csv', sep=';')"
   ]
  },
  {
   "cell_type": "code",
   "execution_count": 55,
   "metadata": {
    "colab": {
     "base_uri": "https://localhost:8080/"
    },
    "executionInfo": {
     "elapsed": 1738,
     "status": "ok",
     "timestamp": 1617732808543,
     "user": {
      "displayName": "Alex M",
      "photoUrl": "",
      "userId": "08460721731736090167"
     },
     "user_tz": -180
    },
    "id": "3fuLjhvhDX8w",
    "outputId": "6f71ed68-46e9-4bc3-dcd1-68fcd12e4c42"
   },
   "outputs": [
    {
     "data": {
      "text/plain": [
       "(11330, 18)"
      ]
     },
     "execution_count": 55,
     "metadata": {},
     "output_type": "execute_result"
    }
   ],
   "source": [
    "data.shape"
   ]
  },
  {
   "cell_type": "markdown",
   "metadata": {
    "id": "hU9uKGEWXrkI"
   },
   "source": [
    "Будем использовать линейную регрессию для тестирования качества данных"
   ]
  },
  {
   "cell_type": "code",
   "execution_count": 56,
   "metadata": {
    "id": "t21sSt0xznsg"
   },
   "outputs": [],
   "source": [
    "def get_score(X,y, random_seed=42, model=None):\n",
    "    if model is None:\n",
    "        model = LinearRegression()\n",
    "    X_train, X_test, y_train, y_test = train_test_split(X, y, test_size=0.3, random_state=random_seed )  \n",
    "    model.fit(X_train, y_train)\n",
    "    return model.score(X_test, y_test)"
   ]
  },
  {
   "cell_type": "markdown",
   "metadata": {
    "id": "Cm-WcvMQZCHL"
   },
   "source": [
    "Для поиска выбросов будем использовать boxplot, pairplot"
   ]
  },
  {
   "cell_type": "code",
   "execution_count": 57,
   "metadata": {
    "id": "CDP2Zn9P1I8N"
   },
   "outputs": [],
   "source": [
    "def get_boxplot(X, columns=[]):\n",
    "  for i in columns:\n",
    "    sns.boxplot(x=X[i])\n",
    "  pass  \n",
    "\n",
    "def get_pairplot(X, columns=None):\n",
    "  if columns is None:\n",
    "    columns = list(X.columns)\n",
    "  sns.pairplot(X[columns])\n",
    "  pass    "
   ]
  },
  {
   "cell_type": "markdown",
   "metadata": {
    "id": "0YOcCBI_Zwqt"
   },
   "source": [
    "Для заполнения пропущенных значений будем использовать стандартные способы\n",
    "- заполнение значением\n",
    "- max\n",
    "- min\n",
    "- mode\n",
    "- median\n",
    "- mean\n",
    "- метод индикатора\n",
    "- линейная регрессия"
   ]
  },
  {
   "cell_type": "code",
   "execution_count": 58,
   "metadata": {
    "id": "K3xjIkzBM2gk"
   },
   "outputs": [],
   "source": [
    "def get_value(X, column, mode='mean', value=0, columns_for_reg=None):\n",
    "  if mode == 'value':\n",
    "    X.loc[X[X[column].isna()].index ,column] = value\n",
    "  elif mode == 'max':\n",
    "    X.loc[X[X[column].isna()].index ,column] = X[column].max()\n",
    "  elif mode == 'min':\n",
    "    X.loc[X[X[column].isna()].index ,column] = X[column].min()\n",
    "  elif mode == 'median':\n",
    "    X.loc[X[X[column].isna()].index ,column] = X[column].median()    \n",
    "  elif mode == 'mode':\n",
    "    X.loc[X[X[column].isna()].index, column] = X[column].mode()[0]  \n",
    "  elif mode == 'indicator':\n",
    "    X['ind_'+str(column)] = 0\n",
    "    X.loc[X[X[column].isna()].index, 'ind_'+str(column)] = 1\n",
    "    X.loc[X[X[column].isna()].index, column] = value \n",
    "  elif mode == 'linreg':\n",
    "    if columns_for_reg is None:\n",
    "      cols = list(X.select_dtypes([np.number]).columns) \n",
    "      cols.remove(column)\n",
    "    else:\n",
    "      cols = columns_for_reg  \n",
    "    X_tmp = X.dropna()  \n",
    "    m = LinearRegression().fit(X_tmp[cols], X_tmp[column])\n",
    "    X.loc[X[X[column].isna()].index, column] = m.predict(X[X[column].isna()][cols])\n",
    "  else:\n",
    "    X.loc[X[X[column].isna()].index, column] = X[column].mean()\n",
    "  return X  \n"
   ]
  },
  {
   "cell_type": "markdown",
   "metadata": {
    "id": "la99k2n68EHC"
   },
   "source": [
    "### Заполнение пропущенных данных "
   ]
  },
  {
   "cell_type": "code",
   "execution_count": 59,
   "metadata": {
    "colab": {
     "base_uri": "https://localhost:8080/"
    },
    "executionInfo": {
     "elapsed": 1073,
     "status": "ok",
     "timestamp": 1617731663105,
     "user": {
      "displayName": "Alex M",
      "photoUrl": "",
      "userId": "08460721731736090167"
     },
     "user_tz": -180
    },
    "id": "mU2z8CFpznsg",
    "outputId": "759031a9-d544-4f6f-9ab1-4fa12d7d68e9"
   },
   "outputs": [
    {
     "name": "stdout",
     "output_type": "stream",
     "text": [
      "<class 'pandas.core.frame.DataFrame'>\n",
      "RangeIndex: 11330 entries, 0 to 11329\n",
      "Data columns (total 18 columns):\n",
      "Unnamed: 0       11330 non-null int64\n",
      "address          11330 non-null object\n",
      "z_address        11330 non-null object\n",
      "bathrooms        11330 non-null float64\n",
      "bedrooms         11330 non-null float64\n",
      "finishedsqft     11211 non-null float64\n",
      "lastsolddate     11330 non-null object\n",
      "lastsoldprice    11330 non-null float64\n",
      "latitude         11315 non-null float64\n",
      "longitude        11315 non-null float64\n",
      "neighborhood     11330 non-null object\n",
      "totalrooms       11281 non-null float64\n",
      "usecode          11290 non-null object\n",
      "yearbuilt        11330 non-null float64\n",
      "zestimate        11330 non-null float64\n",
      "zindexvalue      11330 non-null object\n",
      "zipcode          11330 non-null float64\n",
      "zpid             11330 non-null float64\n",
      "dtypes: float64(11), int64(1), object(6)\n",
      "memory usage: 1.6+ MB\n"
     ]
    }
   ],
   "source": [
    "data.info()"
   ]
  },
  {
   "cell_type": "code",
   "execution_count": 60,
   "metadata": {
    "colab": {
     "base_uri": "https://localhost:8080/",
     "height": 317
    },
    "executionInfo": {
     "elapsed": 694,
     "status": "ok",
     "timestamp": 1617731665050,
     "user": {
      "displayName": "Alex M",
      "photoUrl": "",
      "userId": "08460721731736090167"
     },
     "user_tz": -180
    },
    "id": "zuEloCeeJakc",
    "outputId": "184d0719-e4e3-4fcf-89ab-2438848d1ec3"
   },
   "outputs": [
    {
     "data": {
      "text/html": [
       "<div>\n",
       "<style scoped>\n",
       "    .dataframe tbody tr th:only-of-type {\n",
       "        vertical-align: middle;\n",
       "    }\n",
       "\n",
       "    .dataframe tbody tr th {\n",
       "        vertical-align: top;\n",
       "    }\n",
       "\n",
       "    .dataframe thead th {\n",
       "        text-align: right;\n",
       "    }\n",
       "</style>\n",
       "<table border=\"1\" class=\"dataframe\">\n",
       "  <thead>\n",
       "    <tr style=\"text-align: right;\">\n",
       "      <th></th>\n",
       "      <th>Unnamed: 0</th>\n",
       "      <th>bathrooms</th>\n",
       "      <th>bedrooms</th>\n",
       "      <th>finishedsqft</th>\n",
       "      <th>lastsoldprice</th>\n",
       "      <th>latitude</th>\n",
       "      <th>longitude</th>\n",
       "      <th>totalrooms</th>\n",
       "      <th>yearbuilt</th>\n",
       "      <th>zestimate</th>\n",
       "      <th>zipcode</th>\n",
       "      <th>zpid</th>\n",
       "    </tr>\n",
       "  </thead>\n",
       "  <tbody>\n",
       "    <tr>\n",
       "      <th>count</th>\n",
       "      <td>11330.000000</td>\n",
       "      <td>11330.000000</td>\n",
       "      <td>11330.000000</td>\n",
       "      <td>11211.000000</td>\n",
       "      <td>1.133000e+04</td>\n",
       "      <td>11315.000000</td>\n",
       "      <td>11315.000000</td>\n",
       "      <td>11281.000000</td>\n",
       "      <td>11330.000000</td>\n",
       "      <td>1.133000e+04</td>\n",
       "      <td>11330.000000</td>\n",
       "      <td>1.133000e+04</td>\n",
       "    </tr>\n",
       "    <tr>\n",
       "      <th>mean</th>\n",
       "      <td>9171.729214</td>\n",
       "      <td>1.980229</td>\n",
       "      <td>2.614475</td>\n",
       "      <td>1586.081349</td>\n",
       "      <td>1.263928e+06</td>\n",
       "      <td>37.759715</td>\n",
       "      <td>-122.436508</td>\n",
       "      <td>6.113997</td>\n",
       "      <td>1948.498147</td>\n",
       "      <td>1.565695e+06</td>\n",
       "      <td>94116.912004</td>\n",
       "      <td>3.689973e+07</td>\n",
       "    </tr>\n",
       "    <tr>\n",
       "      <th>std</th>\n",
       "      <td>4921.941074</td>\n",
       "      <td>1.047358</td>\n",
       "      <td>1.299457</td>\n",
       "      <td>922.815803</td>\n",
       "      <td>1.042079e+06</td>\n",
       "      <td>0.025583</td>\n",
       "      <td>0.030742</td>\n",
       "      <td>12.151195</td>\n",
       "      <td>37.911196</td>\n",
       "      <td>1.229417e+06</td>\n",
       "      <td>9.400877</td>\n",
       "      <td>7.800741e+07</td>\n",
       "    </tr>\n",
       "    <tr>\n",
       "      <th>min</th>\n",
       "      <td>2.000000</td>\n",
       "      <td>0.500000</td>\n",
       "      <td>0.000000</td>\n",
       "      <td>1.000000</td>\n",
       "      <td>5.350000e+02</td>\n",
       "      <td>37.708170</td>\n",
       "      <td>-122.510726</td>\n",
       "      <td>1.000000</td>\n",
       "      <td>1860.000000</td>\n",
       "      <td>4.323850e+05</td>\n",
       "      <td>94102.000000</td>\n",
       "      <td>1.506329e+07</td>\n",
       "    </tr>\n",
       "    <tr>\n",
       "      <th>25%</th>\n",
       "      <td>5039.750000</td>\n",
       "      <td>1.000000</td>\n",
       "      <td>2.000000</td>\n",
       "      <td>1019.000000</td>\n",
       "      <td>7.292500e+05</td>\n",
       "      <td>37.739284</td>\n",
       "      <td>-122.455149</td>\n",
       "      <td>4.000000</td>\n",
       "      <td>1916.000000</td>\n",
       "      <td>9.052375e+05</td>\n",
       "      <td>94110.000000</td>\n",
       "      <td>1.510847e+07</td>\n",
       "    </tr>\n",
       "    <tr>\n",
       "      <th>50%</th>\n",
       "      <td>9198.500000</td>\n",
       "      <td>2.000000</td>\n",
       "      <td>2.000000</td>\n",
       "      <td>1362.000000</td>\n",
       "      <td>9.900000e+05</td>\n",
       "      <td>37.760514</td>\n",
       "      <td>-122.432510</td>\n",
       "      <td>5.000000</td>\n",
       "      <td>1940.000000</td>\n",
       "      <td>1.230758e+06</td>\n",
       "      <td>94115.000000</td>\n",
       "      <td>1.515697e+07</td>\n",
       "    </tr>\n",
       "    <tr>\n",
       "      <th>75%</th>\n",
       "      <td>13374.750000</td>\n",
       "      <td>2.000000</td>\n",
       "      <td>3.000000</td>\n",
       "      <td>1878.000000</td>\n",
       "      <td>1.450000e+06</td>\n",
       "      <td>37.781386</td>\n",
       "      <td>-122.413353</td>\n",
       "      <td>7.000000</td>\n",
       "      <td>1986.000000</td>\n",
       "      <td>1.731170e+06</td>\n",
       "      <td>94123.000000</td>\n",
       "      <td>5.970040e+07</td>\n",
       "    </tr>\n",
       "    <tr>\n",
       "      <th>max</th>\n",
       "      <td>17632.000000</td>\n",
       "      <td>14.000000</td>\n",
       "      <td>20.000000</td>\n",
       "      <td>27275.000000</td>\n",
       "      <td>2.388900e+07</td>\n",
       "      <td>37.806083</td>\n",
       "      <td>-122.381201</td>\n",
       "      <td>1264.000000</td>\n",
       "      <td>2016.000000</td>\n",
       "      <td>1.553325e+07</td>\n",
       "      <td>94158.000000</td>\n",
       "      <td>2.146999e+09</td>\n",
       "    </tr>\n",
       "  </tbody>\n",
       "</table>\n",
       "</div>"
      ],
      "text/plain": [
       "         Unnamed: 0     bathrooms      bedrooms  finishedsqft  lastsoldprice  \\\n",
       "count  11330.000000  11330.000000  11330.000000  11211.000000   1.133000e+04   \n",
       "mean    9171.729214      1.980229      2.614475   1586.081349   1.263928e+06   \n",
       "std     4921.941074      1.047358      1.299457    922.815803   1.042079e+06   \n",
       "min        2.000000      0.500000      0.000000      1.000000   5.350000e+02   \n",
       "25%     5039.750000      1.000000      2.000000   1019.000000   7.292500e+05   \n",
       "50%     9198.500000      2.000000      2.000000   1362.000000   9.900000e+05   \n",
       "75%    13374.750000      2.000000      3.000000   1878.000000   1.450000e+06   \n",
       "max    17632.000000     14.000000     20.000000  27275.000000   2.388900e+07   \n",
       "\n",
       "           latitude     longitude    totalrooms     yearbuilt     zestimate  \\\n",
       "count  11315.000000  11315.000000  11281.000000  11330.000000  1.133000e+04   \n",
       "mean      37.759715   -122.436508      6.113997   1948.498147  1.565695e+06   \n",
       "std        0.025583      0.030742     12.151195     37.911196  1.229417e+06   \n",
       "min       37.708170   -122.510726      1.000000   1860.000000  4.323850e+05   \n",
       "25%       37.739284   -122.455149      4.000000   1916.000000  9.052375e+05   \n",
       "50%       37.760514   -122.432510      5.000000   1940.000000  1.230758e+06   \n",
       "75%       37.781386   -122.413353      7.000000   1986.000000  1.731170e+06   \n",
       "max       37.806083   -122.381201   1264.000000   2016.000000  1.553325e+07   \n",
       "\n",
       "            zipcode          zpid  \n",
       "count  11330.000000  1.133000e+04  \n",
       "mean   94116.912004  3.689973e+07  \n",
       "std        9.400877  7.800741e+07  \n",
       "min    94102.000000  1.506329e+07  \n",
       "25%    94110.000000  1.510847e+07  \n",
       "50%    94115.000000  1.515697e+07  \n",
       "75%    94123.000000  5.970040e+07  \n",
       "max    94158.000000  2.146999e+09  "
      ]
     },
     "execution_count": 60,
     "metadata": {},
     "output_type": "execute_result"
    }
   ],
   "source": [
    "data.describe()"
   ]
  },
  {
   "cell_type": "code",
   "execution_count": 61,
   "metadata": {
    "id": "FU47ehFaiUqE"
   },
   "outputs": [],
   "source": [
    "# расчет качества модели пр R2-score\n",
    "# baseline = 0.8275249613455236"
   ]
  },
  {
   "cell_type": "code",
   "execution_count": 62,
   "metadata": {
    "colab": {
     "base_uri": "https://localhost:8080/"
    },
    "executionInfo": {
     "elapsed": 913,
     "status": "ok",
     "timestamp": 1617732820415,
     "user": {
      "displayName": "Alex M",
      "photoUrl": "",
      "userId": "08460721731736090167"
     },
     "user_tz": -180
    },
    "id": "G9Wr6Y0pibEk",
    "outputId": "e8b363ff-23aa-4cd0-d267-aa2a2655d0ab"
   },
   "outputs": [
    {
     "data": {
      "text/plain": [
       "0.827524961345539"
      ]
     },
     "execution_count": 62,
     "metadata": {},
     "output_type": "execute_result"
    }
   ],
   "source": [
    "cols = ['bathrooms', 'bedrooms',\t'finishedsqft',\t'lastsoldprice',\t'latitude',\t'longitude',\n",
    "        'totalrooms',\t'yearbuilt']\n",
    "target = 'zestimate'\n",
    "get_score(data.dropna()[cols], data.dropna()[target])"
   ]
  },
  {
   "cell_type": "code",
   "execution_count": 63,
   "metadata": {
    "id": "sMgZOTNeELAP"
   },
   "outputs": [],
   "source": [
    "# Unnamed: 0 - удаляем"
   ]
  },
  {
   "cell_type": "code",
   "execution_count": 64,
   "metadata": {
    "colab": {
     "base_uri": "https://localhost:8080/"
    },
    "executionInfo": {
     "elapsed": 1404,
     "status": "ok",
     "timestamp": 1617731676053,
     "user": {
      "displayName": "Alex M",
      "photoUrl": "",
      "userId": "08460721731736090167"
     },
     "user_tz": -180
    },
    "id": "DgOW9Jilznsh",
    "outputId": "2dd65f39-c4eb-41ce-de25-66eaa317365a"
   },
   "outputs": [
    {
     "data": {
      "text/plain": [
       "2047     1\n",
       "11631    1\n",
       "15693    1\n",
       "13644    1\n",
       "5448     1\n",
       "9542     1\n",
       "15685    1\n",
       "13636    1\n",
       "1346     1\n",
       "7489     1\n",
       "11583    1\n",
       "9534     1\n",
       "15677    1\n",
       "13628    1\n",
       "3387     1\n",
       "5432     1\n",
       "11575    1\n",
       "9526     1\n",
       "15669    1\n",
       "13620    1\n",
       "5424     1\n",
       "9550     1\n",
       "11599    1\n",
       "7505     1\n",
       "1378     1\n",
       "15725    1\n",
       "3435     1\n",
       "1386     1\n",
       "5480     1\n",
       "9574     1\n",
       "        ..\n",
       "6838     1\n",
       "17077    1\n",
       "12979    1\n",
       "15026    1\n",
       "8881     1\n",
       "10928    1\n",
       "6830     1\n",
       "709      1\n",
       "4807     1\n",
       "2788     1\n",
       "17109    1\n",
       "8929     1\n",
       "10976    1\n",
       "6878     1\n",
       "733      1\n",
       "13019    1\n",
       "10968    1\n",
       "4823     1\n",
       "6870     1\n",
       "2772     1\n",
       "8905     1\n",
       "13011    1\n",
       "15058    1\n",
       "8913     1\n",
       "4815     1\n",
       "6862     1\n",
       "2764     1\n",
       "13003    1\n",
       "15050    1\n",
       "16384    1\n",
       "Name: Unnamed: 0, Length: 11330, dtype: int64"
      ]
     },
     "execution_count": 64,
     "metadata": {},
     "output_type": "execute_result"
    }
   ],
   "source": [
    "data['Unnamed: 0'].value_counts(dropna=False)"
   ]
  },
  {
   "cell_type": "code",
   "execution_count": 65,
   "metadata": {
    "colab": {
     "base_uri": "https://localhost:8080/",
     "height": 265
    },
    "executionInfo": {
     "elapsed": 1338,
     "status": "ok",
     "timestamp": 1617731677557,
     "user": {
      "displayName": "Alex M",
      "photoUrl": "",
      "userId": "08460721731736090167"
     },
     "user_tz": -180
    },
    "id": "XjQ-EFowc5Bk",
    "outputId": "adb57bb8-06b5-45c2-e317-3cd8dc4b0a1b"
   },
   "outputs": [
    {
     "data": {
      "image/png": "[encoded data removed]",
      "text/plain": [
       "<Figure size 432x288 with 1 Axes>"
      ]
     },
     "metadata": {
      "needs_background": "light"
     },
     "output_type": "display_data"
    }
   ],
   "source": [
    "plt.scatter(data.index, data['Unnamed: 0'], s=1)\n",
    "plt.grid()"
   ]
  },
  {
   "cell_type": "code",
   "execution_count": 66,
   "metadata": {
    "id": "Hrp4iLsYznsh"
   },
   "outputs": [],
   "source": [
    "data.drop(columns=['Unnamed: 0'], inplace=True)"
   ]
  },
  {
   "cell_type": "code",
   "execution_count": 67,
   "metadata": {
    "colab": {
     "base_uri": "https://localhost:8080/"
    },
    "executionInfo": {
     "elapsed": 1228,
     "status": "ok",
     "timestamp": 1617731680517,
     "user": {
      "displayName": "Alex M",
      "photoUrl": "",
      "userId": "08460721731736090167"
     },
     "user_tz": -180
    },
    "id": "TzVNUP5Oznsh",
    "outputId": "bd2e9a22-2ba4-4f28-80f7-c28b953d05c2"
   },
   "outputs": [
    {
     "data": {
      "text/plain": [
       "Index(['address', 'z_address', 'bathrooms', 'bedrooms', 'finishedsqft',\n",
       "       'lastsolddate', 'lastsoldprice', 'latitude', 'longitude',\n",
       "       'neighborhood', 'totalrooms', 'usecode', 'yearbuilt', 'zestimate',\n",
       "       'zindexvalue', 'zipcode', 'zpid'],\n",
       "      dtype='object')"
      ]
     },
     "execution_count": 67,
     "metadata": {},
     "output_type": "execute_result"
    }
   ],
   "source": [
    "data.columns"
   ]
  },
  {
   "cell_type": "code",
   "execution_count": 68,
   "metadata": {
    "id": "siYb3jKpznsi"
   },
   "outputs": [],
   "source": [
    "# zindexvalue, zpid - удаляем"
   ]
  },
  {
   "cell_type": "code",
   "execution_count": 69,
   "metadata": {
    "id": "5ujl-Leaznsi"
   },
   "outputs": [],
   "source": [
    "data.drop(columns=['zindexvalue', 'zpid'], inplace=True)"
   ]
  },
  {
   "cell_type": "code",
   "execution_count": 70,
   "metadata": {
    "colab": {
     "base_uri": "https://localhost:8080/"
    },
    "executionInfo": {
     "elapsed": 1052,
     "status": "ok",
     "timestamp": 1617731681455,
     "user": {
      "displayName": "Alex M",
      "photoUrl": "",
      "userId": "08460721731736090167"
     },
     "user_tz": -180
    },
    "id": "b8yn3AhJEL9b",
    "outputId": "894504b1-a6e6-4d46-9ce4-292cdf7a6785"
   },
   "outputs": [
    {
     "data": {
      "text/plain": [
       "Index(['address', 'z_address', 'bathrooms', 'bedrooms', 'finishedsqft',\n",
       "       'lastsolddate', 'lastsoldprice', 'latitude', 'longitude',\n",
       "       'neighborhood', 'totalrooms', 'usecode', 'yearbuilt', 'zestimate',\n",
       "       'zipcode'],\n",
       "      dtype='object')"
      ]
     },
     "execution_count": 70,
     "metadata": {},
     "output_type": "execute_result"
    }
   ],
   "source": [
    "data.columns"
   ]
  },
  {
   "cell_type": "code",
   "execution_count": 71,
   "metadata": {
    "colab": {
     "base_uri": "https://localhost:8080/",
     "height": 981
    },
    "executionInfo": {
     "elapsed": 66816,
     "status": "ok",
     "timestamp": 1617731751196,
     "user": {
      "displayName": "Alex M",
      "photoUrl": "",
      "userId": "08460721731736090167"
     },
     "user_tz": -180
    },
    "id": "Pc89DpxkmK4f",
    "outputId": "298a98cd-a681-4f46-9fcc-46e7068b96d3"
   },
   "outputs": [],
   "source": [
    "# get_pairplot(data)"
   ]
  },
  {
   "cell_type": "code",
   "execution_count": 72,
   "metadata": {
    "id": "cY_roAEKEMAV"
   },
   "outputs": [],
   "source": [
    "# finishedsqft"
   ]
  },
  {
   "cell_type": "code",
   "execution_count": 73,
   "metadata": {
    "colab": {
     "base_uri": "https://localhost:8080/",
     "height": 279
    },
    "executionInfo": {
     "elapsed": 63841,
     "status": "ok",
     "timestamp": 1617731751844,
     "user": {
      "displayName": "Alex M",
      "photoUrl": "",
      "userId": "08460721731736090167"
     },
     "user_tz": -180
    },
    "id": "bwzn254jEMD_",
    "outputId": "822b4117-0e28-493f-e338-7855590bd930"
   },
   "outputs": [
    {
     "data": {
      "image/png": "[encoded data removed]",
      "text/plain": [
       "<Figure size 432x288 with 1 Axes>"
      ]
     },
     "metadata": {
      "needs_background": "light"
     },
     "output_type": "display_data"
    }
   ],
   "source": [
    "get_boxplot(data, columns=['finishedsqft'])"
   ]
  },
  {
   "cell_type": "code",
   "execution_count": 74,
   "metadata": {
    "colab": {
     "base_uri": "https://localhost:8080/",
     "height": 282
    },
    "executionInfo": {
     "elapsed": 61240,
     "status": "ok",
     "timestamp": 1617731751844,
     "user": {
      "displayName": "Alex M",
      "photoUrl": "",
      "userId": "08460721731736090167"
     },
     "user_tz": -180
    },
    "id": "Ns4cH5W5EMJw",
    "outputId": "b4de1f94-3acf-420d-93d5-1da92faa1588"
   },
   "outputs": [
    {
     "data": {
      "text/plain": [
       "<matplotlib.axes._subplots.AxesSubplot at 0x1362a828>"
      ]
     },
     "execution_count": 74,
     "metadata": {},
     "output_type": "execute_result"
    },
    {
     "data": {
      "image/png": "[encoded data removed]",
      "text/plain": [
       "<Figure size 432x288 with 1 Axes>"
      ]
     },
     "metadata": {
      "needs_background": "light"
     },
     "output_type": "display_data"
    }
   ],
   "source": [
    "data['finishedsqft'].hist(bins=100)"
   ]
  },
  {
   "cell_type": "code",
   "execution_count": 75,
   "metadata": {
    "colab": {
     "base_uri": "https://localhost:8080/",
     "height": 265
    },
    "executionInfo": {
     "elapsed": 60665,
     "status": "ok",
     "timestamp": 1617731751846,
     "user": {
      "displayName": "Alex M",
      "photoUrl": "",
      "userId": "08460721731736090167"
     },
     "user_tz": -180
    },
    "id": "3FSC6k5fEMOg",
    "outputId": "c3960185-8984-43a4-9edb-c7c392a8f557"
   },
   "outputs": [],
   "source": [
    "# _ = plt.hist(np.log(data['finishedsqft'].to_numpy()), bins=100)\n",
    "# plt.grid()"
   ]
  },
  {
   "cell_type": "code",
   "execution_count": 76,
   "metadata": {
    "colab": {
     "base_uri": "https://localhost:8080/"
    },
    "executionInfo": {
     "elapsed": 59650,
     "status": "ok",
     "timestamp": 1617731751847,
     "user": {
      "displayName": "Alex M",
      "photoUrl": "",
      "userId": "08460721731736090167"
     },
     "user_tz": -180
    },
    "id": "cgi66Vf8EMRl",
    "outputId": "562fb073-8cdd-49c9-979c-9311606e3ad8"
   },
   "outputs": [],
   "source": [
    "#data['finishedsqft'].to_numpy()"
   ]
  },
  {
   "cell_type": "code",
   "execution_count": 77,
   "metadata": {
    "colab": {
     "base_uri": "https://localhost:8080/",
     "height": 151
    },
    "executionInfo": {
     "elapsed": 58957,
     "status": "ok",
     "timestamp": 1617731751848,
     "user": {
      "displayName": "Alex M",
      "photoUrl": "",
      "userId": "08460721731736090167"
     },
     "user_tz": -180
    },
    "id": "40ujfT0mpGX1",
    "outputId": "186e47f6-d692-4758-990a-2d0c637c73f1"
   },
   "outputs": [
    {
     "data": {
      "text/html": [
       "<div>\n",
       "<style scoped>\n",
       "    .dataframe tbody tr th:only-of-type {\n",
       "        vertical-align: middle;\n",
       "    }\n",
       "\n",
       "    .dataframe tbody tr th {\n",
       "        vertical-align: top;\n",
       "    }\n",
       "\n",
       "    .dataframe thead th {\n",
       "        text-align: right;\n",
       "    }\n",
       "</style>\n",
       "<table border=\"1\" class=\"dataframe\">\n",
       "  <thead>\n",
       "    <tr style=\"text-align: right;\">\n",
       "      <th></th>\n",
       "      <th>address</th>\n",
       "      <th>z_address</th>\n",
       "      <th>bathrooms</th>\n",
       "      <th>bedrooms</th>\n",
       "      <th>finishedsqft</th>\n",
       "      <th>lastsolddate</th>\n",
       "      <th>lastsoldprice</th>\n",
       "      <th>latitude</th>\n",
       "      <th>longitude</th>\n",
       "      <th>neighborhood</th>\n",
       "      <th>totalrooms</th>\n",
       "      <th>usecode</th>\n",
       "      <th>yearbuilt</th>\n",
       "      <th>zestimate</th>\n",
       "      <th>zipcode</th>\n",
       "    </tr>\n",
       "  </thead>\n",
       "  <tbody>\n",
       "    <tr>\n",
       "      <th>4997</th>\n",
       "      <td>Address: 1645 Pacific Avenue</td>\n",
       "      <td>1645 Pacific Ave</td>\n",
       "      <td>2.0</td>\n",
       "      <td>2.0</td>\n",
       "      <td>27275.0</td>\n",
       "      <td>03/31/2015</td>\n",
       "      <td>600000.0</td>\n",
       "      <td>37.794658</td>\n",
       "      <td>-122.422325</td>\n",
       "      <td>Nob Hill</td>\n",
       "      <td>6.0</td>\n",
       "      <td>Condominium</td>\n",
       "      <td>1906.0</td>\n",
       "      <td>6754185.0</td>\n",
       "      <td>94109.0</td>\n",
       "    </tr>\n",
       "  </tbody>\n",
       "</table>\n",
       "</div>"
      ],
      "text/plain": [
       "                           address         z_address  bathrooms  bedrooms  \\\n",
       "4997  Address: 1645 Pacific Avenue  1645 Pacific Ave        2.0       2.0   \n",
       "\n",
       "      finishedsqft lastsolddate  lastsoldprice   latitude   longitude  \\\n",
       "4997       27275.0   03/31/2015       600000.0  37.794658 -122.422325   \n",
       "\n",
       "     neighborhood  totalrooms      usecode  yearbuilt  zestimate  zipcode  \n",
       "4997     Nob Hill         6.0  Condominium     1906.0  6754185.0  94109.0  "
      ]
     },
     "execution_count": 77,
     "metadata": {},
     "output_type": "execute_result"
    }
   ],
   "source": [
    "data[data['finishedsqft'] > 15000]"
   ]
  },
  {
   "cell_type": "code",
   "execution_count": 78,
   "metadata": {
    "colab": {
     "base_uri": "https://localhost:8080/"
    },
    "executionInfo": {
     "elapsed": 58148,
     "status": "ok",
     "timestamp": 1617731751850,
     "user": {
      "displayName": "Alex M",
      "photoUrl": "",
      "userId": "08460721731736090167"
     },
     "user_tz": -180
    },
    "id": "2sX6eRlIqgoy",
    "outputId": "3e27a03f-78f0-4813-bb53-4f26f2b7b70c"
   },
   "outputs": [
    {
     "data": {
      "text/plain": [
       "(11330, 15)"
      ]
     },
     "execution_count": 78,
     "metadata": {},
     "output_type": "execute_result"
    }
   ],
   "source": [
    "data.shape"
   ]
  },
  {
   "cell_type": "code",
   "execution_count": 79,
   "metadata": {
    "id": "mGVQ01gvo4iQ"
   },
   "outputs": [],
   "source": [
    "data = data[(data['finishedsqft'] < 15000) | (data['finishedsqft'].isna())]"
   ]
  },
  {
   "cell_type": "code",
   "execution_count": 80,
   "metadata": {
    "colab": {
     "base_uri": "https://localhost:8080/",
     "height": 279
    },
    "executionInfo": {
     "elapsed": 56273,
     "status": "ok",
     "timestamp": 1617731751851,
     "user": {
      "displayName": "Alex M",
      "photoUrl": "",
      "userId": "08460721731736090167"
     },
     "user_tz": -180
    },
    "id": "X8AGhyrRqnot",
    "outputId": "a10405f4-e045-415c-b7f2-02cb2752b35e"
   },
   "outputs": [
    {
     "data": {
      "image/png": "[encoded data removed]",
      "text/plain": [
       "<Figure size 432x288 with 1 Axes>"
      ]
     },
     "metadata": {
      "needs_background": "light"
     },
     "output_type": "display_data"
    }
   ],
   "source": [
    "get_boxplot(data, columns=['finishedsqft'])"
   ]
  },
  {
   "cell_type": "code",
   "execution_count": 81,
   "metadata": {
    "colab": {
     "base_uri": "https://localhost:8080/"
    },
    "executionInfo": {
     "elapsed": 54027,
     "status": "ok",
     "timestamp": 1617731751852,
     "user": {
      "displayName": "Alex M",
      "photoUrl": "",
      "userId": "08460721731736090167"
     },
     "user_tz": -180
    },
    "id": "Vi6TCNhrqpvy",
    "outputId": "552be7fc-c733-496a-d704-258500284c93"
   },
   "outputs": [
    {
     "name": "stdout",
     "output_type": "stream",
     "text": [
      "<class 'pandas.core.frame.DataFrame'>\n",
      "Int64Index: 11329 entries, 0 to 11329\n",
      "Data columns (total 15 columns):\n",
      "address          11329 non-null object\n",
      "z_address        11329 non-null object\n",
      "bathrooms        11329 non-null float64\n",
      "bedrooms         11329 non-null float64\n",
      "finishedsqft     11210 non-null float64\n",
      "lastsolddate     11329 non-null object\n",
      "lastsoldprice    11329 non-null float64\n",
      "latitude         11314 non-null float64\n",
      "longitude        11314 non-null float64\n",
      "neighborhood     11329 non-null object\n",
      "totalrooms       11280 non-null float64\n",
      "usecode          11289 non-null object\n",
      "yearbuilt        11329 non-null float64\n",
      "zestimate        11329 non-null float64\n",
      "zipcode          11329 non-null float64\n",
      "dtypes: float64(10), object(5)\n",
      "memory usage: 1.4+ MB\n"
     ]
    }
   ],
   "source": [
    "data.info()"
   ]
  },
  {
   "cell_type": "code",
   "execution_count": 82,
   "metadata": {
    "id": "MuRJH0G0EMTO"
   },
   "outputs": [],
   "source": [
    "data = get_value(data,'finishedsqft',mode='linreg', \n",
    "          columns_for_reg=['bathrooms', 'bedrooms', 'lastsoldprice', 'latitude', 'longitude','yearbuilt'])"
   ]
  },
  {
   "cell_type": "code",
   "execution_count": 83,
   "metadata": {
    "colab": {
     "base_uri": "https://localhost:8080/"
    },
    "executionInfo": {
     "elapsed": 51929,
     "status": "ok",
     "timestamp": 1617731751853,
     "user": {
      "displayName": "Alex M",
      "photoUrl": "",
      "userId": "08460721731736090167"
     },
     "user_tz": -180
    },
    "id": "wxKSNjQiEMXm",
    "outputId": "c11f8f8d-bb72-4029-f604-6c28c3d14e1d"
   },
   "outputs": [
    {
     "name": "stdout",
     "output_type": "stream",
     "text": [
      "<class 'pandas.core.frame.DataFrame'>\n",
      "Int64Index: 11329 entries, 0 to 11329\n",
      "Data columns (total 15 columns):\n",
      "address          11329 non-null object\n",
      "z_address        11329 non-null object\n",
      "bathrooms        11329 non-null float64\n",
      "bedrooms         11329 non-null float64\n",
      "finishedsqft     11329 non-null float64\n",
      "lastsolddate     11329 non-null object\n",
      "lastsoldprice    11329 non-null float64\n",
      "latitude         11314 non-null float64\n",
      "longitude        11314 non-null float64\n",
      "neighborhood     11329 non-null object\n",
      "totalrooms       11280 non-null float64\n",
      "usecode          11289 non-null object\n",
      "yearbuilt        11329 non-null float64\n",
      "zestimate        11329 non-null float64\n",
      "zipcode          11329 non-null float64\n",
      "dtypes: float64(10), object(5)\n",
      "memory usage: 1.7+ MB\n"
     ]
    }
   ],
   "source": [
    "data.info()"
   ]
  },
  {
   "cell_type": "code",
   "execution_count": 84,
   "metadata": {
    "colab": {
     "base_uri": "https://localhost:8080/"
    },
    "executionInfo": {
     "elapsed": 921,
     "status": "ok",
     "timestamp": 1617733345644,
     "user": {
      "displayName": "Alex M",
      "photoUrl": "",
      "userId": "08460721731736090167"
     },
     "user_tz": -180
    },
    "id": "Hm38g7NUUt0c",
    "outputId": "35c1e6f8-ea99-4a5e-ef8a-9ac218e21ed5"
   },
   "outputs": [
    {
     "data": {
      "text/plain": [
       "0.857810815133632"
      ]
     },
     "execution_count": 84,
     "metadata": {},
     "output_type": "execute_result"
    }
   ],
   "source": [
    "get_score(data.dropna()[cols], data.dropna()[target])"
   ]
  },
  {
   "cell_type": "code",
   "execution_count": 85,
   "metadata": {
    "id": "DKPRt7eatToQ"
   },
   "outputs": [],
   "source": [
    "#latitude, longitude"
   ]
  },
  {
   "cell_type": "code",
   "execution_count": 86,
   "metadata": {
    "colab": {
     "base_uri": "https://localhost:8080/"
    },
    "executionInfo": {
     "elapsed": 988,
     "status": "ok",
     "timestamp": 1617733349640,
     "user": {
      "displayName": "Alex M",
      "photoUrl": "",
      "userId": "08460721731736090167"
     },
     "user_tz": -180
    },
    "id": "vCiu05pVEMbP",
    "outputId": "2a2b82a8-582b-485d-eaf7-813e988a4098"
   },
   "outputs": [
    {
     "data": {
      "text/plain": [
       "set()"
      ]
     },
     "execution_count": 86,
     "metadata": {},
     "output_type": "execute_result"
    }
   ],
   "source": [
    "set(data[data['latitude'].isna()].index) - set(data[data['longitude'].isna()].index)"
   ]
  },
  {
   "cell_type": "code",
   "execution_count": 87,
   "metadata": {
    "colab": {
     "base_uri": "https://localhost:8080/"
    },
    "executionInfo": {
     "elapsed": 1009,
     "status": "ok",
     "timestamp": 1617732864601,
     "user": {
      "displayName": "Alex M",
      "photoUrl": "",
      "userId": "08460721731736090167"
     },
     "user_tz": -180
    },
    "id": "CsEr39F0EMc7",
    "outputId": "2f9c8d1d-106e-430c-95d4-ce763915d84d"
   },
   "outputs": [
    {
     "data": {
      "text/plain": [
       "{'1015 Ashbury St APT 2', '1566 27th Ave', '5853 Mission St APT 4'}"
      ]
     },
     "execution_count": 87,
     "metadata": {},
     "output_type": "execute_result"
    }
   ],
   "source": [
    "set(data[data['latitude'].isna()]['z_address']) & set(data[~data['latitude'].isna()]['z_address'])"
   ]
  },
  {
   "cell_type": "code",
   "execution_count": 88,
   "metadata": {
    "colab": {
     "base_uri": "https://localhost:8080/"
    },
    "executionInfo": {
     "elapsed": 667,
     "status": "ok",
     "timestamp": 1617732866042,
     "user": {
      "displayName": "Alex M",
      "photoUrl": "",
      "userId": "08460721731736090167"
     },
     "user_tz": -180
    },
    "id": "ON9NrmTvvYUG",
    "outputId": "caec20d4-0d5a-4868-f77f-098a69aaf9ef"
   },
   "outputs": [
    {
     "data": {
      "text/plain": [
       "4"
      ]
     },
     "execution_count": 88,
     "metadata": {},
     "output_type": "execute_result"
    }
   ],
   "source": [
    "data[data['z_address'] == '1015 Ashbury St APT 2'].shape[0] "
   ]
  },
  {
   "cell_type": "code",
   "execution_count": 89,
   "metadata": {
    "id": "F135bnnmZ-US"
   },
   "outputs": [],
   "source": [
    "tmp_data = data.copy()\n",
    "data = tmp_data.copy()"
   ]
  },
  {
   "cell_type": "code",
   "execution_count": 90,
   "metadata": {
    "colab": {
     "base_uri": "https://localhost:8080/"
    },
    "executionInfo": {
     "elapsed": 748,
     "status": "ok",
     "timestamp": 1617734770248,
     "user": {
      "displayName": "Alex M",
      "photoUrl": "",
      "userId": "08460721731736090167"
     },
     "user_tz": -180
    },
    "id": "zKqzNDIlEMiW",
    "outputId": "0b4d302e-3ddc-4bfb-ce8b-3c31fdec82b3"
   },
   "outputs": [
    {
     "name": "stdout",
     "output_type": "stream",
     "text": [
      "37.758228 -122.485022\n",
      "37.70881 -122.45142299999999\n",
      "37.76432 -122.44634199999999\n"
     ]
    }
   ],
   "source": [
    "for i, el in data[data['latitude'].isna()].iterrows():\n",
    "  cur_el = data[(~data['latitude'].isna())&(data['z_address'] == el['z_address'])]\n",
    "  if cur_el.shape[0] > 0:\n",
    "    print(cur_el.iloc[0]['latitude'],cur_el.iloc[0]['longitude'])\n",
    "    data.loc[i, 'latitude'] = cur_el.iloc[0]['latitude']\n",
    "    data.loc[i, 'longitude'] = cur_el.iloc[0]['longitude']\n"
   ]
  },
  {
   "cell_type": "code",
   "execution_count": 91,
   "metadata": {
    "colab": {
     "base_uri": "https://localhost:8080/"
    },
    "executionInfo": {
     "elapsed": 1116,
     "status": "ok",
     "timestamp": 1617734773237,
     "user": {
      "displayName": "Alex M",
      "photoUrl": "",
      "userId": "08460721731736090167"
     },
     "user_tz": -180
    },
    "id": "jrTmnuEwEMk4",
    "outputId": "2f46f220-05ba-4606-b391-12ef95c5b89c"
   },
   "outputs": [
    {
     "name": "stdout",
     "output_type": "stream",
     "text": [
      "<class 'pandas.core.frame.DataFrame'>\n",
      "Int64Index: 11329 entries, 0 to 11329\n",
      "Data columns (total 15 columns):\n",
      "address          11329 non-null object\n",
      "z_address        11329 non-null object\n",
      "bathrooms        11329 non-null float64\n",
      "bedrooms         11329 non-null float64\n",
      "finishedsqft     11329 non-null float64\n",
      "lastsolddate     11329 non-null object\n",
      "lastsoldprice    11329 non-null float64\n",
      "latitude         11317 non-null float64\n",
      "longitude        11317 non-null float64\n",
      "neighborhood     11329 non-null object\n",
      "totalrooms       11280 non-null float64\n",
      "usecode          11289 non-null object\n",
      "yearbuilt        11329 non-null float64\n",
      "zestimate        11329 non-null float64\n",
      "zipcode          11329 non-null float64\n",
      "dtypes: float64(10), object(5)\n",
      "memory usage: 1.7+ MB\n"
     ]
    }
   ],
   "source": [
    "data.info()"
   ]
  },
  {
   "cell_type": "code",
   "execution_count": 92,
   "metadata": {
    "colab": {
     "base_uri": "https://localhost:8080/"
    },
    "executionInfo": {
     "elapsed": 1350,
     "status": "ok",
     "timestamp": 1617732722056,
     "user": {
      "displayName": "Alex M",
      "photoUrl": "",
      "userId": "08460721731736090167"
     },
     "user_tz": -180
    },
    "id": "5UZuZ3ZSEMrQ",
    "outputId": "5bcaeffa-4a19-420e-d19e-7dfa75355dd8"
   },
   "outputs": [
    {
     "data": {
      "text/plain": [
       "(25,)"
      ]
     },
     "execution_count": 92,
     "metadata": {},
     "output_type": "execute_result"
    }
   ],
   "source": [
    "data['zipcode'].unique().shape"
   ]
  },
  {
   "cell_type": "code",
   "execution_count": 93,
   "metadata": {
    "colab": {
     "base_uri": "https://localhost:8080/"
    },
    "executionInfo": {
     "elapsed": 990,
     "status": "ok",
     "timestamp": 1617732722057,
     "user": {
      "displayName": "Alex M",
      "photoUrl": "",
      "userId": "08460721731736090167"
     },
     "user_tz": -180
    },
    "id": "qZjd4mbpEMuX",
    "outputId": "55684e3b-3138-4f73-b95d-bc4c35e3b7e1"
   },
   "outputs": [
    {
     "data": {
      "text/plain": [
       "(71,)"
      ]
     },
     "execution_count": 93,
     "metadata": {},
     "output_type": "execute_result"
    }
   ],
   "source": [
    "data['neighborhood'].unique().shape"
   ]
  },
  {
   "cell_type": "code",
   "execution_count": 94,
   "metadata": {
    "colab": {
     "base_uri": "https://localhost:8080/"
    },
    "executionInfo": {
     "elapsed": 832,
     "status": "ok",
     "timestamp": 1617733474756,
     "user": {
      "displayName": "Alex M",
      "photoUrl": "",
      "userId": "08460721731736090167"
     },
     "user_tz": -180
    },
    "id": "Ap-fmh-oy0Qt",
    "outputId": "d19de8cc-f90d-467e-8611-8347b63ff8f5"
   },
   "outputs": [
    {
     "data": {
      "text/plain": [
       "0.7743730089710008"
      ]
     },
     "execution_count": 94,
     "metadata": {},
     "output_type": "execute_result"
    }
   ],
   "source": [
    "get_score(data.dropna()[cols], data.dropna()[target])"
   ]
  },
  {
   "cell_type": "code",
   "execution_count": 95,
   "metadata": {
    "id": "BZmj6wpewZCq"
   },
   "outputs": [],
   "source": [
    "data_long_lat = data.groupby(['zipcode', 'neighborhood']).agg({'latitude':'median', 'longitude':'median'}).reset_index()\n"
   ]
  },
  {
   "cell_type": "code",
   "execution_count": 96,
   "metadata": {
    "colab": {
     "base_uri": "https://localhost:8080/",
     "height": 204
    },
    "executionInfo": {
     "elapsed": 757,
     "status": "ok",
     "timestamp": 1617734787035,
     "user": {
      "displayName": "Alex M",
      "photoUrl": "",
      "userId": "08460721731736090167"
     },
     "user_tz": -180
    },
    "id": "txu0abGdzRio",
    "outputId": "a8c3a537-e72d-4263-a6e7-71da9ca708e4"
   },
   "outputs": [
    {
     "data": {
      "text/html": [
       "<div>\n",
       "<style scoped>\n",
       "    .dataframe tbody tr th:only-of-type {\n",
       "        vertical-align: middle;\n",
       "    }\n",
       "\n",
       "    .dataframe tbody tr th {\n",
       "        vertical-align: top;\n",
       "    }\n",
       "\n",
       "    .dataframe thead th {\n",
       "        text-align: right;\n",
       "    }\n",
       "</style>\n",
       "<table border=\"1\" class=\"dataframe\">\n",
       "  <thead>\n",
       "    <tr style=\"text-align: right;\">\n",
       "      <th></th>\n",
       "      <th>zipcode</th>\n",
       "      <th>neighborhood</th>\n",
       "      <th>latitude</th>\n",
       "      <th>longitude</th>\n",
       "    </tr>\n",
       "  </thead>\n",
       "  <tbody>\n",
       "    <tr>\n",
       "      <th>0</th>\n",
       "      <td>94102.0</td>\n",
       "      <td>Downtown</td>\n",
       "      <td>37.786190</td>\n",
       "      <td>-122.407630</td>\n",
       "    </tr>\n",
       "    <tr>\n",
       "      <th>1</th>\n",
       "      <td>94102.0</td>\n",
       "      <td>Hayes Valley</td>\n",
       "      <td>37.772243</td>\n",
       "      <td>-122.426551</td>\n",
       "    </tr>\n",
       "    <tr>\n",
       "      <th>2</th>\n",
       "      <td>94102.0</td>\n",
       "      <td>Van Ness - Civic Center</td>\n",
       "      <td>37.781386</td>\n",
       "      <td>-122.421406</td>\n",
       "    </tr>\n",
       "    <tr>\n",
       "      <th>3</th>\n",
       "      <td>94103.0</td>\n",
       "      <td>Mission</td>\n",
       "      <td>37.766736</td>\n",
       "      <td>-122.421846</td>\n",
       "    </tr>\n",
       "    <tr>\n",
       "      <th>4</th>\n",
       "      <td>94103.0</td>\n",
       "      <td>South of Market</td>\n",
       "      <td>37.775993</td>\n",
       "      <td>-122.411809</td>\n",
       "    </tr>\n",
       "  </tbody>\n",
       "</table>\n",
       "</div>"
      ],
      "text/plain": [
       "   zipcode             neighborhood   latitude   longitude\n",
       "0  94102.0                 Downtown  37.786190 -122.407630\n",
       "1  94102.0             Hayes Valley  37.772243 -122.426551\n",
       "2  94102.0  Van Ness - Civic Center  37.781386 -122.421406\n",
       "3  94103.0                  Mission  37.766736 -122.421846\n",
       "4  94103.0          South of Market  37.775993 -122.411809"
      ]
     },
     "execution_count": 96,
     "metadata": {},
     "output_type": "execute_result"
    }
   ],
   "source": [
    "data_long_lat.head()"
   ]
  },
  {
   "cell_type": "code",
   "execution_count": 97,
   "metadata": {
    "id": "usb96QHjxqTy"
   },
   "outputs": [],
   "source": [
    "for i, el in data[data['latitude'].isna()].iterrows():\n",
    "    data.loc[i, 'latitude'] = data_long_lat[(data_long_lat['zipcode'] == el['zipcode'])&(data_long_lat['neighborhood'] == el['neighborhood'])]['latitude'].values[0]\n",
    "    data.loc[i, 'longitude'] = data_long_lat[(data_long_lat['zipcode'] == el['zipcode'])&(data_long_lat['neighborhood'] == el['neighborhood'])]['longitude'].values[0]\n",
    "    "
   ]
  },
  {
   "cell_type": "code",
   "execution_count": 98,
   "metadata": {
    "colab": {
     "base_uri": "https://localhost:8080/"
    },
    "executionInfo": {
     "elapsed": 1285,
     "status": "ok",
     "timestamp": 1617734791093,
     "user": {
      "displayName": "Alex M",
      "photoUrl": "",
      "userId": "08460721731736090167"
     },
     "user_tz": -180
    },
    "id": "34OjxtdYz7ig",
    "outputId": "c13af615-9bb2-4460-8fc4-f22a3af2e4b9"
   },
   "outputs": [
    {
     "name": "stdout",
     "output_type": "stream",
     "text": [
      "<class 'pandas.core.frame.DataFrame'>\n",
      "Int64Index: 11329 entries, 0 to 11329\n",
      "Data columns (total 15 columns):\n",
      "address          11329 non-null object\n",
      "z_address        11329 non-null object\n",
      "bathrooms        11329 non-null float64\n",
      "bedrooms         11329 non-null float64\n",
      "finishedsqft     11329 non-null float64\n",
      "lastsolddate     11329 non-null object\n",
      "lastsoldprice    11329 non-null float64\n",
      "latitude         11329 non-null float64\n",
      "longitude        11329 non-null float64\n",
      "neighborhood     11329 non-null object\n",
      "totalrooms       11280 non-null float64\n",
      "usecode          11289 non-null object\n",
      "yearbuilt        11329 non-null float64\n",
      "zestimate        11329 non-null float64\n",
      "zipcode          11329 non-null float64\n",
      "dtypes: float64(10), object(5)\n",
      "memory usage: 1.7+ MB\n"
     ]
    }
   ],
   "source": [
    "data.info()"
   ]
  },
  {
   "cell_type": "code",
   "execution_count": 99,
   "metadata": {
    "colab": {
     "base_uri": "https://localhost:8080/"
    },
    "executionInfo": {
     "elapsed": 667,
     "status": "ok",
     "timestamp": 1617733616932,
     "user": {
      "displayName": "Alex M",
      "photoUrl": "",
      "userId": "08460721731736090167"
     },
     "user_tz": -180
    },
    "id": "4rOQPEGQyClt",
    "outputId": "bb5b3014-c41c-4ac4-ead2-b18a39b22707"
   },
   "outputs": [
    {
     "data": {
      "text/plain": [
       "0.8406653997825918"
      ]
     },
     "execution_count": 99,
     "metadata": {},
     "output_type": "execute_result"
    }
   ],
   "source": [
    "get_score(data.dropna()[cols], data.dropna()[target])"
   ]
  },
  {
   "cell_type": "code",
   "execution_count": 100,
   "metadata": {
    "id": "dYG1ldMc0d76"
   },
   "outputs": [],
   "source": [
    "# totalrooms"
   ]
  },
  {
   "cell_type": "code",
   "execution_count": 101,
   "metadata": {
    "colab": {
     "base_uri": "https://localhost:8080/",
     "height": 279
    },
    "executionInfo": {
     "elapsed": 669,
     "status": "ok",
     "timestamp": 1612606537780,
     "user": {
      "displayName": "Alex M",
      "photoUrl": "",
      "userId": "08460721731736090167"
     },
     "user_tz": -180
    },
    "id": "ptsiDord1fl3",
    "outputId": "d2aeead4-5e7c-40d3-e393-6ecae300093a"
   },
   "outputs": [
    {
     "data": {
      "image/png": "[encoded data removed]",
      "text/plain": [
       "<Figure size 432x288 with 1 Axes>"
      ]
     },
     "metadata": {
      "needs_background": "light"
     },
     "output_type": "display_data"
    }
   ],
   "source": [
    "get_boxplot(data, ['totalrooms'])"
   ]
  },
  {
   "cell_type": "code",
   "execution_count": 102,
   "metadata": {
    "colab": {
     "base_uri": "https://localhost:8080/",
     "height": 332
    },
    "executionInfo": {
     "elapsed": 855,
     "status": "ok",
     "timestamp": 1617733947507,
     "user": {
      "displayName": "Alex M",
      "photoUrl": "",
      "userId": "08460721731736090167"
     },
     "user_tz": -180
    },
    "id": "p5B4gRolc0tI",
    "outputId": "f63726e5-8455-43c3-8358-21ec956d3f96"
   },
   "outputs": [
    {
     "data": {
      "text/html": [
       "<div>\n",
       "<style scoped>\n",
       "    .dataframe tbody tr th:only-of-type {\n",
       "        vertical-align: middle;\n",
       "    }\n",
       "\n",
       "    .dataframe tbody tr th {\n",
       "        vertical-align: top;\n",
       "    }\n",
       "\n",
       "    .dataframe thead th {\n",
       "        text-align: right;\n",
       "    }\n",
       "</style>\n",
       "<table border=\"1\" class=\"dataframe\">\n",
       "  <thead>\n",
       "    <tr style=\"text-align: right;\">\n",
       "      <th></th>\n",
       "      <th>address</th>\n",
       "      <th>z_address</th>\n",
       "      <th>bathrooms</th>\n",
       "      <th>bedrooms</th>\n",
       "      <th>finishedsqft</th>\n",
       "      <th>lastsolddate</th>\n",
       "      <th>lastsoldprice</th>\n",
       "      <th>latitude</th>\n",
       "      <th>longitude</th>\n",
       "      <th>neighborhood</th>\n",
       "      <th>totalrooms</th>\n",
       "      <th>usecode</th>\n",
       "      <th>yearbuilt</th>\n",
       "      <th>zestimate</th>\n",
       "      <th>zipcode</th>\n",
       "    </tr>\n",
       "  </thead>\n",
       "  <tbody>\n",
       "    <tr>\n",
       "      <th>8300</th>\n",
       "      <td>Address: 5264 3rd Street #304</td>\n",
       "      <td>5264 3rd St APT 304</td>\n",
       "      <td>2.0</td>\n",
       "      <td>2.0</td>\n",
       "      <td>805.0</td>\n",
       "      <td>07/18/2013</td>\n",
       "      <td>325000.0</td>\n",
       "      <td>37.729825</td>\n",
       "      <td>-122.392825</td>\n",
       "      <td>Bayview</td>\n",
       "      <td>94.0</td>\n",
       "      <td>Condominium</td>\n",
       "      <td>1993.0</td>\n",
       "      <td>502285.0</td>\n",
       "      <td>94124.0</td>\n",
       "    </tr>\n",
       "    <tr>\n",
       "      <th>8967</th>\n",
       "      <td>Address: 2829 California Street #3C</td>\n",
       "      <td>2829 California St APT 3C</td>\n",
       "      <td>2.0</td>\n",
       "      <td>2.0</td>\n",
       "      <td>1264.0</td>\n",
       "      <td>03/14/2013</td>\n",
       "      <td>1375000.0</td>\n",
       "      <td>37.787654</td>\n",
       "      <td>-122.440902</td>\n",
       "      <td>Lower Pacific Heights</td>\n",
       "      <td>1264.0</td>\n",
       "      <td>Condominium</td>\n",
       "      <td>2012.0</td>\n",
       "      <td>1591608.0</td>\n",
       "      <td>94115.0</td>\n",
       "    </tr>\n",
       "    <tr>\n",
       "      <th>11175</th>\n",
       "      <td>Address: 3101 Jackson Street</td>\n",
       "      <td>3101 Jackson St</td>\n",
       "      <td>7.0</td>\n",
       "      <td>13.0</td>\n",
       "      <td>7957.0</td>\n",
       "      <td>03/16/2007</td>\n",
       "      <td>3350000.0</td>\n",
       "      <td>37.790849</td>\n",
       "      <td>-122.446267</td>\n",
       "      <td>Pacific Heights</td>\n",
       "      <td>33.0</td>\n",
       "      <td>MultiFamily2To4</td>\n",
       "      <td>1907.0</td>\n",
       "      <td>9304469.0</td>\n",
       "      <td>94115.0</td>\n",
       "    </tr>\n",
       "  </tbody>\n",
       "</table>\n",
       "</div>"
      ],
      "text/plain": [
       "                                   address                  z_address  \\\n",
       "8300         Address: 5264 3rd Street #304        5264 3rd St APT 304   \n",
       "8967   Address: 2829 California Street #3C  2829 California St APT 3C   \n",
       "11175         Address: 3101 Jackson Street            3101 Jackson St   \n",
       "\n",
       "       bathrooms  bedrooms  finishedsqft lastsolddate  lastsoldprice  \\\n",
       "8300         2.0       2.0         805.0   07/18/2013       325000.0   \n",
       "8967         2.0       2.0        1264.0   03/14/2013      1375000.0   \n",
       "11175        7.0      13.0        7957.0   03/16/2007      3350000.0   \n",
       "\n",
       "        latitude   longitude           neighborhood  totalrooms  \\\n",
       "8300   37.729825 -122.392825                Bayview        94.0   \n",
       "8967   37.787654 -122.440902  Lower Pacific Heights      1264.0   \n",
       "11175  37.790849 -122.446267        Pacific Heights        33.0   \n",
       "\n",
       "               usecode  yearbuilt  zestimate  zipcode  \n",
       "8300       Condominium     1993.0   502285.0  94124.0  \n",
       "8967       Condominium     2012.0  1591608.0  94115.0  \n",
       "11175  MultiFamily2To4     1907.0  9304469.0  94115.0  "
      ]
     },
     "execution_count": 102,
     "metadata": {},
     "output_type": "execute_result"
    }
   ],
   "source": [
    "data[data['totalrooms'] > 30 ]"
   ]
  },
  {
   "cell_type": "code",
   "execution_count": 103,
   "metadata": {
    "id": "euQEO_bv1oPg"
   },
   "outputs": [],
   "source": [
    "data = data[(data['totalrooms'] < 75 ) | (data['totalrooms'].isna())]"
   ]
  },
  {
   "cell_type": "code",
   "execution_count": 104,
   "metadata": {
    "colab": {
     "base_uri": "https://localhost:8080/",
     "height": 279
    },
    "executionInfo": {
     "elapsed": 1118,
     "status": "ok",
     "timestamp": 1617733966348,
     "user": {
      "displayName": "Alex M",
      "photoUrl": "",
      "userId": "08460721731736090167"
     },
     "user_tz": -180
    },
    "id": "UKY_8PsL1-AE",
    "outputId": "06e7cbb2-44ff-4956-d6aa-981b7f0c1697"
   },
   "outputs": [
    {
     "data": {
      "image/png": "[encoded data removed]",
      "text/plain": [
       "<Figure size 432x288 with 1 Axes>"
      ]
     },
     "metadata": {
      "needs_background": "light"
     },
     "output_type": "display_data"
    }
   ],
   "source": [
    "get_boxplot(data, ['totalrooms'])"
   ]
  },
  {
   "cell_type": "code",
   "execution_count": 105,
   "metadata": {
    "colab": {
     "base_uri": "https://localhost:8080/"
    },
    "executionInfo": {
     "elapsed": 892,
     "status": "ok",
     "timestamp": 1617733971261,
     "user": {
      "displayName": "Alex M",
      "photoUrl": "",
      "userId": "08460721731736090167"
     },
     "user_tz": -180
    },
    "id": "jC9rUSJS3HIJ",
    "outputId": "4e57cc66-0824-408c-c2d9-0028c4f14000"
   },
   "outputs": [
    {
     "data": {
      "text/plain": [
       "(11327, 15)"
      ]
     },
     "execution_count": 105,
     "metadata": {},
     "output_type": "execute_result"
    }
   ],
   "source": [
    "data.shape"
   ]
  },
  {
   "cell_type": "code",
   "execution_count": 106,
   "metadata": {
    "id": "TV9-kjfS2TNx"
   },
   "outputs": [],
   "source": [
    "data = get_value(data,'totalrooms',mode='linreg', \n",
    "          columns_for_reg=['bathrooms', 'bedrooms', 'lastsoldprice','yearbuilt','finishedsqft'])"
   ]
  },
  {
   "cell_type": "code",
   "execution_count": 107,
   "metadata": {
    "colab": {
     "base_uri": "https://localhost:8080/"
    },
    "executionInfo": {
     "elapsed": 1004,
     "status": "ok",
     "timestamp": 1617734308740,
     "user": {
      "displayName": "Alex M",
      "photoUrl": "",
      "userId": "08460721731736090167"
     },
     "user_tz": -180
    },
    "id": "D-2mJq0r2ZYT",
    "outputId": "a91f8dd7-f24e-4639-d83a-726cfe123a38"
   },
   "outputs": [
    {
     "data": {
      "text/plain": [
       "0.8388390925507023"
      ]
     },
     "execution_count": 107,
     "metadata": {},
     "output_type": "execute_result"
    }
   ],
   "source": [
    "\n",
    "get_score(data.dropna()[cols], data.dropna()[target])"
   ]
  },
  {
   "cell_type": "code",
   "execution_count": 108,
   "metadata": {
    "colab": {
     "base_uri": "https://localhost:8080/"
    },
    "executionInfo": {
     "elapsed": 856,
     "status": "ok",
     "timestamp": 1617734319547,
     "user": {
      "displayName": "Alex M",
      "photoUrl": "",
      "userId": "08460721731736090167"
     },
     "user_tz": -180
    },
    "id": "HypbLZT63-Gs",
    "outputId": "2fe99984-c5ed-4417-fb2f-f2789f891ff8"
   },
   "outputs": [
    {
     "name": "stdout",
     "output_type": "stream",
     "text": [
      "<class 'pandas.core.frame.DataFrame'>\n",
      "Int64Index: 11327 entries, 0 to 11329\n",
      "Data columns (total 15 columns):\n",
      "address          11327 non-null object\n",
      "z_address        11327 non-null object\n",
      "bathrooms        11327 non-null float64\n",
      "bedrooms         11327 non-null float64\n",
      "finishedsqft     11327 non-null float64\n",
      "lastsolddate     11327 non-null object\n",
      "lastsoldprice    11327 non-null float64\n",
      "latitude         11327 non-null float64\n",
      "longitude        11327 non-null float64\n",
      "neighborhood     11327 non-null object\n",
      "totalrooms       11327 non-null float64\n",
      "usecode          11287 non-null object\n",
      "yearbuilt        11327 non-null float64\n",
      "zestimate        11327 non-null float64\n",
      "zipcode          11327 non-null float64\n",
      "dtypes: float64(10), object(5)\n",
      "memory usage: 1.7+ MB\n"
     ]
    }
   ],
   "source": [
    "data.info()"
   ]
  },
  {
   "cell_type": "code",
   "execution_count": 109,
   "metadata": {
    "colab": {
     "base_uri": "https://localhost:8080/"
    },
    "executionInfo": {
     "elapsed": 854,
     "status": "ok",
     "timestamp": 1617734807841,
     "user": {
      "displayName": "Alex M",
      "photoUrl": "",
      "userId": "08460721731736090167"
     },
     "user_tz": -180
    },
    "id": "HOxl9_Hi4FO5",
    "outputId": "ecda7000-b8ad-45f7-874b-9683b7197bd5"
   },
   "outputs": [
    {
     "data": {
      "text/plain": [
       "SingleFamily        5785\n",
       "Condominium         4779\n",
       "MultiFamily2To4      484\n",
       "Duplex               146\n",
       "Townhouse             66\n",
       "NaN                   40\n",
       "Miscellaneous         17\n",
       "Apartment              3\n",
       "Cooperative            3\n",
       "MultiFamily5Plus       2\n",
       "Mobile                 2\n",
       "Name: usecode, dtype: int64"
      ]
     },
     "execution_count": 109,
     "metadata": {},
     "output_type": "execute_result"
    }
   ],
   "source": [
    "data['usecode'].value_counts(dropna=False)"
   ]
  },
  {
   "cell_type": "code",
   "execution_count": 110,
   "metadata": {
    "id": "cY166m1q4N9J"
   },
   "outputs": [],
   "source": [
    "#data = get_value(data, 'usecode', mode='value', value='Other')"
   ]
  },
  {
   "cell_type": "code",
   "execution_count": 111,
   "metadata": {
    "id": "hwT2_tBh51v2"
   },
   "outputs": [],
   "source": [
    "from sklearn.linear_model import LogisticRegression\n",
    "from sklearn.preprocessing import LabelEncoder"
   ]
  },
  {
   "cell_type": "code",
   "execution_count": 112,
   "metadata": {
    "id": "BASBAH__6DUy"
   },
   "outputs": [],
   "source": [
    "X_tmp = data.dropna()  "
   ]
  },
  {
   "cell_type": "code",
   "execution_count": 113,
   "metadata": {
    "colab": {
     "base_uri": "https://localhost:8080/"
    },
    "executionInfo": {
     "elapsed": 1016,
     "status": "ok",
     "timestamp": 1617734816918,
     "user": {
      "displayName": "Alex M",
      "photoUrl": "",
      "userId": "08460721731736090167"
     },
     "user_tz": -180
    },
    "id": "tlA84IcY7uPu",
    "outputId": "4869f45c-9bb2-4c90-bb4d-ac6484a0fbdb"
   },
   "outputs": [
    {
     "name": "stderr",
     "output_type": "stream",
     "text": [
      "C:\\ProgramData\\Anaconda3\\lib\\site-packages\\ipykernel_launcher.py:2: SettingWithCopyWarning: \n",
      "A value is trying to be set on a copy of a slice from a DataFrame.\n",
      "Try using .loc[row_indexer,col_indexer] = value instead\n",
      "\n",
      "See the caveats in the documentation: http://pandas.pydata.org/pandas-docs/stable/indexing.html#indexing-view-versus-copy\n",
      "  \n"
     ]
    }
   ],
   "source": [
    "le = LabelEncoder()\n",
    "X_tmp['tr'] = le.fit_transform(X_tmp['usecode'])"
   ]
  },
  {
   "cell_type": "code",
   "execution_count": 114,
   "metadata": {
    "id": "bOlKusYjgNqi"
   },
   "outputs": [],
   "source": [
    "from sklearn.neighbors import KNeighborsClassifier"
   ]
  },
  {
   "cell_type": "code",
   "execution_count": 115,
   "metadata": {
    "id": "8X4rGCCegS5W"
   },
   "outputs": [],
   "source": [
    "knn = KNeighborsClassifier()"
   ]
  },
  {
   "cell_type": "code",
   "execution_count": 116,
   "metadata": {
    "id": "UxNcsFVG7Tq7"
   },
   "outputs": [],
   "source": [
    "logreg = LogisticRegression()\n"
   ]
  },
  {
   "cell_type": "code",
   "execution_count": 117,
   "metadata": {
    "id": "VBXx2Gzb_UKW"
   },
   "outputs": [],
   "source": [
    "cols = ['bathrooms', 'bedrooms',\t'finishedsqft',\t'lastsoldprice',\t'latitude',\t'longitude',\n",
    "        'totalrooms',\t'yearbuilt']\n"
   ]
  },
  {
   "cell_type": "code",
   "execution_count": 118,
   "metadata": {
    "colab": {
     "base_uri": "https://localhost:8080/"
    },
    "executionInfo": {
     "elapsed": 1080,
     "status": "ok",
     "timestamp": 1617734846014,
     "user": {
      "displayName": "Alex M",
      "photoUrl": "",
      "userId": "08460721731736090167"
     },
     "user_tz": -180
    },
    "id": "at7nPr_MgpS-",
    "outputId": "6de31f97-97a3-4311-acad-09d69ecd4b82"
   },
   "outputs": [
    {
     "data": {
      "text/plain": [
       "KNeighborsClassifier(algorithm='auto', leaf_size=30, metric='minkowski',\n",
       "           metric_params=None, n_jobs=1, n_neighbors=5, p=2,\n",
       "           weights='uniform')"
      ]
     },
     "execution_count": 118,
     "metadata": {},
     "output_type": "execute_result"
    }
   ],
   "source": [
    "knn.fit(X_tmp[cols], X_tmp['tr'])"
   ]
  },
  {
   "cell_type": "code",
   "execution_count": 119,
   "metadata": {
    "colab": {
     "base_uri": "https://localhost:8080/"
    },
    "executionInfo": {
     "elapsed": 3179,
     "status": "ok",
     "timestamp": 1617734348432,
     "user": {
      "displayName": "Alex M",
      "photoUrl": "",
      "userId": "08460721731736090167"
     },
     "user_tz": -180
    },
    "id": "nXupwOj__Y5p",
    "outputId": "be791394-8e49-45a1-8379-72db7d1b12c6"
   },
   "outputs": [
    {
     "data": {
      "text/plain": [
       "LogisticRegression(C=1.0, class_weight=None, dual=False, fit_intercept=True,\n",
       "          intercept_scaling=1, max_iter=100, multi_class='ovr', n_jobs=1,\n",
       "          penalty='l2', random_state=None, solver='liblinear', tol=0.0001,\n",
       "          verbose=0, warm_start=False)"
      ]
     },
     "execution_count": 119,
     "metadata": {},
     "output_type": "execute_result"
    }
   ],
   "source": [
    "logreg.fit(X_tmp[cols], X_tmp['tr'])"
   ]
  },
  {
   "cell_type": "code",
   "execution_count": 120,
   "metadata": {
    "id": "lsWhYNoE_ZEx"
   },
   "outputs": [
    {
     "name": "stderr",
     "output_type": "stream",
     "text": [
      "C:\\ProgramData\\Anaconda3\\lib\\site-packages\\sklearn\\preprocessing\\label.py:151: DeprecationWarning: The truth value of an empty array is ambiguous. Returning False, but in future this will result in an error. Use `array.size > 0` to check that an array is not empty.\n",
      "  if diff:\n"
     ]
    }
   ],
   "source": [
    "data.loc[data[data['usecode'].isna()].index, 'usecode'] = le.inverse_transform(logreg.predict(data[data['usecode'].isna()][cols]))"
   ]
  },
  {
   "cell_type": "code",
   "execution_count": 121,
   "metadata": {
    "id": "29OOMNBhhCEW"
   },
   "outputs": [
    {
     "ename": "ValueError",
     "evalue": "Found array with 0 sample(s) (shape=(0, 8)) while a minimum of 1 is required.",
     "output_type": "error",
     "traceback": [
      "\u001b[1;31m---------------------------------------------------------------------------\u001b[0m",
      "\u001b[1;31mValueError\u001b[0m                                Traceback (most recent call last)",
      "\u001b[1;32m<ipython-input-121-dc4fb72846ff>\u001b[0m in \u001b[0;36m<module>\u001b[1;34m()\u001b[0m\n\u001b[1;32m----> 1\u001b[1;33m \u001b[0mdata\u001b[0m\u001b[1;33m.\u001b[0m\u001b[0mloc\u001b[0m\u001b[1;33m[\u001b[0m\u001b[0mdata\u001b[0m\u001b[1;33m[\u001b[0m\u001b[0mdata\u001b[0m\u001b[1;33m[\u001b[0m\u001b[1;34m'usecode'\u001b[0m\u001b[1;33m]\u001b[0m\u001b[1;33m.\u001b[0m\u001b[0misna\u001b[0m\u001b[1;33m(\u001b[0m\u001b[1;33m)\u001b[0m\u001b[1;33m]\u001b[0m\u001b[1;33m.\u001b[0m\u001b[0mindex\u001b[0m\u001b[1;33m,\u001b[0m \u001b[1;34m'usecode'\u001b[0m\u001b[1;33m]\u001b[0m \u001b[1;33m=\u001b[0m \u001b[0mle\u001b[0m\u001b[1;33m.\u001b[0m\u001b[0minverse_transform\u001b[0m\u001b[1;33m(\u001b[0m\u001b[0mknn\u001b[0m\u001b[1;33m.\u001b[0m\u001b[0mpredict\u001b[0m\u001b[1;33m(\u001b[0m\u001b[0mdata\u001b[0m\u001b[1;33m[\u001b[0m\u001b[0mdata\u001b[0m\u001b[1;33m[\u001b[0m\u001b[1;34m'usecode'\u001b[0m\u001b[1;33m]\u001b[0m\u001b[1;33m.\u001b[0m\u001b[0misna\u001b[0m\u001b[1;33m(\u001b[0m\u001b[1;33m)\u001b[0m\u001b[1;33m]\u001b[0m\u001b[1;33m[\u001b[0m\u001b[0mcols\u001b[0m\u001b[1;33m]\u001b[0m\u001b[1;33m)\u001b[0m\u001b[1;33m)\u001b[0m\u001b[1;33m\u001b[0m\u001b[0m\n\u001b[0m",
      "\u001b[1;32mC:\\ProgramData\\Anaconda3\\lib\\site-packages\\sklearn\\neighbors\\classification.py\u001b[0m in \u001b[0;36mpredict\u001b[1;34m(self, X)\u001b[0m\n\u001b[0;32m    141\u001b[0m             \u001b[0mClass\u001b[0m \u001b[0mlabels\u001b[0m \u001b[1;32mfor\u001b[0m \u001b[0meach\u001b[0m \u001b[0mdata\u001b[0m \u001b[0msample\u001b[0m\u001b[1;33m.\u001b[0m\u001b[1;33m\u001b[0m\u001b[0m\n\u001b[0;32m    142\u001b[0m         \"\"\"\n\u001b[1;32m--> 143\u001b[1;33m         \u001b[0mX\u001b[0m \u001b[1;33m=\u001b[0m \u001b[0mcheck_array\u001b[0m\u001b[1;33m(\u001b[0m\u001b[0mX\u001b[0m\u001b[1;33m,\u001b[0m \u001b[0maccept_sparse\u001b[0m\u001b[1;33m=\u001b[0m\u001b[1;34m'csr'\u001b[0m\u001b[1;33m)\u001b[0m\u001b[1;33m\u001b[0m\u001b[0m\n\u001b[0m\u001b[0;32m    144\u001b[0m \u001b[1;33m\u001b[0m\u001b[0m\n\u001b[0;32m    145\u001b[0m         \u001b[0mneigh_dist\u001b[0m\u001b[1;33m,\u001b[0m \u001b[0mneigh_ind\u001b[0m \u001b[1;33m=\u001b[0m \u001b[0mself\u001b[0m\u001b[1;33m.\u001b[0m\u001b[0mkneighbors\u001b[0m\u001b[1;33m(\u001b[0m\u001b[0mX\u001b[0m\u001b[1;33m)\u001b[0m\u001b[1;33m\u001b[0m\u001b[0m\n",
      "\u001b[1;32mC:\\ProgramData\\Anaconda3\\lib\\site-packages\\sklearn\\utils\\validation.py\u001b[0m in \u001b[0;36mcheck_array\u001b[1;34m(array, accept_sparse, dtype, order, copy, force_all_finite, ensure_2d, allow_nd, ensure_min_samples, ensure_min_features, warn_on_dtype, estimator)\u001b[0m\n\u001b[0;32m    460\u001b[0m                              \u001b[1;34m\" minimum of %d is required%s.\"\u001b[0m\u001b[1;33m\u001b[0m\u001b[0m\n\u001b[0;32m    461\u001b[0m                              % (n_samples, shape_repr, ensure_min_samples,\n\u001b[1;32m--> 462\u001b[1;33m                                 context))\n\u001b[0m\u001b[0;32m    463\u001b[0m \u001b[1;33m\u001b[0m\u001b[0m\n\u001b[0;32m    464\u001b[0m     \u001b[1;32mif\u001b[0m \u001b[0mensure_min_features\u001b[0m \u001b[1;33m>\u001b[0m \u001b[1;36m0\u001b[0m \u001b[1;32mand\u001b[0m \u001b[0marray\u001b[0m\u001b[1;33m.\u001b[0m\u001b[0mndim\u001b[0m \u001b[1;33m==\u001b[0m \u001b[1;36m2\u001b[0m\u001b[1;33m:\u001b[0m\u001b[1;33m\u001b[0m\u001b[0m\n",
      "\u001b[1;31mValueError\u001b[0m: Found array with 0 sample(s) (shape=(0, 8)) while a minimum of 1 is required."
     ]
    }
   ],
   "source": [
    "data.loc[data[data['usecode'].isna()].index, 'usecode'] = le.inverse_transform(knn.predict(data[data['usecode'].isna()][cols]))"
   ]
  },
  {
   "cell_type": "code",
   "execution_count": null,
   "metadata": {
    "colab": {
     "base_uri": "https://localhost:8080/"
    },
    "executionInfo": {
     "elapsed": 1037,
     "status": "ok",
     "timestamp": 1617734950287,
     "user": {
      "displayName": "Alex M",
      "photoUrl": "",
      "userId": "08460721731736090167"
     },
     "user_tz": -180
    },
    "id": "ro6thcq15Yhk",
    "outputId": "9d9c2976-dcbf-494c-b63f-c501c72f3502"
   },
   "outputs": [],
   "source": [
    "data.info()\n"
   ]
  },
  {
   "cell_type": "code",
   "execution_count": null,
   "metadata": {
    "colab": {
     "base_uri": "https://localhost:8080/"
    },
    "executionInfo": {
     "elapsed": 845,
     "status": "ok",
     "timestamp": 1617735046292,
     "user": {
      "displayName": "Alex M",
      "photoUrl": "",
      "userId": "08460721731736090167"
     },
     "user_tz": -180
    },
    "id": "Jel1L5zHf6MM",
    "outputId": "b28ca8a6-6f70-4e49-f6b6-2df68ec09a41"
   },
   "outputs": [],
   "source": [
    "get_score(data.dropna()[cols], data.dropna()[target])"
   ]
  },
  {
   "cell_type": "code",
   "execution_count": null,
   "metadata": {
    "id": "Ik3Wq1pBhdEB"
   },
   "outputs": [],
   "source": []
  }
 ],
 "metadata": {
  "colab": {
   "collapsed_sections": [],
   "name": "Копия блокнота \"Копия блокнота \"Основная_практика.ipynb\"\"",
   "provenance": [
    {
     "file_id": "1aiwy43AzAUwRBcmnzXryCH205lcW-kYY",
     "timestamp": 1618223087855
    },
    {
     "file_id": "17upaWMpqscJh3Co0T8D5Ah7xtPBrNYoK",
     "timestamp": 1618222499457
    }
   ]
  },
  "kernelspec": {
   "display_name": "Python 3",
   "language": "python",
   "name": "python3"
  }
 },
 "nbformat": 4,
 "nbformat_minor": 1
}
