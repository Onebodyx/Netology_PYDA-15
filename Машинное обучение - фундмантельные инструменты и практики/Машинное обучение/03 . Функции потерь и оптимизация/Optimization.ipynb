{
 "cells": [
  {
   "cell_type": "code",
   "execution_count": 304,
   "metadata": {},
   "outputs": [],
   "source": [
    "import pandas as pd\n",
    "import numpy as np\n",
    "from sklearn import datasets\n",
    "\n",
    "import matplotlib.pyplot as plt"
   ]
  },
  {
   "cell_type": "code",
   "execution_count": 4,
   "metadata": {},
   "outputs": [],
   "source": [
    "iris = datasets.load_iris()"
   ]
  },
  {
   "cell_type": "code",
   "execution_count": 8,
   "metadata": {},
   "outputs": [
    {
     "data": {
      "text/plain": [
       "dict_keys(['data', 'target', 'target_names', 'DESCR', 'feature_names'])"
      ]
     },
     "execution_count": 8,
     "metadata": {},
     "output_type": "execute_result"
    }
   ],
   "source": [
    "iris.keys()"
   ]
  },
  {
   "cell_type": "code",
   "execution_count": 286,
   "metadata": {},
   "outputs": [],
   "source": [
    "X = pd.DataFrame(iris.data, columns=iris.feature_names)\n",
    "X['target'] = iris.target\n",
    "X = X[(X['target'] == 1) | (X['target'] == 2)]\n",
    "\n",
    "y = X['target'].map({2: 1, 1: 0})\n",
    "X.drop(['target'], axis = 1, inplace= True)"
   ]
  },
  {
   "cell_type": "code",
   "execution_count": 287,
   "metadata": {},
   "outputs": [],
   "source": [
    "def z_counting(X, w):\n",
    "    return 1/(1+np.exp(-(X@w)))"
   ]
  },
  {
   "cell_type": "code",
   "execution_count": 288,
   "metadata": {},
   "outputs": [],
   "source": [
    "def der_w(y, z, x):\n",
    "    return (X.T@(y-z))"
   ]
  },
  {
   "cell_type": "markdown",
   "metadata": {},
   "source": [
    "### Градиентный спуск"
   ]
  },
  {
   "cell_type": "code",
   "execution_count": 442,
   "metadata": {},
   "outputs": [
    {
     "name": "stdout",
     "output_type": "stream",
     "text": [
      "Wall time: 920 ms\n"
     ]
    }
   ],
   "source": [
    "%%time\n",
    "\n",
    "eps = 0.01\n",
    "lr = 0.001\n",
    "n_epochs = 10000\n",
    "w = np.zeros((X.shape[1]+1))\n",
    "costs = []\n",
    "preds = []\n",
    "\n",
    "for _ in range(n_epochs):\n",
    "    predictions = z_counting(X, w[1:])\n",
    "    preds.append(predictions)\n",
    "    \n",
    "    cost = -np.sum(y * np.log(predictions) + (1-y)*np.log(1-predictions))\n",
    "    costs.append(cost)\n",
    "    \n",
    "    if (len(costs) > 1) and (abs(costs[-1]-costs[-2]) < eps):\n",
    "        break\n",
    "    \n",
    "    w[1:] += lr * der_w(y, predictions, X.values)\n",
    "    w[0] += lr * sum(y-predictions)      \n"
   ]
  },
  {
   "cell_type": "code",
   "execution_count": 446,
   "metadata": {},
   "outputs": [
    {
     "name": "stdout",
     "output_type": "stream",
     "text": [
      "cost = 19.74996755358972, epochs = 743\n"
     ]
    }
   ],
   "source": [
    "print(f'cost = {cost}, epochs = {_}')"
   ]
  },
  {
   "cell_type": "code",
   "execution_count": 447,
   "metadata": {},
   "outputs": [
    {
     "data": {
      "text/plain": [
       "array([-1.38374171, -2.31688183, -1.91375513,  3.06821393,  3.01113164])"
      ]
     },
     "execution_count": 447,
     "metadata": {},
     "output_type": "execute_result"
    }
   ],
   "source": [
    "w"
   ]
  },
  {
   "cell_type": "code",
   "execution_count": 448,
   "metadata": {},
   "outputs": [
    {
     "data": {
      "image/png": "[encoded data removed]",
      "text/plain": [
       "<Figure size 432x288 with 1 Axes>"
      ]
     },
     "metadata": {
      "needs_background": "light"
     },
     "output_type": "display_data"
    }
   ],
   "source": [
    "plt.plot(costs)\n",
    "plt.show()"
   ]
  },
  {
   "cell_type": "markdown",
   "metadata": {},
   "source": [
    "### Nesterov momentum"
   ]
  },
  {
   "cell_type": "code",
   "execution_count": 523,
   "metadata": {},
   "outputs": [
    {
     "name": "stdout",
     "output_type": "stream",
     "text": [
      "Wall time: 398 ms\n"
     ]
    }
   ],
   "source": [
    "%%time\n",
    "\n",
    "eps = 0.01\n",
    "gamma = 0.9\n",
    "lr = 0.001\n",
    "n_epochs = 10000\n",
    "w = np.zeros((X.shape[1]+1))\n",
    "costs = []\n",
    "preds = []\n",
    "V = [0]\n",
    "V_0 = [0]\n",
    "\n",
    "\n",
    "for _ in range(n_epochs):\n",
    "    predictions = z_counting(X, w[1:])\n",
    "    preds.append(predictions)\n",
    "    \n",
    "    cost = -np.sum(y * np.log(predictions) + (1-y)*np.log(1-predictions))\n",
    "    costs.append(cost)\n",
    "    \n",
    "    if (len(costs) > 1) and (abs(costs[-1]-costs[-2]) < eps):\n",
    "        break\n",
    "    \n",
    "    V.append(gamma*V[-1] +  lr * der_w(y, predictions, X.values))\n",
    "    V_0.append(gamma*V_0[-1] +  lr * sum(y-predictions))\n",
    "\n",
    "#     #Алгоритм с расчетом функции потерь в точке со смещением на инерцию\n",
    "#     V.append(gamma*V[-1] +  lr * der_w(y, z_counting(X, w[1:]-gamma*V[-1]), X.values))\n",
    "#     V_0.append(gamma*V_0[-1] +  lr * sum(y-z_counting(X, w[1:]-gamma*V_0[-1])))\n",
    "    \n",
    "    w[1:] += V[-1] \n",
    "    w[0] += V_0[-1]\n"
   ]
  },
  {
   "cell_type": "code",
   "execution_count": 524,
   "metadata": {},
   "outputs": [
    {
     "name": "stdout",
     "output_type": "stream",
     "text": [
      "cost = 13.347529384737175, epochs = 263\n"
     ]
    }
   ],
   "source": [
    "print(f'cost = {cost}, epochs = {_}')"
   ]
  },
  {
   "cell_type": "code",
   "execution_count": 525,
   "metadata": {},
   "outputs": [
    {
     "data": {
      "text/plain": [
       "array([-2.94996939, -3.63658036, -3.36610319,  4.8265633 ,  5.26647655])"
      ]
     },
     "execution_count": 525,
     "metadata": {},
     "output_type": "execute_result"
    }
   ],
   "source": [
    "w"
   ]
  },
  {
   "cell_type": "code",
   "execution_count": 526,
   "metadata": {},
   "outputs": [
    {
     "data": {
      "image/png": "[encoded data removed]",
      "text/plain": [
       "<Figure size 432x288 with 1 Axes>"
      ]
     },
     "metadata": {
      "needs_background": "light"
     },
     "output_type": "display_data"
    }
   ],
   "source": [
    "plt.plot(costs)\n",
    "plt.show()"
   ]
  },
  {
   "cell_type": "markdown",
   "metadata": {},
   "source": [
    "### RMSProp"
   ]
  },
  {
   "cell_type": "code",
   "execution_count": 617,
   "metadata": {},
   "outputs": [
    {
     "name": "stdout",
     "output_type": "stream",
     "text": [
      "Wall time: 1.24 s\n"
     ]
    }
   ],
   "source": [
    "%%time\n",
    "\n",
    "eps = 0.01\n",
    "gamma = 0.9\n",
    "lr = 0.01\n",
    "eta = 10**(-6)\n",
    "n_epochs = 10000\n",
    "w = np.zeros((X.shape[1]+1))\n",
    "costs = []\n",
    "preds = []\n",
    "E_g = [0]\n",
    "E_g_0 = [0]\n",
    "\n",
    "\n",
    "for _ in range(n_epochs):\n",
    "    predictions = z_counting(X, w[1:])\n",
    "    preds.append(predictions)\n",
    "    \n",
    "    cost = -np.sum(y * np.log(predictions) + (1-y)*np.log(1-predictions))\n",
    "    costs.append(cost)\n",
    "    \n",
    "    if (len(costs) > 1) and (abs(costs[-1]-costs[-2]) < eps):\n",
    "        break\n",
    "    \n",
    "    g = der_w(y, predictions, X.values)\n",
    "    E_g.append(gamma*E_g[-1] +  (1-gamma) * g**2)\n",
    "    E_g_0.append(gamma*E_g_0[-1] +  (1-gamma) * sum(y-predictions)**2)\n",
    "    \n",
    "    w[1:] += lr*g/np.sqrt(E_g[-1]+eta)\n",
    "    w[0] += lr*sum(y-predictions)/np.sqrt(E_g_0[-1]+eta)\n"
   ]
  },
  {
   "cell_type": "code",
   "execution_count": 618,
   "metadata": {},
   "outputs": [
    {
     "name": "stdout",
     "output_type": "stream",
     "text": [
      "cost = 14.735630533969493, epochs = 663\n"
     ]
    }
   ],
   "source": [
    "print(f'cost = {cost}, epochs = {_}')"
   ]
  },
  {
   "cell_type": "code",
   "execution_count": 619,
   "metadata": {},
   "outputs": [
    {
     "data": {
      "text/plain": [
       "array([-5.62673463, -2.5829622 , -3.33465434,  3.43682035,  5.42424327])"
      ]
     },
     "execution_count": 619,
     "metadata": {},
     "output_type": "execute_result"
    }
   ],
   "source": [
    "w"
   ]
  },
  {
   "cell_type": "code",
   "execution_count": 620,
   "metadata": {},
   "outputs": [
    {
     "data": {
      "image/png": "[encoded data removed]",
      "text/plain": [
       "<Figure size 432x288 with 1 Axes>"
      ]
     },
     "metadata": {
      "needs_background": "light"
     },
     "output_type": "display_data"
    }
   ],
   "source": [
    "plt.plot(costs)\n",
    "plt.show()"
   ]
  },
  {
   "cell_type": "code",
   "execution_count": null,
   "metadata": {},
   "outputs": [],
   "source": []
  }
 ],
 "metadata": {
  "kernelspec": {
   "display_name": "Python 3",
   "language": "python",
   "name": "python3"
  },
  "language_info": {
   "codemirror_mode": {
    "name": "ipython",
    "version": 3
   },
   "file_extension": ".py",
   "mimetype": "text/x-python",
   "name": "python",
   "nbconvert_exporter": "python",
   "pygments_lexer": "ipython3",
   "version": "3.7.0"
  }
 },
 "nbformat": 4,
 "nbformat_minor": 2
}
