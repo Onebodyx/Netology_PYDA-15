{
 "cells": [
  {
   "cell_type": "markdown",
   "metadata": {},
   "source": [
    "### Задание 1\n",
    "Дана переменная, в которой хранится слово из латинских букв. Напишите код, который выводит на экран:\n",
    "\n",
    "* среднюю букву, если число букв в слове нечетное;\n",
    "* две средних буквы, если число букв четное."
   ]
  },
  {
   "cell_type": "code",
   "execution_count": null,
   "metadata": {},
   "outputs": [],
   "source": [
    "word = input('Введите слово ')\n",
    "\n",
    "if len(word)%2 == 0:\n",
    "    print(word[int(len(word)/2)-1:int(len(word)/2)+1])\n",
    "else:\n",
    "    print(word[int(len(word)/2)]) "
   ]
  },
  {
   "cell_type": "markdown",
   "metadata": {},
   "source": [
    "### Задание 2\n",
    "Напишите программу, которая последовательно запрашивает у пользователя числа (по одному за раз) и после первого нуля выводит сумму всех ранее введенных чисел."
   ]
  },
  {
   "cell_type": "code",
   "execution_count": null,
   "metadata": {},
   "outputs": [],
   "source": [
    "x = 1\n",
    "numbers_sum = 0\n",
    "while x != 0:\n",
    "    x = int(input('Введите число: '))\n",
    "    numbers_sum += x\n",
    "print(f'Сумма введенных чисел равна {numbers_sum}')"
   ]
  },
  {
   "cell_type": "markdown",
   "metadata": {},
   "source": [
    "### Задание 3\n",
    "Мы делаем MVP dating-сервиса, и у нас есть список парней и девушек.\n",
    "Выдвигаем гипотезу: лучшие рекомендации мы получим, если просто отсортируем имена по алфавиту и познакомим людей с одинаковыми индексами после сортировки! Но мы не будем никого знакомить, если кто-то может остаться без пары."
   ]
  },
  {
   "cell_type": "code",
   "execution_count": null,
   "metadata": {},
   "outputs": [],
   "source": [
    "boys = ['Peter', 'Alex', 'John', 'Arthur', 'Richard']\n",
    "girls = ['Kate', 'Liza', 'Kira', 'Emma', 'Trisha']\n",
    "\n",
    "boys_sorted = sorted(boys)\n",
    "girls_sorted = sorted(girls)\n",
    "\n",
    "if len(boys) == len(girls):\n",
    "    print('Идеальные пары:')\n",
    "    for pair in zip(boys_sorted, girls_sorted):\n",
    "        print(f'{pair[0]} и {pair[1]}')\n",
    "else:\n",
    "    print('Внимание, кто-то можеть остаться без пары!')"
   ]
  },
  {
   "cell_type": "markdown",
   "metadata": {},
   "source": [
    "### Задание 4\n",
    "У нас есть список, содержащий информацию о среднедневной температуре в Фаренгейтах за произвольный период по странам. Необходимо написать код, который рассчитает среднюю температуру за период в Цельсиях(!) для каждой страны.\n",
    "\n",
    "##### Примечание\n",
    "При решении было принято соотношение: Градусы по цельсию = (Градусы по Фаренгейту - 32)* 5/9"
   ]
  },
  {
   "cell_type": "code",
   "execution_count": null,
   "metadata": {},
   "outputs": [],
   "source": [
    "countries_temperature = [\n",
    "['Thailand', [75.2, 77, 78.8, 73.4, 68, 75.2, 77]],\n",
    "['Germany', [57.2, 55.4, 59, 59, 53.6]],\n",
    "['Russia', [35.6, 37.4, 39.2, 41, 42.8, 39.2, 35.6]],\n",
    "['Poland', [50, 50, 53.6, 57.2, 55.4, 55.4]]\n",
    "]\n",
    "\n",
    "print('Средняя температура в странах')\n",
    "for country_temp in countries_temperature:\n",
    "    print(country_temp[0], '-', round((sum(country_temp[1])/len(country_temp[1])-32)*5/9,1))"
   ]
  },
  {
   "cell_type": "markdown",
   "metadata": {},
   "source": [
    "### Задание 5\n",
    "Дан поток логов по количеству просмотренных страниц для каждого пользователя. Вам необходимо написать алгоритм, который считает среднее значение просмотров на пользователя. Т. е. надо посчитать отношение суммы всех просмотров к количеству уникальных пользователей."
   ]
  },
  {
   "cell_type": "code",
   "execution_count": null,
   "metadata": {},
   "outputs": [],
   "source": [
    "stream = [\n",
    "'2018-01-01,user1,3',\n",
    "'2018-01-07,user1,4',\n",
    "'2018-03-29,user1,1',\n",
    "'2018-04-04,user1,13',\n",
    "'2018-01-05,user2,7',\n",
    "'2018-06-14,user3,4',\n",
    "'2018-07-02,user3,10',\n",
    "'2018-03-21,user4,19',\n",
    "'2018-03-22,user4,4',\n",
    "'2018-04-22,user4,8',\n",
    "'2018-05-03,user4,9',\n",
    "'2018-05-11,user4,11',\n",
    "]\n",
    "\n",
    "for i in range(len(stream)):\n",
    "    stream[i] = stream[i].split(',')\n",
    "    \n",
    "# неявно полагаем, что пользователи всешжа отсортированы друг за другам (идут не в перемешку)\n",
    "# для случая, когда пользователи перемешаны, было бы удобно воспользоваться, например, словарем\n",
    "sum_by_user = []\n",
    "session_sum = int(stream[0][2])\n",
    "# Сравниваем пользователя текущей сессии с предыдущей. Если они совпадаю, складываем просмотры. \n",
    "# Если нет - добавляем окончательное значение по пользователю в список\n",
    "for i in range(1, len(stream)):\n",
    "    if stream[i-1][1] == stream[i][1]:\n",
    "        session_sum += int(stream[i][2])\n",
    "    else:\n",
    "        sum_by_user.append(session_sum)\n",
    "        session_sum = int(stream[i][2])\n",
    "sum_by_user.append(session_sum)\n",
    "    \n",
    "mean_by_users = sum(sum_by_user)/len(sum_by_user)\n",
    "print(f'Среднее количество просмотров на уникального пользователя: {round(mean_by_users,2)}')"
   ]
  },
  {
   "cell_type": "markdown",
   "metadata": {},
   "source": [
    "### Задание 6\n",
    "Необходимо у пользователя запрашивать набор чисел разделенных пробелом. В результате должны выводиться числа, которые повторяются в вводе более одного раза."
   ]
  },
  {
   "cell_type": "code",
   "execution_count": null,
   "metadata": {},
   "outputs": [],
   "source": [
    "number_list = input('Введите числа ').split()\n",
    "\n",
    "for i in range(len(number_list)):\n",
    "    number_list[i] = int(number_list[i])\n",
    "    \n",
    "# Удаляем числа, встречающиеся 1 раз    \n",
    "for number in number_list:\n",
    "    if number_list.count(number) == 1:\n",
    "        number_list.remove(number)\n",
    "        \n",
    "\n",
    "duplicates = True\n",
    "# Бегаем по списку, удаляя дубли, пока после очередного прохода не останется дублей\n",
    "while duplicates == True:\n",
    "    duplicates = False\n",
    "    for number in number_list:\n",
    "        if number_list.count(number) > 1:\n",
    "            duplicates = True\n",
    "            number_list.remove(number)\n",
    "        \n",
    "number_list=sorted(number_list)\n",
    "        \n",
    "for number in number_list:\n",
    "    print(number, end=' ')"
   ]
  }
 ],
 "metadata": {
  "kernelspec": {
   "display_name": "Python 3",
   "language": "python",
   "name": "python3"
  },
  "language_info": {
   "codemirror_mode": {
    "name": "ipython",
    "version": 3
   },
   "file_extension": ".py",
   "mimetype": "text/x-python",
   "name": "python",
   "nbconvert_exporter": "python",
   "pygments_lexer": "ipython3",
   "version": "3.7.9"
  }
 },
 "nbformat": 4,
 "nbformat_minor": 4
}
