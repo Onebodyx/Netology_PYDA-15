{
 "cells": [
  {
   "cell_type": "code",
   "execution_count": null,
   "metadata": {},
   "outputs": [],
   "source": [
    "import requests"
   ]
  },
  {
   "cell_type": "markdown",
   "metadata": {},
   "source": [
    "##### Примечание \n",
    "Задания 1 и 2 выполнены в рамках одного класса.\n",
    "\n",
    "Кроме того, я решил объединить методы eur, usd и т.д. в метод currency_info. Считаю, что это исключает ненужное дублирование кода и упрощает его.\n",
    "\n",
    "### Задание 1\n",
    "Напишите функцию, которая возвращает название валюты (поле ‘Name’) с максимальным значением курса с помощью сервиса https://www.cbr-xml-daily.ru/daily_json.js\n",
    "\n",
    "### Задание 2\n",
    "Добавьте в класс Rate параметр diff (со значениями True или False), который в случае значения True в методах курсов валют (eur, usd итд) будет возвращать не курс валюты, а изменение по сравнению в прошлым значением. Считайте, self.diff будет принимать значение True только при возврате значения курса. При отображении всей информации о валюте он не используется."
   ]
  },
  {
   "cell_type": "code",
   "execution_count": null,
   "metadata": {},
   "outputs": [],
   "source": [
    "class Rate:\n",
    "    def __init__(self, currency, format_='value', diff=False):\n",
    "        self.format = format_\n",
    "        self.diff = diff\n",
    "        self.currency = currency\n",
    "    \n",
    "    def exchange_rates(self):\n",
    "        \"\"\"\n",
    "        Возвращает ответ сервиса с информацией о валютах в виде:\n",
    "        \n",
    "        {\n",
    "            'AMD': {\n",
    "                'CharCode': 'AMD',\n",
    "                'ID': 'R01060',\n",
    "                'Name': 'Армянских драмов',\n",
    "                'Nominal': 100,\n",
    "                'NumCode': '051',\n",
    "                'Previous': 14.103,\n",
    "                'Value': 14.0879\n",
    "                },\n",
    "            ...\n",
    "        }\n",
    "        \"\"\"\n",
    "        self.r = requests.get('https://www.cbr-xml-daily.ru/daily_json.js')\n",
    "        return self.r.json()['Valute']\n",
    "    \n",
    "    def make_format(self, currency):\n",
    "        \"\"\"\n",
    "        Возвращает информацию о валюте currency в двух вариантах:\n",
    "        - полная информация о валюте при self.format = 'full':\n",
    "        Rate('full').make_format('EUR')\n",
    "        {\n",
    "            'CharCode': 'EUR',\n",
    "            'ID': 'R01239',\n",
    "            'Name': 'Евро',\n",
    "            'Nominal': 1,\n",
    "            'NumCode': '978',\n",
    "            'Previous': 79.6765,\n",
    "            'Value': 79.4966\n",
    "        }\n",
    "        \n",
    "        Rate('value').make_format('EUR')\n",
    "        79.4966\n",
    "        \"\"\"\n",
    "        response = self.exchange_rates()\n",
    "        \n",
    "        if currency in response:\n",
    "            if self.format == 'full':\n",
    "                return response[currency]\n",
    "            \n",
    "            if self.format == 'value':\n",
    "                return response[currency]['Value']\n",
    "        \n",
    "        return 'Error'\n",
    "    \n",
    "    def difference (self, currency): \n",
    "        \"\"\"Возвращает разницу текущего и предыдущего курсов заданной валюты \"\"\"\n",
    "        response = self.exchange_rates()\n",
    "        return response[currency]['Value'] - response[currency]['Previous']\n",
    "        \n",
    "    \n",
    "    def valute_max_rate_name(self):\n",
    "        \"\"\"Возвращает название валюты с максимальным курсом на сегодня\"\"\"\n",
    "        response = self.exchange_rates()\n",
    "        \n",
    "        max = 0\n",
    "        name = 0\n",
    "        \n",
    "        for valute in response.values():\n",
    "            if valute['Value'] > max:\n",
    "                max = valute['Value']\n",
    "                name = valute['Name']\n",
    "        return name\n",
    "    \n",
    "    def currency_info(self):\n",
    "        \"\"\"Возвращает ифнормацию о заданной валюте currency:\n",
    "        Если diff=True и format='value', выводится разница между текущим и предыдущим курсом\n",
    "        Если diff=False и format='value', выводится текущее значение валюты\n",
    "        Если format='full', выводится полная текущеая информация по валюте\n",
    "        \"\"\"\n",
    "        if (self.diff == True) and (self.format=='value'):\n",
    "            return self.difference(self.currency)\n",
    "        else:\n",
    "            return self.make_format(self.currency)"
   ]
  },
  {
   "cell_type": "markdown",
   "metadata": {},
   "source": [
    "### Задание 3\n",
    "Напишите класс Designer, который учитывает количество международных премий.\n",
    "Повышение на 1 грейд за каждые 7 баллов. Получение международной премии – это +2 балла"
   ]
  },
  {
   "cell_type": "code",
   "execution_count": null,
   "metadata": {},
   "outputs": [],
   "source": [
    "import sys\n",
    "sys.path.append('\\\\libs')"
   ]
  },
  {
   "cell_type": "code",
   "execution_count": null,
   "metadata": {},
   "outputs": [],
   "source": [
    "from libs.emp import Employee"
   ]
  },
  {
   "cell_type": "code",
   "execution_count": null,
   "metadata": {},
   "outputs": [],
   "source": [
    "class Designer(Employee):\n",
    "    def __init__(self, name, seniority, international_award=2):\n",
    "        super().__init__(name, seniority)\n",
    "        self.seniority += international_award*2\n",
    "        # Если при выходе на работу у дизайнера сразу много баллов (за счет международных премий, повышаем его\n",
    "        for i in range(self.seniority // 7):\n",
    "            self.grade_up()\n",
    "        self.seniority %= 7\n",
    "    \n",
    "    def check_if_it_is_time_for_upgrade(self, if_international_award = False):\n",
    "        '''\n",
    "        Для каждой аккредитации увеличиваем seniority на 1 пока считаем, что все разработчики проходят аккредитацию\n",
    "        Если получена международная премия, увеличиваем seniority на 2\n",
    "        '''\n",
    "        \n",
    "        if if_international_award ==True:\n",
    "            for i in range(2):\n",
    "                self.seniority += 1\n",
    "                if self.seniority % 7 == 0:\n",
    "                    self.grade_up()\n",
    "        else:        \n",
    "            self.seniority += 1\n",
    "            if self.seniority % 7 == 0:\n",
    "                self.grade_up()\n",
    "        \n",
    "        # публикация результатов\n",
    "        return self.publish_grade()"
   ]
  }
 ],
 "metadata": {
  "kernelspec": {
   "display_name": "Python 3",
   "language": "python",
   "name": "python3"
  },
  "language_info": {
   "codemirror_mode": {
    "name": "ipython",
    "version": 3
   },
   "file_extension": ".py",
   "mimetype": "text/x-python",
   "name": "python",
   "nbconvert_exporter": "python",
   "pygments_lexer": "ipython3",
   "version": "3.7.9"
  }
 },
 "nbformat": 4,
 "nbformat_minor": 4
}
