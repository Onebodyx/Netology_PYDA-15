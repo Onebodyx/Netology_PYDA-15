{
 "cells": [
  {
   "cell_type": "code",
   "execution_count": 437,
   "id": "10b9fb95",
   "metadata": {},
   "outputs": [],
   "source": [
    "import pandas as pd\n",
    "import numpy as np\n",
    "\n",
    "from tqdm.notebook import tqdm\n",
    "\n",
    "from sklearn.feature_extraction.text import TfidfVectorizer, CountVectorizer\n",
    "from sklearn.neighbors import NearestNeighbors\n",
    "\n",
    "%matplotlib inline"
   ]
  },
  {
   "cell_type": "markdown",
   "id": "fdb799d7",
   "metadata": {},
   "source": [
    "1. Использовать dataset MovieLens\n",
    "1. Построить рекомендации (регрессия, предсказываем оценку) на фичах:\n",
    "- TF-IDF на тегах и жанрах\n",
    "- Средние оценки (+ median, variance, etc.) пользователя и фильма\n",
    "3. Оценить RMSE на тестовой выборке"
   ]
  },
  {
   "cell_type": "code",
   "execution_count": 438,
   "id": "32a33e84",
   "metadata": {},
   "outputs": [],
   "source": [
    "links = pd.read_csv('links.csv')\n",
    "movies = pd.read_csv('movies.csv')\n",
    "ratings = pd.read_csv('ratings.csv')\n",
    "tags = pd.read_csv('tags.csv')"
   ]
  },
  {
   "cell_type": "code",
   "execution_count": 439,
   "id": "597a2b4a",
   "metadata": {},
   "outputs": [
    {
     "data": {
      "text/html": [
       "<div>\n",
       "<style scoped>\n",
       "    .dataframe tbody tr th:only-of-type {\n",
       "        vertical-align: middle;\n",
       "    }\n",
       "\n",
       "    .dataframe tbody tr th {\n",
       "        vertical-align: top;\n",
       "    }\n",
       "\n",
       "    .dataframe thead th {\n",
       "        text-align: right;\n",
       "    }\n",
       "</style>\n",
       "<table border=\"1\" class=\"dataframe\">\n",
       "  <thead>\n",
       "    <tr style=\"text-align: right;\">\n",
       "      <th></th>\n",
       "      <th>movieId</th>\n",
       "      <th>title</th>\n",
       "      <th>genres</th>\n",
       "    </tr>\n",
       "  </thead>\n",
       "  <tbody>\n",
       "    <tr>\n",
       "      <th>0</th>\n",
       "      <td>1</td>\n",
       "      <td>Toy Story (1995)</td>\n",
       "      <td>Adventure|Animation|Children|Comedy|Fantasy</td>\n",
       "    </tr>\n",
       "    <tr>\n",
       "      <th>1</th>\n",
       "      <td>2</td>\n",
       "      <td>Jumanji (1995)</td>\n",
       "      <td>Adventure|Children|Fantasy</td>\n",
       "    </tr>\n",
       "    <tr>\n",
       "      <th>2</th>\n",
       "      <td>3</td>\n",
       "      <td>Grumpier Old Men (1995)</td>\n",
       "      <td>Comedy|Romance</td>\n",
       "    </tr>\n",
       "    <tr>\n",
       "      <th>3</th>\n",
       "      <td>4</td>\n",
       "      <td>Waiting to Exhale (1995)</td>\n",
       "      <td>Comedy|Drama|Romance</td>\n",
       "    </tr>\n",
       "    <tr>\n",
       "      <th>4</th>\n",
       "      <td>5</td>\n",
       "      <td>Father of the Bride Part II (1995)</td>\n",
       "      <td>Comedy</td>\n",
       "    </tr>\n",
       "  </tbody>\n",
       "</table>\n",
       "</div>"
      ],
      "text/plain": [
       "   movieId                               title  \\\n",
       "0        1                    Toy Story (1995)   \n",
       "1        2                      Jumanji (1995)   \n",
       "2        3             Grumpier Old Men (1995)   \n",
       "3        4            Waiting to Exhale (1995)   \n",
       "4        5  Father of the Bride Part II (1995)   \n",
       "\n",
       "                                        genres  \n",
       "0  Adventure|Animation|Children|Comedy|Fantasy  \n",
       "1                   Adventure|Children|Fantasy  \n",
       "2                               Comedy|Romance  \n",
       "3                         Comedy|Drama|Romance  \n",
       "4                                       Comedy  "
      ]
     },
     "execution_count": 439,
     "metadata": {},
     "output_type": "execute_result"
    }
   ],
   "source": [
    "movies.head()"
   ]
  },
  {
   "cell_type": "code",
   "execution_count": 440,
   "id": "1dcda231",
   "metadata": {},
   "outputs": [],
   "source": [
    "def change_string(s):\n",
    "    return ' '.join(s.replace(' ', '').replace('-', '').split('|'))"
   ]
  },
  {
   "cell_type": "code",
   "execution_count": 441,
   "id": "a6a22dfb",
   "metadata": {},
   "outputs": [],
   "source": [
    "movies['genres'] = [change_string(g) for g in movies.genres.values]"
   ]
  },
  {
   "cell_type": "code",
   "execution_count": 442,
   "id": "5fca12df",
   "metadata": {},
   "outputs": [
    {
     "data": {
      "text/html": [
       "<div>\n",
       "<style scoped>\n",
       "    .dataframe tbody tr th:only-of-type {\n",
       "        vertical-align: middle;\n",
       "    }\n",
       "\n",
       "    .dataframe tbody tr th {\n",
       "        vertical-align: top;\n",
       "    }\n",
       "\n",
       "    .dataframe thead th {\n",
       "        text-align: right;\n",
       "    }\n",
       "</style>\n",
       "<table border=\"1\" class=\"dataframe\">\n",
       "  <thead>\n",
       "    <tr style=\"text-align: right;\">\n",
       "      <th></th>\n",
       "      <th>userId</th>\n",
       "      <th>movieId</th>\n",
       "      <th>rating</th>\n",
       "      <th>timestamp</th>\n",
       "    </tr>\n",
       "  </thead>\n",
       "  <tbody>\n",
       "    <tr>\n",
       "      <th>0</th>\n",
       "      <td>1</td>\n",
       "      <td>1</td>\n",
       "      <td>4.0</td>\n",
       "      <td>964982703</td>\n",
       "    </tr>\n",
       "    <tr>\n",
       "      <th>1</th>\n",
       "      <td>1</td>\n",
       "      <td>3</td>\n",
       "      <td>4.0</td>\n",
       "      <td>964981247</td>\n",
       "    </tr>\n",
       "    <tr>\n",
       "      <th>2</th>\n",
       "      <td>1</td>\n",
       "      <td>6</td>\n",
       "      <td>4.0</td>\n",
       "      <td>964982224</td>\n",
       "    </tr>\n",
       "    <tr>\n",
       "      <th>3</th>\n",
       "      <td>1</td>\n",
       "      <td>47</td>\n",
       "      <td>5.0</td>\n",
       "      <td>964983815</td>\n",
       "    </tr>\n",
       "    <tr>\n",
       "      <th>4</th>\n",
       "      <td>1</td>\n",
       "      <td>50</td>\n",
       "      <td>5.0</td>\n",
       "      <td>964982931</td>\n",
       "    </tr>\n",
       "  </tbody>\n",
       "</table>\n",
       "</div>"
      ],
      "text/plain": [
       "   userId  movieId  rating  timestamp\n",
       "0       1        1     4.0  964982703\n",
       "1       1        3     4.0  964981247\n",
       "2       1        6     4.0  964982224\n",
       "3       1       47     5.0  964983815\n",
       "4       1       50     5.0  964982931"
      ]
     },
     "execution_count": 442,
     "metadata": {},
     "output_type": "execute_result"
    }
   ],
   "source": [
    "ratings.head()"
   ]
  },
  {
   "cell_type": "code",
   "execution_count": 443,
   "id": "32b675d5",
   "metadata": {},
   "outputs": [
    {
     "data": {
      "text/html": [
       "<div>\n",
       "<style scoped>\n",
       "    .dataframe tbody tr th:only-of-type {\n",
       "        vertical-align: middle;\n",
       "    }\n",
       "\n",
       "    .dataframe tbody tr th {\n",
       "        vertical-align: top;\n",
       "    }\n",
       "\n",
       "    .dataframe thead th {\n",
       "        text-align: right;\n",
       "    }\n",
       "</style>\n",
       "<table border=\"1\" class=\"dataframe\">\n",
       "  <thead>\n",
       "    <tr style=\"text-align: right;\">\n",
       "      <th></th>\n",
       "      <th>userId</th>\n",
       "      <th>movieId</th>\n",
       "      <th>tag</th>\n",
       "      <th>timestamp</th>\n",
       "    </tr>\n",
       "  </thead>\n",
       "  <tbody>\n",
       "    <tr>\n",
       "      <th>0</th>\n",
       "      <td>2</td>\n",
       "      <td>60756</td>\n",
       "      <td>funny</td>\n",
       "      <td>1445714994</td>\n",
       "    </tr>\n",
       "    <tr>\n",
       "      <th>1</th>\n",
       "      <td>2</td>\n",
       "      <td>60756</td>\n",
       "      <td>Highly quotable</td>\n",
       "      <td>1445714996</td>\n",
       "    </tr>\n",
       "    <tr>\n",
       "      <th>2</th>\n",
       "      <td>2</td>\n",
       "      <td>60756</td>\n",
       "      <td>will ferrell</td>\n",
       "      <td>1445714992</td>\n",
       "    </tr>\n",
       "    <tr>\n",
       "      <th>3</th>\n",
       "      <td>2</td>\n",
       "      <td>89774</td>\n",
       "      <td>Boxing story</td>\n",
       "      <td>1445715207</td>\n",
       "    </tr>\n",
       "    <tr>\n",
       "      <th>4</th>\n",
       "      <td>2</td>\n",
       "      <td>89774</td>\n",
       "      <td>MMA</td>\n",
       "      <td>1445715200</td>\n",
       "    </tr>\n",
       "  </tbody>\n",
       "</table>\n",
       "</div>"
      ],
      "text/plain": [
       "   userId  movieId              tag   timestamp\n",
       "0       2    60756            funny  1445714994\n",
       "1       2    60756  Highly quotable  1445714996\n",
       "2       2    60756     will ferrell  1445714992\n",
       "3       2    89774     Boxing story  1445715207\n",
       "4       2    89774              MMA  1445715200"
      ]
     },
     "execution_count": 443,
     "metadata": {},
     "output_type": "execute_result"
    }
   ],
   "source": [
    "tags.head()"
   ]
  },
  {
   "cell_type": "code",
   "execution_count": 444,
   "id": "b1f675a5",
   "metadata": {},
   "outputs": [
    {
     "data": {
      "text/html": [
       "<div>\n",
       "<style scoped>\n",
       "    .dataframe tbody tr th:only-of-type {\n",
       "        vertical-align: middle;\n",
       "    }\n",
       "\n",
       "    .dataframe tbody tr th {\n",
       "        vertical-align: top;\n",
       "    }\n",
       "\n",
       "    .dataframe thead th {\n",
       "        text-align: right;\n",
       "    }\n",
       "</style>\n",
       "<table border=\"1\" class=\"dataframe\">\n",
       "  <thead>\n",
       "    <tr style=\"text-align: right;\">\n",
       "      <th></th>\n",
       "      <th>movieId</th>\n",
       "      <th>title</th>\n",
       "      <th>genres</th>\n",
       "      <th>tag</th>\n",
       "    </tr>\n",
       "  </thead>\n",
       "  <tbody>\n",
       "    <tr>\n",
       "      <th>0</th>\n",
       "      <td>1</td>\n",
       "      <td>Toy Story (1995)</td>\n",
       "      <td>Adventure Animation Children Comedy Fantasy</td>\n",
       "      <td>pixar</td>\n",
       "    </tr>\n",
       "    <tr>\n",
       "      <th>1</th>\n",
       "      <td>1</td>\n",
       "      <td>Toy Story (1995)</td>\n",
       "      <td>Adventure Animation Children Comedy Fantasy</td>\n",
       "      <td>pixar</td>\n",
       "    </tr>\n",
       "    <tr>\n",
       "      <th>2</th>\n",
       "      <td>1</td>\n",
       "      <td>Toy Story (1995)</td>\n",
       "      <td>Adventure Animation Children Comedy Fantasy</td>\n",
       "      <td>fun</td>\n",
       "    </tr>\n",
       "    <tr>\n",
       "      <th>3</th>\n",
       "      <td>2</td>\n",
       "      <td>Jumanji (1995)</td>\n",
       "      <td>Adventure Children Fantasy</td>\n",
       "      <td>fantasy</td>\n",
       "    </tr>\n",
       "    <tr>\n",
       "      <th>4</th>\n",
       "      <td>2</td>\n",
       "      <td>Jumanji (1995)</td>\n",
       "      <td>Adventure Children Fantasy</td>\n",
       "      <td>magic board game</td>\n",
       "    </tr>\n",
       "    <tr>\n",
       "      <th>...</th>\n",
       "      <td>...</td>\n",
       "      <td>...</td>\n",
       "      <td>...</td>\n",
       "      <td>...</td>\n",
       "    </tr>\n",
       "    <tr>\n",
       "      <th>3678</th>\n",
       "      <td>187595</td>\n",
       "      <td>Solo: A Star Wars Story (2018)</td>\n",
       "      <td>Action Adventure Children SciFi</td>\n",
       "      <td>star wars</td>\n",
       "    </tr>\n",
       "    <tr>\n",
       "      <th>3679</th>\n",
       "      <td>193565</td>\n",
       "      <td>Gintama: The Movie (2010)</td>\n",
       "      <td>Action Animation Comedy SciFi</td>\n",
       "      <td>anime</td>\n",
       "    </tr>\n",
       "    <tr>\n",
       "      <th>3680</th>\n",
       "      <td>193565</td>\n",
       "      <td>Gintama: The Movie (2010)</td>\n",
       "      <td>Action Animation Comedy SciFi</td>\n",
       "      <td>comedy</td>\n",
       "    </tr>\n",
       "    <tr>\n",
       "      <th>3681</th>\n",
       "      <td>193565</td>\n",
       "      <td>Gintama: The Movie (2010)</td>\n",
       "      <td>Action Animation Comedy SciFi</td>\n",
       "      <td>gintama</td>\n",
       "    </tr>\n",
       "    <tr>\n",
       "      <th>3682</th>\n",
       "      <td>193565</td>\n",
       "      <td>Gintama: The Movie (2010)</td>\n",
       "      <td>Action Animation Comedy SciFi</td>\n",
       "      <td>remaster</td>\n",
       "    </tr>\n",
       "  </tbody>\n",
       "</table>\n",
       "<p>3683 rows × 4 columns</p>\n",
       "</div>"
      ],
      "text/plain": [
       "      movieId                           title  \\\n",
       "0           1                Toy Story (1995)   \n",
       "1           1                Toy Story (1995)   \n",
       "2           1                Toy Story (1995)   \n",
       "3           2                  Jumanji (1995)   \n",
       "4           2                  Jumanji (1995)   \n",
       "...       ...                             ...   \n",
       "3678   187595  Solo: A Star Wars Story (2018)   \n",
       "3679   193565       Gintama: The Movie (2010)   \n",
       "3680   193565       Gintama: The Movie (2010)   \n",
       "3681   193565       Gintama: The Movie (2010)   \n",
       "3682   193565       Gintama: The Movie (2010)   \n",
       "\n",
       "                                           genres               tag  \n",
       "0     Adventure Animation Children Comedy Fantasy             pixar  \n",
       "1     Adventure Animation Children Comedy Fantasy             pixar  \n",
       "2     Adventure Animation Children Comedy Fantasy               fun  \n",
       "3                      Adventure Children Fantasy           fantasy  \n",
       "4                      Adventure Children Fantasy  magic board game  \n",
       "...                                           ...               ...  \n",
       "3678              Action Adventure Children SciFi         star wars  \n",
       "3679                Action Animation Comedy SciFi             anime  \n",
       "3680                Action Animation Comedy SciFi            comedy  \n",
       "3681                Action Animation Comedy SciFi           gintama  \n",
       "3682                Action Animation Comedy SciFi          remaster  \n",
       "\n",
       "[3683 rows x 4 columns]"
      ]
     },
     "execution_count": 444,
     "metadata": {},
     "output_type": "execute_result"
    }
   ],
   "source": [
    "movies_df = movies.merge(tags, on = 'movieId')\n",
    "movies_df.drop(['userId', 'timestamp'], axis = 1, inplace=True)\n",
    "#movies_df = movies_df.merge(ratings)\n",
    "movies_df"
   ]
  },
  {
   "cell_type": "code",
   "execution_count": 445,
   "id": "24c0cd56",
   "metadata": {},
   "outputs": [
    {
     "data": {
      "application/vnd.jupyter.widget-view+json": {
       "model_id": "d73c7b65927f4ef0bc887d880518a361",
       "version_major": 2,
       "version_minor": 0
      },
      "text/plain": [
       "  0%|          | 0/1572 [00:00<?, ?it/s]"
      ]
     },
     "metadata": {},
     "output_type": "display_data"
    }
   ],
   "source": [
    "movies_tags = {}\n",
    "\n",
    "for movie, group in tqdm(movies_df.groupby('title')):\n",
    "    tags = set([str(s).replace(' ', '').replace('-', '') for s in group.tag.values])\n",
    "    movies_tags[movie] = ' '.join([tag for tag in tags])"
   ]
  },
  {
   "cell_type": "code",
   "execution_count": 446,
   "id": "9880de82",
   "metadata": {},
   "outputs": [],
   "source": [
    "movies_tags_df = pd.DataFrame(movies_tags.items(), columns=['title', 'tags'])"
   ]
  },
  {
   "cell_type": "code",
   "execution_count": 447,
   "id": "b8c2613a",
   "metadata": {},
   "outputs": [],
   "source": [
    "movies_df = movies_df.merge(movies_tags_df).drop(['tag'], axis = 1).drop_duplicates()"
   ]
  },
  {
   "cell_type": "code",
   "execution_count": 448,
   "id": "d7531f64",
   "metadata": {},
   "outputs": [
    {
     "data": {
      "text/html": [
       "<div>\n",
       "<style scoped>\n",
       "    .dataframe tbody tr th:only-of-type {\n",
       "        vertical-align: middle;\n",
       "    }\n",
       "\n",
       "    .dataframe tbody tr th {\n",
       "        vertical-align: top;\n",
       "    }\n",
       "\n",
       "    .dataframe thead th {\n",
       "        text-align: right;\n",
       "    }\n",
       "</style>\n",
       "<table border=\"1\" class=\"dataframe\">\n",
       "  <thead>\n",
       "    <tr style=\"text-align: right;\">\n",
       "      <th></th>\n",
       "      <th>movieId</th>\n",
       "      <th>title</th>\n",
       "      <th>genres</th>\n",
       "      <th>tags</th>\n",
       "    </tr>\n",
       "  </thead>\n",
       "  <tbody>\n",
       "    <tr>\n",
       "      <th>0</th>\n",
       "      <td>1</td>\n",
       "      <td>Toy Story (1995)</td>\n",
       "      <td>Adventure Animation Children Comedy Fantasy</td>\n",
       "      <td>pixar fun</td>\n",
       "    </tr>\n",
       "    <tr>\n",
       "      <th>3</th>\n",
       "      <td>2</td>\n",
       "      <td>Jumanji (1995)</td>\n",
       "      <td>Adventure Children Fantasy</td>\n",
       "      <td>game fantasy RobinWilliams magicboardgame</td>\n",
       "    </tr>\n",
       "    <tr>\n",
       "      <th>7</th>\n",
       "      <td>3</td>\n",
       "      <td>Grumpier Old Men (1995)</td>\n",
       "      <td>Comedy Romance</td>\n",
       "      <td>moldy old</td>\n",
       "    </tr>\n",
       "    <tr>\n",
       "      <th>9</th>\n",
       "      <td>5</td>\n",
       "      <td>Father of the Bride Part II (1995)</td>\n",
       "      <td>Comedy</td>\n",
       "      <td>pregnancy remake</td>\n",
       "    </tr>\n",
       "    <tr>\n",
       "      <th>11</th>\n",
       "      <td>7</td>\n",
       "      <td>Sabrina (1995)</td>\n",
       "      <td>Comedy Romance</td>\n",
       "      <td>remake</td>\n",
       "    </tr>\n",
       "    <tr>\n",
       "      <th>...</th>\n",
       "      <td>...</td>\n",
       "      <td>...</td>\n",
       "      <td>...</td>\n",
       "      <td>...</td>\n",
       "    </tr>\n",
       "    <tr>\n",
       "      <th>3668</th>\n",
       "      <td>183611</td>\n",
       "      <td>Game Night (2018)</td>\n",
       "      <td>Action Comedy Crime Horror</td>\n",
       "      <td>Comedy RachelMcAdams funny</td>\n",
       "    </tr>\n",
       "    <tr>\n",
       "      <th>3671</th>\n",
       "      <td>184471</td>\n",
       "      <td>Tomb Raider (2018)</td>\n",
       "      <td>Action Adventure Fantasy</td>\n",
       "      <td>videogameadaptation AliciaVikander adventure</td>\n",
       "    </tr>\n",
       "    <tr>\n",
       "      <th>3674</th>\n",
       "      <td>187593</td>\n",
       "      <td>Deadpool 2 (2018)</td>\n",
       "      <td>Action Comedy SciFi</td>\n",
       "      <td>RyanReynolds JoshBrolin sarcasm</td>\n",
       "    </tr>\n",
       "    <tr>\n",
       "      <th>3677</th>\n",
       "      <td>187595</td>\n",
       "      <td>Solo: A Star Wars Story (2018)</td>\n",
       "      <td>Action Adventure Children SciFi</td>\n",
       "      <td>EmiliaClarke starwars</td>\n",
       "    </tr>\n",
       "    <tr>\n",
       "      <th>3679</th>\n",
       "      <td>193565</td>\n",
       "      <td>Gintama: The Movie (2010)</td>\n",
       "      <td>Action Animation Comedy SciFi</td>\n",
       "      <td>comedy gintama remaster anime</td>\n",
       "    </tr>\n",
       "  </tbody>\n",
       "</table>\n",
       "<p>1572 rows × 4 columns</p>\n",
       "</div>"
      ],
      "text/plain": [
       "      movieId                               title  \\\n",
       "0           1                    Toy Story (1995)   \n",
       "3           2                      Jumanji (1995)   \n",
       "7           3             Grumpier Old Men (1995)   \n",
       "9           5  Father of the Bride Part II (1995)   \n",
       "11          7                      Sabrina (1995)   \n",
       "...       ...                                 ...   \n",
       "3668   183611                   Game Night (2018)   \n",
       "3671   184471                  Tomb Raider (2018)   \n",
       "3674   187593                   Deadpool 2 (2018)   \n",
       "3677   187595      Solo: A Star Wars Story (2018)   \n",
       "3679   193565           Gintama: The Movie (2010)   \n",
       "\n",
       "                                           genres  \\\n",
       "0     Adventure Animation Children Comedy Fantasy   \n",
       "3                      Adventure Children Fantasy   \n",
       "7                                  Comedy Romance   \n",
       "9                                          Comedy   \n",
       "11                                 Comedy Romance   \n",
       "...                                           ...   \n",
       "3668                   Action Comedy Crime Horror   \n",
       "3671                     Action Adventure Fantasy   \n",
       "3674                          Action Comedy SciFi   \n",
       "3677              Action Adventure Children SciFi   \n",
       "3679                Action Animation Comedy SciFi   \n",
       "\n",
       "                                              tags  \n",
       "0                                        pixar fun  \n",
       "3        game fantasy RobinWilliams magicboardgame  \n",
       "7                                        moldy old  \n",
       "9                                 pregnancy remake  \n",
       "11                                          remake  \n",
       "...                                            ...  \n",
       "3668                    Comedy RachelMcAdams funny  \n",
       "3671  videogameadaptation AliciaVikander adventure  \n",
       "3674               RyanReynolds JoshBrolin sarcasm  \n",
       "3677                         EmiliaClarke starwars  \n",
       "3679                 comedy gintama remaster anime  \n",
       "\n",
       "[1572 rows x 4 columns]"
      ]
     },
     "execution_count": 448,
     "metadata": {},
     "output_type": "execute_result"
    }
   ],
   "source": [
    "movies_df"
   ]
  },
  {
   "cell_type": "code",
   "execution_count": 449,
   "id": "aa5827ad",
   "metadata": {},
   "outputs": [],
   "source": [
    "tfidf_vect_genres = TfidfVectorizer(use_idf=True)\n",
    "genres_tfidf = tfidf_vect_genres.fit_transform(movies_df['genres'])"
   ]
  },
  {
   "cell_type": "code",
   "execution_count": 450,
   "id": "53d175b9",
   "metadata": {},
   "outputs": [],
   "source": [
    "X_genres = pd.DataFrame(genres_tfidf.toarray(), columns=tfidf_vect_genres.get_feature_names(), index=movies_df.index)"
   ]
  },
  {
   "cell_type": "code",
   "execution_count": 451,
   "id": "fe9f738d",
   "metadata": {},
   "outputs": [],
   "source": [
    "tfidf_vect_tags = TfidfVectorizer(use_idf=True)\n",
    "tags_tfidf = tfidf_vect_tags.fit_transform(movies_df['tags'])"
   ]
  },
  {
   "cell_type": "code",
   "execution_count": 452,
   "id": "cd5fdc77",
   "metadata": {},
   "outputs": [],
   "source": [
    "X_tags = pd.DataFrame(tags_tfidf.toarray(), columns=tfidf_vect_tags.get_feature_names(), index=movies_df.index)"
   ]
  },
  {
   "cell_type": "code",
   "execution_count": 453,
   "id": "8a75ff9c",
   "metadata": {},
   "outputs": [],
   "source": [
    "X_tags_genres = X_genres.merge(X_tags, left_index=True, right_index=True)"
   ]
  },
  {
   "cell_type": "code",
   "execution_count": 454,
   "id": "0e23f0f7",
   "metadata": {},
   "outputs": [],
   "source": [
    "# отбрасываем столбцы, незначительно влияющие на датасет\n",
    "X_tags_genres = X_tags_genres.loc[:, X_tags_genres.sum()> 10]"
   ]
  },
  {
   "cell_type": "code",
   "execution_count": 455,
   "id": "2cd02c0c",
   "metadata": {},
   "outputs": [],
   "source": [
    "rate_stats = ratings[ratings.movieId.isin(movies_df.index)].groupby('movieId').agg({'rating': ['mean', 'var', 'median']})['rating']"
   ]
  },
  {
   "cell_type": "code",
   "execution_count": 456,
   "id": "39a65f36",
   "metadata": {},
   "outputs": [],
   "source": [
    "X_tags_genres_stats = X_tags_genres.merge(rate_stats, left_index=True, right_index=True).fillna(0)"
   ]
  },
  {
   "cell_type": "code",
   "execution_count": 457,
   "id": "05cb1b32",
   "metadata": {},
   "outputs": [
    {
     "data": {
      "text/html": [
       "<div>\n",
       "<style scoped>\n",
       "    .dataframe tbody tr th:only-of-type {\n",
       "        vertical-align: middle;\n",
       "    }\n",
       "\n",
       "    .dataframe tbody tr th {\n",
       "        vertical-align: top;\n",
       "    }\n",
       "\n",
       "    .dataframe thead th {\n",
       "        text-align: right;\n",
       "    }\n",
       "</style>\n",
       "<table border=\"1\" class=\"dataframe\">\n",
       "  <thead>\n",
       "    <tr style=\"text-align: right;\">\n",
       "      <th></th>\n",
       "      <th>action_x</th>\n",
       "      <th>adventure_x</th>\n",
       "      <th>animation_x</th>\n",
       "      <th>children_x</th>\n",
       "      <th>comedy_x</th>\n",
       "      <th>crime_x</th>\n",
       "      <th>documentary_x</th>\n",
       "      <th>drama_x</th>\n",
       "      <th>fantasy_x</th>\n",
       "      <th>filmnoir_x</th>\n",
       "      <th>...</th>\n",
       "      <th>innetflixqueue</th>\n",
       "      <th>journalism</th>\n",
       "      <th>politics</th>\n",
       "      <th>religion</th>\n",
       "      <th>shakespeare</th>\n",
       "      <th>stephenking</th>\n",
       "      <th>superhero</th>\n",
       "      <th>mean</th>\n",
       "      <th>var</th>\n",
       "      <th>median</th>\n",
       "    </tr>\n",
       "  </thead>\n",
       "  <tbody>\n",
       "    <tr>\n",
       "      <th>3</th>\n",
       "      <td>0.0</td>\n",
       "      <td>0.495081</td>\n",
       "      <td>0.0</td>\n",
       "      <td>0.635009</td>\n",
       "      <td>0.000000</td>\n",
       "      <td>0.0</td>\n",
       "      <td>0.0</td>\n",
       "      <td>0.000000</td>\n",
       "      <td>0.593008</td>\n",
       "      <td>0.0</td>\n",
       "      <td>...</td>\n",
       "      <td>0.0</td>\n",
       "      <td>0.0</td>\n",
       "      <td>0.000000</td>\n",
       "      <td>0.0</td>\n",
       "      <td>0.0</td>\n",
       "      <td>0.0</td>\n",
       "      <td>0.0</td>\n",
       "      <td>3.259615</td>\n",
       "      <td>1.112651</td>\n",
       "      <td>3.0</td>\n",
       "    </tr>\n",
       "    <tr>\n",
       "      <th>7</th>\n",
       "      <td>0.0</td>\n",
       "      <td>0.000000</td>\n",
       "      <td>0.0</td>\n",
       "      <td>0.000000</td>\n",
       "      <td>0.643145</td>\n",
       "      <td>0.0</td>\n",
       "      <td>0.0</td>\n",
       "      <td>0.000000</td>\n",
       "      <td>0.000000</td>\n",
       "      <td>0.0</td>\n",
       "      <td>...</td>\n",
       "      <td>0.0</td>\n",
       "      <td>0.0</td>\n",
       "      <td>0.000000</td>\n",
       "      <td>0.0</td>\n",
       "      <td>0.0</td>\n",
       "      <td>0.0</td>\n",
       "      <td>0.0</td>\n",
       "      <td>3.185185</td>\n",
       "      <td>0.955625</td>\n",
       "      <td>3.0</td>\n",
       "    </tr>\n",
       "    <tr>\n",
       "      <th>9</th>\n",
       "      <td>0.0</td>\n",
       "      <td>0.000000</td>\n",
       "      <td>0.0</td>\n",
       "      <td>0.000000</td>\n",
       "      <td>1.000000</td>\n",
       "      <td>0.0</td>\n",
       "      <td>0.0</td>\n",
       "      <td>0.000000</td>\n",
       "      <td>0.000000</td>\n",
       "      <td>0.0</td>\n",
       "      <td>...</td>\n",
       "      <td>0.0</td>\n",
       "      <td>0.0</td>\n",
       "      <td>0.000000</td>\n",
       "      <td>0.0</td>\n",
       "      <td>0.0</td>\n",
       "      <td>0.0</td>\n",
       "      <td>0.0</td>\n",
       "      <td>3.125000</td>\n",
       "      <td>0.950000</td>\n",
       "      <td>3.0</td>\n",
       "    </tr>\n",
       "    <tr>\n",
       "      <th>11</th>\n",
       "      <td>0.0</td>\n",
       "      <td>0.000000</td>\n",
       "      <td>0.0</td>\n",
       "      <td>0.000000</td>\n",
       "      <td>0.643145</td>\n",
       "      <td>0.0</td>\n",
       "      <td>0.0</td>\n",
       "      <td>0.000000</td>\n",
       "      <td>0.000000</td>\n",
       "      <td>0.0</td>\n",
       "      <td>...</td>\n",
       "      <td>0.0</td>\n",
       "      <td>0.0</td>\n",
       "      <td>0.000000</td>\n",
       "      <td>0.0</td>\n",
       "      <td>0.0</td>\n",
       "      <td>0.0</td>\n",
       "      <td>0.0</td>\n",
       "      <td>3.671429</td>\n",
       "      <td>0.810766</td>\n",
       "      <td>4.0</td>\n",
       "    </tr>\n",
       "    <tr>\n",
       "      <th>12</th>\n",
       "      <td>0.0</td>\n",
       "      <td>0.000000</td>\n",
       "      <td>0.0</td>\n",
       "      <td>0.000000</td>\n",
       "      <td>0.579624</td>\n",
       "      <td>0.0</td>\n",
       "      <td>0.0</td>\n",
       "      <td>0.433334</td>\n",
       "      <td>0.000000</td>\n",
       "      <td>0.0</td>\n",
       "      <td>...</td>\n",
       "      <td>0.0</td>\n",
       "      <td>0.0</td>\n",
       "      <td>0.632559</td>\n",
       "      <td>0.0</td>\n",
       "      <td>0.0</td>\n",
       "      <td>0.0</td>\n",
       "      <td>0.0</td>\n",
       "      <td>2.421053</td>\n",
       "      <td>1.562865</td>\n",
       "      <td>3.0</td>\n",
       "    </tr>\n",
       "  </tbody>\n",
       "</table>\n",
       "<p>5 rows × 35 columns</p>\n",
       "</div>"
      ],
      "text/plain": [
       "    action_x  adventure_x  animation_x  children_x  comedy_x  crime_x  \\\n",
       "3        0.0     0.495081          0.0    0.635009  0.000000      0.0   \n",
       "7        0.0     0.000000          0.0    0.000000  0.643145      0.0   \n",
       "9        0.0     0.000000          0.0    0.000000  1.000000      0.0   \n",
       "11       0.0     0.000000          0.0    0.000000  0.643145      0.0   \n",
       "12       0.0     0.000000          0.0    0.000000  0.579624      0.0   \n",
       "\n",
       "    documentary_x   drama_x  fantasy_x  filmnoir_x  ...  innetflixqueue  \\\n",
       "3             0.0  0.000000   0.593008         0.0  ...             0.0   \n",
       "7             0.0  0.000000   0.000000         0.0  ...             0.0   \n",
       "9             0.0  0.000000   0.000000         0.0  ...             0.0   \n",
       "11            0.0  0.000000   0.000000         0.0  ...             0.0   \n",
       "12            0.0  0.433334   0.000000         0.0  ...             0.0   \n",
       "\n",
       "    journalism  politics  religion  shakespeare  stephenking  superhero  \\\n",
       "3          0.0  0.000000       0.0          0.0          0.0        0.0   \n",
       "7          0.0  0.000000       0.0          0.0          0.0        0.0   \n",
       "9          0.0  0.000000       0.0          0.0          0.0        0.0   \n",
       "11         0.0  0.000000       0.0          0.0          0.0        0.0   \n",
       "12         0.0  0.632559       0.0          0.0          0.0        0.0   \n",
       "\n",
       "        mean       var  median  \n",
       "3   3.259615  1.112651     3.0  \n",
       "7   3.185185  0.955625     3.0  \n",
       "9   3.125000  0.950000     3.0  \n",
       "11  3.671429  0.810766     4.0  \n",
       "12  2.421053  1.562865     3.0  \n",
       "\n",
       "[5 rows x 35 columns]"
      ]
     },
     "execution_count": 457,
     "metadata": {},
     "output_type": "execute_result"
    }
   ],
   "source": [
    "X_tags_genres_stats.head()"
   ]
  },
  {
   "cell_type": "code",
   "execution_count": 458,
   "id": "7ab65afb",
   "metadata": {},
   "outputs": [],
   "source": [
    "tags_genres_stats_rate_df = X_tags_genres_stats.merge(ratings, how = 'inner', left_on=X_tags_genres_stats.index, right_on='movieId').drop(['timestamp'], axis = 1)"
   ]
  },
  {
   "cell_type": "code",
   "execution_count": 459,
   "id": "658e8898",
   "metadata": {},
   "outputs": [],
   "source": [
    "user_id = 100\n",
    "for_user_df = tags_genres_stats_rate_df[tags_genres_stats_rate_df['userId'] == 100]"
   ]
  },
  {
   "cell_type": "code",
   "execution_count": 460,
   "id": "88118bbd",
   "metadata": {},
   "outputs": [],
   "source": [
    "y = for_user_df['rating']\n",
    "X = for_user_df.drop(['userId', 'movieId', 'rating'], axis=1)"
   ]
  },
  {
   "cell_type": "code",
   "execution_count": 461,
   "id": "ab528620",
   "metadata": {},
   "outputs": [],
   "source": [
    "from sklearn.model_selection import train_test_split\n",
    "X_train, X_test, y_train, y_test = train_test_split(X, y, test_size = 0.2, random_state=1)"
   ]
  },
  {
   "cell_type": "code",
   "execution_count": 462,
   "id": "d3ce397b",
   "metadata": {},
   "outputs": [],
   "source": [
    "from sklearn.linear_model import LinearRegression\n",
    "lr = LinearRegression()"
   ]
  },
  {
   "cell_type": "code",
   "execution_count": 463,
   "id": "a9a87d48",
   "metadata": {},
   "outputs": [
    {
     "data": {
      "text/plain": [
       "LinearRegression()"
      ]
     },
     "execution_count": 463,
     "metadata": {},
     "output_type": "execute_result"
    }
   ],
   "source": [
    "lr.fit(X_train, y_train)"
   ]
  },
  {
   "cell_type": "code",
   "execution_count": 464,
   "id": "dd75b856",
   "metadata": {},
   "outputs": [
    {
     "data": {
      "text/plain": [
       "array([3.65648292, 4.30197135, 4.16512151, 5.22602091, 3.32533671,\n",
       "       3.10033092, 4.94876289, 5.26543408, 4.45610269, 3.98895337,\n",
       "       2.89967431, 4.63289141, 3.279501  ])"
      ]
     },
     "execution_count": 464,
     "metadata": {},
     "output_type": "execute_result"
    }
   ],
   "source": [
    "lr.predict(X_test)"
   ]
  },
  {
   "cell_type": "code",
   "execution_count": 466,
   "id": "61d160a6",
   "metadata": {},
   "outputs": [
    {
     "data": {
      "text/plain": [
       "17338    3.5\n",
       "18640    4.0\n",
       "15205    3.5\n",
       "238      4.5\n",
       "15808    5.0\n",
       "17670    4.5\n",
       "7552     4.0\n",
       "8534     4.0\n",
       "13928    4.0\n",
       "13136    4.0\n",
       "12294    2.0\n",
       "12695    4.5\n",
       "22950    4.5\n",
       "Name: rating, dtype: float64"
      ]
     },
     "execution_count": 466,
     "metadata": {},
     "output_type": "execute_result"
    }
   ],
   "source": [
    "y_test"
   ]
  },
  {
   "cell_type": "code",
   "execution_count": 467,
   "id": "da6645cc",
   "metadata": {},
   "outputs": [
    {
     "data": {
      "text/plain": [
       "-0.673085410382239"
      ]
     },
     "execution_count": 467,
     "metadata": {},
     "output_type": "execute_result"
    }
   ],
   "source": [
    "lr.score(X_test, y_test)"
   ]
  }
 ],
 "metadata": {
  "kernelspec": {
   "display_name": "Python 3",
   "language": "python",
   "name": "python3"
  },
  "language_info": {
   "codemirror_mode": {
    "name": "ipython",
    "version": 3
   },
   "file_extension": ".py",
   "mimetype": "text/x-python",
   "name": "python",
   "nbconvert_exporter": "python",
   "pygments_lexer": "ipython3",
   "version": "3.7.0"
  }
 },
 "nbformat": 4,
 "nbformat_minor": 5
}
