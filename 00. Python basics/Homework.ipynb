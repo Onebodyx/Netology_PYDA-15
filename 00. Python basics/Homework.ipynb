{
 "cells": [
  {
   "cell_type": "markdown",
   "metadata": {},
   "source": [
    "### Задание 1\n",
    "Даны 2 переменных, в которых хранятся строки произвольной длины: phrase_1 и phrase_2."
   ]
  },
  {
   "cell_type": "code",
   "execution_count": null,
   "metadata": {},
   "outputs": [],
   "source": [
    "phrase_1 = input('Введеите первую фразу ')\n",
    "phrase_2 = input('Введеите вторую фразу ')\n",
    "\n",
    "if len(phrase_1) > len(phrase_2):\n",
    "    print('Фраза 1 длиннее Фразы 2')\n",
    "elif len(phrase_1) < len(phrase_2):\n",
    "    print('Фраза 2 длиннее Фразы 1')\n",
    "else:\n",
    "    print('Фразы равной длины')"
   ]
  },
  {
   "cell_type": "markdown",
   "metadata": {},
   "source": [
    "### Задание 2\n",
    "Дана переменная, в которой хранится четырехзначное число (год). Необходимо написать программу, которая выведет, является ли данный год високосным или обычным.\n",
    "\n",
    "##### Примечание\n",
    "Данные о високосных годах взяты [отсюда](https://ru.wikipedia.org/wiki/Високосный_год)."
   ]
  },
  {
   "cell_type": "code",
   "execution_count": null,
   "metadata": {},
   "outputs": [],
   "source": [
    "year = int(input('Введите год '))\n",
    "if year%4 == 0 and (year%100 != 0 or year%400 == 0):\n",
    "    print('Високосный год')\n",
    "else:\n",
    "    print('Обычный год')"
   ]
  },
  {
   "cell_type": "markdown",
   "metadata": {},
   "source": [
    "### Задание 3\n",
    "Необходимо написать программу, которая будет запрашивать у пользователя месяц и дату рождения и выводить соответствующий знак зодиака.\n",
    "\n",
    "##### Примечание\n",
    "Данные о знаках зодиака взяты [отсюда](https://ru.wikipedia.org/wiki/Знаки_зодиака) (Западная астрология, вариант 1)"
   ]
  },
  {
   "cell_type": "code",
   "execution_count": null,
   "metadata": {},
   "outputs": [],
   "source": [
    "day = int(input('Введите день: '))\n",
    "mounth = input('Введите месяц: ')\n",
    "\n",
    "if (mounth == 'Март' and day<21) or (mounth == 'Февраль' and day>18):\n",
    "    print('Ваш знак зодиака: Рыбы')\n",
    "elif (mounth == 'Апрель' and day<20) or (mounth == 'Март' and day>20):\n",
    "    print('Ваш знак зодиака: Овен')\n",
    "elif (mounth == 'Май' and day<21) or (mounth == 'Апрель' and day>19):\n",
    "    print('Ваш знак зодиака: Телец')\n",
    "elif (mounth == 'Июнь' and day<21) or (mounth == 'Май' and day>20):\n",
    "    print('Ваш знак зодиака: Близнецы')\n",
    "elif (mounth == 'Июль' and day<23) or (mounth == 'Июнь' and day>22):\n",
    "    print('Ваш знак зодиака: Рак')\n",
    "elif (mounth == 'Август' and day<23) or (mounth == 'Июль' and day>22):\n",
    "    print('Ваш знак зодиака: Лев')\n",
    "elif (mounth == 'Сентябрь' and day<23) or (mounth == 'Август' and day>22):\n",
    "    print('Ваш знак зодиака: Дева')\n",
    "elif (mounth == 'Октябрь' and day<23) or (mounth == 'Сентябрь' and day>22):\n",
    "    print('Ваш знак зодиака: Весы')\n",
    "elif (mounth == 'Ноябрь' and day<22) or (mounth == 'Октябрь' and day>21):\n",
    "    print('Ваш знак зодиака: Скорпион')\n",
    "elif (mounth == 'Декабрь' and day<22) or (mounth == 'Ноябрь' and day>19):\n",
    "    print('Ваш знак зодиака: Стрелец')\n",
    "elif (mounth == 'Январь' and day<20) or (mounth == 'Декабрь' and day>18):\n",
    "    print('Ваш знак зодиака: Козерог')\n",
    "elif (mounth == 'Февраль' and day<19) or (mounth == 'Январь' and day>19):\n",
    "    print('Ваш знак зодиака: Водолей')\n",
    "else:\n",
    "    print('Некоректное значение месяца рождения. Пожалуйста, введите месяц рождения кирилицей с заглавной буквы (например \"Январь\", \"Февраль\", \"Март\"...)')"
   ]
  },
  {
   "cell_type": "markdown",
   "metadata": {},
   "source": [
    "### Задание 4\n",
    "Вам нужно написать программу для подбора упаковок по размерам товара. Размеры хранятся в переменных (в сантиметрах):\n",
    "\n",
    "* width\n",
    "* length\n",
    "* height\n",
    "\n",
    "Используйте следующие правила:\n",
    "\n",
    "* если каждое из трех измерений менее 15 сантиметров, то выведите на экран “Коробка №1”;\n",
    "* если хотя бы одно из измерений больше 15 сантиметров, но менее 50 сантиметров, то выводите “Коробка №2”;\n",
    "* если длина товара больше 2 метров, то выводите “Упаковка для лыж”;\n",
    "* во всех остальных случаях выводите “Стандартная коробка №3”."
   ]
  },
  {
   "cell_type": "code",
   "execution_count": 2,
   "metadata": {},
   "outputs": [
    {
     "name": "stdout",
     "output_type": "stream",
     "text": [
      "Введите ширину: 45\n",
      "Введите длину: 205\n",
      "Введите высоту: 45\n",
      "Упакова для лыж\n"
     ]
    }
   ],
   "source": [
    "width = int(input('Введите ширину: '))\n",
    "length = int(input('Введите длину: '))\n",
    "height = int(input('Введите высоту: '))\n",
    "\n",
    "if length > 200:\n",
    "    print('Упакова для лыж')\n",
    "elif width < 15 and length < 15 and height < 15:\n",
    "    print('Коробка №1')\n",
    "elif 50 > width > 15 or 50 > length > 15 or 50> height > 15:\n",
    "    print('Коробка №2')\n",
    "else: \n",
    "    print('Стандартная коробка №3')"
   ]
  },
  {
   "cell_type": "markdown",
   "metadata": {},
   "source": [
    "### Задание 5\n",
    "Дана переменная, в которой хранится шестизначное число (номер проездного билета). Напишите программу, которая будет определять, является ли данный билет “счастливым”. Билет считается счастливым, если сумма первых трех цифр совпадает с суммой последних трех цифр номера."
   ]
  },
  {
   "cell_type": "code",
   "execution_count": null,
   "metadata": {},
   "outputs": [],
   "source": [
    "number = int(input('Введите номер билета: '))\n",
    "if (number // 100000 + number % 100000 // 10000 + number % 10000 // 1000) == (number % 1000 // 100 + number % 100 // 10 + number % 10):\n",
    "    print ('Счастливый билет')\n",
    "else:\n",
    "    print ('Несчастливый билет')"
   ]
  },
  {
   "cell_type": "markdown",
   "metadata": {},
   "source": [
    "### Задание 6\n",
    "Напишите программу, которая сможет вычислять площади трех фигур (круг, треугольник и прямоугольник). Тип фигуры запрашиваем через пользовательский ввод, после чего делаем запрос характеристик фигуры:\n",
    "\n",
    "* если пользователь выбрал круг, запрашиваем его радиус,\n",
    "* если треугольник – длины трех его сторон;\n",
    "* если прямоугольник – длины двух его сторон."
   ]
  },
  {
   "cell_type": "code",
   "execution_count": null,
   "metadata": {},
   "outputs": [],
   "source": [
    "import math\n",
    "\n",
    "shape = (input('Введите тип фигуры: '))\n",
    "\n",
    "if shape=='Треугольник':\n",
    "    a=float(input('Введите длину стороны А: '))\n",
    "    b=float(input('Введите длину стороны B: '))\n",
    "    c=float(input('Введите длину стороны C: '))\n",
    "    \n",
    "    p=(a+b+c)/2\n",
    "    S=(p*(p-a)*(p-b)*(p-c))**0.5\n",
    "    \n",
    "    print('Площадь треугольника: ', round(S,2))\n",
    "    \n",
    "elif shape=='Прямоугольник':\n",
    "    a=float(input('Введите длину стороны А: '))\n",
    "    b=float(input('Введите длину стороны B: '))\n",
    "            \n",
    "    S= a*b\n",
    "            \n",
    "    print('Площадь прямоугольника: ', round(S,2))\n",
    "            \n",
    "elif shape=='Круг':\n",
    "    r=float(input('Введите радиус круга: '))\n",
    "            \n",
    "    S=math.pi*r**2\n",
    "            \n",
    "    print('Площадь круга: ',round(S,2))"
   ]
  }
 ],
 "metadata": {
  "kernelspec": {
   "display_name": "Python 3",
   "language": "python",
   "name": "python3"
  },
  "language_info": {
   "codemirror_mode": {
    "name": "ipython",
    "version": 3
   },
   "file_extension": ".py",
   "mimetype": "text/x-python",
   "name": "python",
   "nbconvert_exporter": "python",
   "pygments_lexer": "ipython3",
   "version": "3.7.7"
  }
 },
 "nbformat": 4,
 "nbformat_minor": 4
}
